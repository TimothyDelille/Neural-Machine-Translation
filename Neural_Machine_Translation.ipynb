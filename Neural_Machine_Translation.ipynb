{
  "nbformat": 4,
  "nbformat_minor": 0,
  "metadata": {
    "accelerator": "GPU",
    "colab": {
      "name": "Neural_Machine_Translation.ipynb",
      "provenance": [],
      "collapsed_sections": []
    },
    "kernelspec": {
      "display_name": "Python 3",
      "language": "python",
      "name": "python3"
    },
    "language_info": {
      "codemirror_mode": {
        "name": "ipython",
        "version": 3
      },
      "file_extension": ".py",
      "mimetype": "text/x-python",
      "name": "python",
      "nbconvert_exporter": "python",
      "pygments_lexer": "ipython3",
      "version": "3.6.9"
    }
  },
  "cells": [
    {
      "cell_type": "markdown",
      "metadata": {
        "colab_type": "text",
        "id": "CeUOYktpXtOz"
      },
      "source": [
        "# Neural Machine Translation"
      ]
    },
    {
      "cell_type": "markdown",
      "metadata": {
        "colab_type": "text",
        "id": "35m1Uv47jiNX"
      },
      "source": [
        "Implementation of a neural machine translation system using an **encoder-decoder architecture** with an **attention mechanism** for sequence-to-sequence modeling. The model achieves a **BLEU score of 36** on a German-to-English task, using **beam search**."
      ]
    },
    {
      "cell_type": "markdown",
      "metadata": {
        "colab_type": "text",
        "id": "xJBah2LGUS0d"
      },
      "source": [
        "## Setup\n",
        "\n",
        "We will use `pytorch` for modeling and training and `torchtext` for data collection.\n",
        "\n",
        "Furthermore, we use the BLEU score (see [Papineni et al., \"Bleu: a Method for Automatic Evaluation of Machine Translation\", 2002](aclweb.org/anthology/P02-1040.pdf)) to evaluate or translation system, with the `sacrebleu` library (see [Post, \"A Call for Clarity in Reporting BLEU Scores\", 2018](https://www.aclweb.org/anthology/W18-6319.pdf) and [GitHub page](https://github.com/mjpost/sacreBLEU)). SacreBLEU is meant to provide a standardized BLEU score evaluation.\n",
        "\n",
        "Finally, we will also use `sentencepiece` (see [Github page](https://github.com/google/sentencepiece)) for subword tokenization."
      ]
    },
    {
      "cell_type": "code",
      "metadata": {
        "colab_type": "code",
        "id": "4LV8KY6_unfe",
        "colab": {
          "base_uri": "https://localhost:8080/",
          "height": 258
        },
        "outputId": "43f37933-b761-49cb-fe22-2fc6901ee2f3"
      },
      "source": [
        "# Install and import dependencies\n",
        "# Install sacrebleu and sentencepiece\n",
        "!pip install --upgrade sacrebleu sentencepiece \n",
        "\n",
        "# Standard library imports\n",
        "import json\n",
        "import math\n",
        "import random\n",
        "\n",
        "# Third party imports\n",
        "import matplotlib.pyplot as plt\n",
        "import numpy as np\n",
        "import sacrebleu\n",
        "import sentencepiece\n",
        "import torch\n",
        "import torch.nn as nn\n",
        "import torch.nn.functional as F\n",
        "import torchtext\n",
        "import tqdm.notebook"
      ],
      "execution_count": 2,
      "outputs": [
        {
          "output_type": "stream",
          "text": [
            "Collecting sacrebleu\n",
            "\u001b[?25l  Downloading https://files.pythonhosted.org/packages/66/5b/cf661da8e9b0229f5d98c2961b072a5728fd11a0758957f8c0fd36081c06/sacrebleu-1.4.12-py3-none-any.whl (54kB)\n",
            "\u001b[K     |████████████████████████████████| 61kB 3.4MB/s \n",
            "\u001b[?25hCollecting sentencepiece\n",
            "\u001b[?25l  Downloading https://files.pythonhosted.org/packages/d4/a4/d0a884c4300004a78cca907a6ff9a5e9fe4f090f5d95ab341c53d28cbc58/sentencepiece-0.1.91-cp36-cp36m-manylinux1_x86_64.whl (1.1MB)\n",
            "\u001b[K     |████████████████████████████████| 1.1MB 13.6MB/s \n",
            "\u001b[?25hCollecting portalocker\n",
            "  Downloading https://files.pythonhosted.org/packages/3b/e7/ceef002a300a98a208232fab593183249b6964b306ee7dabb29908419cca/portalocker-1.7.1-py2.py3-none-any.whl\n",
            "Collecting mecab-python3==0.996.5\n",
            "\u001b[?25l  Downloading https://files.pythonhosted.org/packages/18/49/b55a839a77189042960bf96490640c44816073f917d489acbc5d79fa5cc3/mecab_python3-0.996.5-cp36-cp36m-manylinux2010_x86_64.whl (17.1MB)\n",
            "\u001b[K     |████████████████████████████████| 17.1MB 199kB/s \n",
            "\u001b[?25hInstalling collected packages: portalocker, mecab-python3, sacrebleu, sentencepiece\n",
            "Successfully installed mecab-python3-0.996.5 portalocker-1.7.1 sacrebleu-1.4.12 sentencepiece-0.1.91\n"
          ],
          "name": "stdout"
        }
      ]
    },
    {
      "cell_type": "markdown",
      "metadata": {
        "colab_type": "text",
        "id": "KNT_TURTwIlW"
      },
      "source": [
        "Let us verify that we're connected to a GPU runtime and that `torch` can detect the GPU. We define a variable `device` here to use throughout the code so that we can easily change to run on CPU for debugging."
      ]
    },
    {
      "cell_type": "code",
      "metadata": {
        "colab_type": "code",
        "id": "KYpIPtqtwVwh",
        "colab": {
          "base_uri": "https://localhost:8080/",
          "height": 34
        },
        "outputId": "ef9b7692-664c-4bbd-81fa-7d63d3fcccd4"
      },
      "source": [
        "assert torch.cuda.is_available()\n",
        "device = torch.device(\"cuda\")\n",
        "print(\"Using device:\", device)"
      ],
      "execution_count": 3,
      "outputs": [
        {
          "output_type": "stream",
          "text": [
            "Using device: cuda\n"
          ],
          "name": "stdout"
        }
      ]
    },
    {
      "cell_type": "markdown",
      "metadata": {
        "colab_type": "text",
        "id": "We4sTUA5j0Ab"
      },
      "source": [
        "We use the [Multi30K dataset](https://arxiv.org/abs/1605.00459) (Elliott et al., 2016), which contains English and German captions for images from Flickr. The Multi30K dataset because is simpler than standard translation benchmark datasets and allows for models to be trained and evaluated in a matter of minutes rather than days.\n",
        "\n"
      ]
    },
    {
      "cell_type": "code",
      "metadata": {
        "colab_type": "code",
        "id": "Gr9PbArCvCT0",
        "colab": {
          "base_uri": "https://localhost:8080/",
          "height": 119
        },
        "outputId": "0a9a76d6-83e3-42c6-ddeb-85434cafe5aa"
      },
      "source": [
        "extensions = [\".de\", \".en\"]\n",
        "source_field = torchtext.data.Field(tokenize=lambda x: x) \n",
        "# this does not apply any tokenization, we will use SentencePiece to tokenize the data\n",
        "# the default tokenizer of the Field function is str.split\n",
        "target_field = torchtext.data.Field(tokenize=lambda x: x)\n",
        "training_data, validation_data, test_data = torchtext.datasets.Multi30k.splits(extensions, [source_field, target_field], root=\".\")\n"
      ],
      "execution_count": 4,
      "outputs": [
        {
          "output_type": "stream",
          "text": [
            "downloading training.tar.gz\n"
          ],
          "name": "stdout"
        },
        {
          "output_type": "stream",
          "text": [
            "training.tar.gz: 100%|██████████| 1.21M/1.21M [00:01<00:00, 640kB/s]\n"
          ],
          "name": "stderr"
        },
        {
          "output_type": "stream",
          "text": [
            "downloading validation.tar.gz\n"
          ],
          "name": "stdout"
        },
        {
          "output_type": "stream",
          "text": [
            "validation.tar.gz: 100%|██████████| 46.3k/46.3k [00:00<00:00, 174kB/s]\n"
          ],
          "name": "stderr"
        },
        {
          "output_type": "stream",
          "text": [
            "downloading mmt_task1_test2016.tar.gz\n"
          ],
          "name": "stdout"
        },
        {
          "output_type": "stream",
          "text": [
            "mmt_task1_test2016.tar.gz: 100%|██████████| 66.2k/66.2k [00:00<00:00, 162kB/s]\n"
          ],
          "name": "stderr"
        }
      ]
    },
    {
      "cell_type": "markdown",
      "metadata": {
        "colab_type": "text",
        "id": "5Mo0tnIbnQz8"
      },
      "source": [
        "We can iterate over the datasets `training_data`, `validation_data` and `test_data`. For each example in a dataset, the source and targets are accessible with `example.src` and `example.trg` respectively.\n",
        " \n",
        "Let us create a joint German-English subword vocabulary from the training corpus using `sentencepiece`. Since the number of training examples is small, we can choose a smaller vocabulary size than would be used for large-scale NMT. \n",
        "\n",
        "The vocabulary consists of four special tokens (`<pad>` for padding, `<s>` for beginning of sentence (BOS), `</s>` for end of sentence (EOS), `<unk>` for unknown) and a mixture of German and English words and subwords. In order to ensure reversability, word boundaries are encoded with a special unicode character \"▁\" (U+2581)."
      ]
    },
    {
      "cell_type": "code",
      "metadata": {
        "colab_type": "code",
        "id": "8xSUaso9vo1V",
        "colab": {
          "base_uri": "https://localhost:8080/",
          "height": 34
        },
        "outputId": "ce9de43f-0057-4983-ec33-4a8f0ac87961"
      },
      "source": [
        "args = {\n",
        "    \"pad_id\": 0,\n",
        "    \"bos_id\": 1,\n",
        "    \"eos_id\": 2,\n",
        "    \"unk_id\": 3,\n",
        "    \"input\": \"multi30k/train.de,multi30k/train.en\",\n",
        "    \"vocab_size\": 8000,\n",
        "    \"model_prefix\": \"multi30k\",\n",
        "}\n",
        "combined_args = \" \".join(\"--{}={}\".format(key, value) for key, value in args.items())\n",
        "sentencepiece.SentencePieceTrainer.Train(combined_args) \n",
        "\n",
        "# this creates two files: multi30k.model (binary file with relevant data for the vocab) \n",
        "# and multi30k.vocab (human readable listing of each subword and its associated emission log probability)\n",
        "\n",
        "# preview the first few rows from the human-readable file using \"!head -n 10 multi30k.vocab\"\n",
        "\n",
        "# load the vocabulary from the binary file produced above\n",
        "vocab = sentencepiece.SentencePieceProcessor()\n",
        "vocab.Load(\"multi30k.model\")"
      ],
      "execution_count": 5,
      "outputs": [
        {
          "output_type": "execute_result",
          "data": {
            "text/plain": [
              "True"
            ]
          },
          "metadata": {
            "tags": []
          },
          "execution_count": 5
        }
      ]
    },
    {
      "cell_type": "markdown",
      "metadata": {
        "colab_type": "text",
        "id": "1sLfI6vDriWK"
      },
      "source": [
        "The vocabulary object includes a number of methods for working with full sequences or individual pieces. \n",
        "\n",
        "For instance:\n",
        "* `vocab.EncodeAsPieces(sentence)` returns a list of subword pieces encoded from a string\n",
        "* `vocab.EncodeAsIds(sentence)` returns a list of subword vocabulary ids encoded from a string\n",
        "* `vocab.DecodePieces(pieces)` and `vocab.DecodeIds(ids)` return the original string from a list of subword pieces and ids respectively\n",
        "\n",
        "The beginning of sentence, end of sentence and padding tokens will get filtered out when decoding.\n",
        "\n",
        "A complete interface can be found on SentencePiece's [GitHub documentation](https://github.com/google/sentencepiece/tree/master/python#usage)."
      ]
    },
    {
      "cell_type": "code",
      "metadata": {
        "colab_type": "code",
        "id": "xheKi30BVVJC",
        "colab": {}
      },
      "source": [
        "# define some constants for the first three special tokens\n",
        "\n",
        "pad_id = vocab.PieceToId(\"<pad>\")\n",
        "bos_id = vocab.PieceToId(\"<s>\")\n",
        "eos_id = vocab.PieceToId(\"</s>\")"
      ],
      "execution_count": 6,
      "outputs": []
    },
    {
      "cell_type": "markdown",
      "metadata": {
        "colab_type": "text",
        "id": "7xIg5y_xynkU"
      },
      "source": [
        "The `make_batch` function converts a list of sentences (of different legnths) into a batch of subword indices with shape `(maximum sequence length, batch size)`, where `maximum sequence length` is the length of the longest sentence encoded by the subword vocabulary. We first augment the sentence using beginning of sentence and end of sentence tokens and then use `pytorch`'s `pad_sequence` function to pad the variable-length sequences to a fixed length using the padding token.\n",
        "\n",
        "<img src='Padded Sequence.png' style='height:7rem'/>\n"
      ]
    },
    {
      "cell_type": "code",
      "metadata": {
        "colab_type": "code",
        "id": "Q-bI4Im30Ezp",
        "colab": {}
      },
      "source": [
        "def make_batch(sentences):\n",
        "    \"\"\"\n",
        "    Args:\n",
        "        sentences: A list of sentences, each of which is a string.\n",
        "    Returns:\n",
        "        A LongTensor of size (max_sequence_length, batch_size) containing the\n",
        "        subword indices for the sentences.\n",
        "    \"\"\"\n",
        "\n",
        "    sequences = [torch.tensor([bos_id] + vocab.EncodeAsIds(sentence) + [eos_id]) for sentence in sentences]\n",
        "    sequences = nn.utils.rnn.pad_sequence(sequences, padding_value = pad_id, batch_first = False).to(device)\n",
        "    return sequences\n",
        "\n",
        "def make_batch_iterator(dataset, batch_size, shuffle=False):\n",
        "    \"\"\"Make a batch iterator that yields source-target pairs.\n",
        "\n",
        "    Args:\n",
        "        dataset: A torchtext dataset object.\n",
        "        batch_size: An integer batch size.\n",
        "        shuffle: A boolean indicating whether to shuffle the examples.\n",
        "\n",
        "    Yields:\n",
        "        Pairs of tensors constructed by calling the make_batch function on the\n",
        "        source and target sentences in the current group of examples. The max\n",
        "        sequence length can differ between the source and target tensor, but the\n",
        "        batch size will be the same. The final batch may be smaller than the given\n",
        "        batch size.\n",
        "    \"\"\"\n",
        "\n",
        "    examples = list(dataset)\n",
        "    if shuffle:\n",
        "        random.shuffle(examples) # the function shuffles in place\n",
        "\n",
        "    for start_index in range(0, len(examples), batch_size):\n",
        "        example_batch = examples[start_index:start_index + batch_size] \n",
        "        # it is okay if start_index + batch_size > len(examples), only the minimum of the two will be selected\n",
        "        source_sentences = [example.src for example in example_batch]\n",
        "        target_sentences = [example.trg for example in example_batch]\n",
        "        yield make_batch(source_sentences), make_batch(target_sentences)\n",
        "\n",
        "# The yield statement suspends a function’s execution \n",
        "# and sends a value back to the caller, but retains enough state \n",
        "# to enable function to resume where it is left off"
      ],
      "execution_count": 7,
      "outputs": []
    },
    {
      "cell_type": "markdown",
      "metadata": {
        "colab_type": "text",
        "id": "KiSPP3tdyaid"
      },
      "source": [
        "## The model: biLSTM encoder & LSTM decoder with attention"
      ]
    },
    {
      "cell_type": "markdown",
      "metadata": {
        "colab_type": "text",
        "id": "gGIIy0230Zdc"
      },
      "source": [
        "The model consists of a **bidirectional LSTM encoder** that encodes the input sentence into a fixed-size representation, and an **LSTM decoder** that uses this representation to produce the output sentence. For background on bilinear RNNs and encoder-decoder architectures, see [Jurafsky & Martin, \"Speech and Language Processing\" Chapter 9 and 10](https://web.stanford.edu/~jurafsky/slp3/) respectively.\n",
        "\n",
        "### The bidirectional LSTM encoder\n",
        "\n",
        "The motivation behind the bidirectional LSTM encoder is to exploit the fact that we have access to the entire input sequence at once during training. Therefore, we use the context to the left of the current input word (forward LSTM) as well as the context to the right of the current input word (backward LSTM):\n",
        "\n",
        "<img src='bilinear LSTM.png'/>\n",
        "\n",
        "For a given word, the states (state = hidden state and context vector) of the forward LSTM and backward LSTM are concatenated. We then perform an operation the backward and forward states (e.g. sum, average, linear transformation). The following figure sums up this model architecture:\n",
        "\n",
        "<img src='LSTM architecture.png'/>\n",
        "\n",
        "We will also include a dropout of $0.5$ between LSTM layers.\n",
        "\n",
        "### How is the network trained?\n",
        "\n",
        "To compute the loss, we pass the source sentence (in German) through the encoder to get the hidden state and context vector of the last word in the sentence (i.e. the state of the entire encoded sentence). We then pass the words $1$ to $n-1$ of the target sentence (in English) as input to the decoder to predict the words $2$ to $n$. \n",
        "\n",
        "Each input word at position $k$ is responsible for predicting a probability distribution over the vocabulary which should assign a probability of $1$ to the word in position $k+1$ and $0$ everywhere else. We compare the predicted and target distribution using the cross entropy loss, which is then averaged over the whole batch.\n",
        "\n",
        "In the following example, the decoder input `<bos>` is responsible for predicting `A`, `A` is responsible for predicting `little`, and so on (the last target is the `<eos>` token). Each step uses the previous step's hidden state (which encompasses the hidden state of the whole sentence up to this last word) to predict the current vocabulary distribution.\n",
        "\n",
        "<img src='loss computation.png' style='height:50rem'/>\n",
        "\n",
        "### Including attention\n",
        "\n",
        "Next, we extend the baseline model to include an **attention mechanism** in the decoder. This circumvents the need to store all information about the source sentence in a fixed-size representation (e.g. the final hidden state, which inevitably is more focused on the latter parts of the input sequence).\n",
        "\n",
        "We will implement **bilinear attention**, where the attention distribution over the encoder outputs $e_1, \\dots, e_n$ given a decoder LSTM output $d$ is obtained via a softmax of the dot products after a suitable projection: $\\alpha_i \\propto \\exp ( e_i^\\top W d )$. The unnormalized attention logits for encoder outputs corresponding to padding tokens should be offset with a large negative value to ensure that the corresponding attention weights are $0$.\n",
        "\n",
        "<img src='attention1.png'/>\n",
        "\n",
        "After computing the attention distribution, we take a weighted sum of the encoder outputs to obtain the attention context $c = \\sum_i \\alpha_i e_i$, and add this to the decoder output $d$ to obtain the final representation to be passed to the vocabulary projection layer (we may need another linear layer to make the sizes match before adding $c$ and $d$).\n",
        "\n",
        "<img src='attention2.png'/>"
      ]
    },
    {
      "cell_type": "code",
      "metadata": {
        "colab_type": "code",
        "id": "Dz3pUko2L8Fj",
        "colab": {}
      },
      "source": [
        "class Seq2seqAttention(nn.Module):\n",
        "  def __init__(self):\n",
        "    super().__init__()\n",
        "\n",
        "    vocab_size = vocab.GetPieceSize()\n",
        "    self.embedding = nn.Embedding(vocab_size, 256)\n",
        "    self.lstm_encoder = nn.LSTM(256, 256, 2, dropout = 0.5, bidirectional = True)\n",
        "    self.lstm_decoder = nn.LSTM(256, 256, 2, dropout = 0.5)\n",
        "    self.linear = nn.Linear(256,vocab_size)\n",
        "    self.W = nn.Linear(2*256, 256, bias=False)\n",
        "    self.proj = nn.Linear(512,256, bias=False)\n",
        "\n",
        "  def encode(self, source):\n",
        "    \"\"\"\n",
        "    Args:\n",
        "      source: An integer tensor with shape (max_source_sequence_length,\n",
        "        batch_size) containing subword indices for the source sentences.\n",
        "\n",
        "    Returns:\n",
        "      A tuple with three elements:\n",
        "        encoder_output: The output (states of each word in the sequences) of the bidirectional LSTM with shape\n",
        "          (max_source_sequence_length, batch_size, 2 * hidden_size)\n",
        "          2 * hidden_size comes from the concatenated hidden states of the bidirectional LSTM\n",
        "\n",
        "        encoder_mask: A boolean tensor with shape (max_source_sequence_length,\n",
        "          batch_size) indicating which encoder outputs correspond to padding\n",
        "          tokens.\n",
        "\n",
        "        encoder_hidden: The final hidden states of the bidirectional LSTM (after\n",
        "          a suitable projection) that will be used to initialize the decoder.\n",
        "          This should be a pair of tensors (h_n, c_n), each with shape\n",
        "          (num_layers, batch_size, hidden_size). Note that the hidden state\n",
        "          returned by the LSTM cannot be used directly. Its initial dimension is\n",
        "          twice the required size because it contains state from two directions.\n",
        "    \"\"\"\n",
        "    batch_size = source.shape[1]\n",
        "    x = self.embedding(source).view(-1, batch_size, 256)\n",
        "\n",
        "    # initialize the hidden state and context vector to zero\n",
        "    # define it on the cuda device or colab will crash\n",
        "    h_0 = torch.zeros(4, batch_size, 256, device=device)\n",
        "    c_0 = torch.zeros(4, batch_size, 256, device=device)\n",
        "\n",
        "    output, hidden = self.lstm_encoder(x, (h_0, c_0))\n",
        "    h_n, c_n = hidden\n",
        "\n",
        "    # take the sum of the hidden states and context vectors from both directions\n",
        "    h_n = h_n[:2,:,:] + h_n[2:,:,:]\n",
        "    c_n = c_n[:2,:,:] + c_n[2:,:,:]\n",
        "\n",
        "    # use a large negative number like -1e9 instead of float(\"-inf\") when\n",
        "    # masking padding tokens to avoid numerical issues.\n",
        "    mask = torch.zeros_like(source).masked_fill_(source == pad_id, -1e9)\n",
        "\n",
        "    return output, mask, (h_n, c_n)\n",
        "\n",
        "  def decode(self, decoder_input, initial_hidden, encoder_output, encoder_mask):\n",
        "    \"\"\"\n",
        "    Run the LSTM decoder starting from an initial hidden state.\n",
        "\n",
        "    Args:\n",
        "      decoder_input: An integer tensor with shape (max_decoder_sequence_length,\n",
        "        batch_size) containing the subword indices for the decoder input. During\n",
        "        evaluation, where decoding proceeds one step at a time, the initial\n",
        "        dimension should be 1.\n",
        "\n",
        "      initial_hidden: A pair of tensors (h_0, c_0) representing the initial\n",
        "        state of the decoder, each with shape (num_layers, batch_size,\n",
        "        hidden_size), this corresponds to the output \"encoder_hidden\" in the \n",
        "        above function.\n",
        "\n",
        "      encoder_output: The output of the encoder with shape\n",
        "        (max_source_sequence_length, batch_size, 2 * hidden_size).\n",
        "\n",
        "      encoder_mask: The output mask from the encoder with shape\n",
        "        (max_source_sequence_length, batch_size). Encoder outputs at positions \n",
        "        that correspond to padding tokens and should be ignored.\n",
        "\n",
        "    Returns:\n",
        "      A tuple with three elements:\n",
        "        logits: A tensor with shape (max_decoder_sequence_length, batch_size,\n",
        "          vocab_size) containing unnormalized scores for the next-word\n",
        "          predictions at each position.\n",
        "\n",
        "        decoder_hidden: A pair of tensors (h_n, c_n) with the same shape as\n",
        "          initial_hidden representing the updated decoder state after processing\n",
        "          the decoder input.\n",
        "\n",
        "        attention_weights: A tensor with shape (max_decoder_sequence_length,\n",
        "          batch_size, max_source_sequence_length) representing the normalized\n",
        "          attention weights. This should sum to 1 along the last dimension.\n",
        "    \"\"\"\n",
        "    # define some useful constants\n",
        "    max_source_len = encoder_output.shape[0]\n",
        "    max_decoder_len = decoder_input.shape[0]\n",
        "    batch_size = decoder_input.shape[1]\n",
        "\n",
        "    x = self.embedding(decoder_input).view(-1, batch_size, 256)\n",
        "    decoder_output, decoder_hidden = self.lstm_decoder(x, initial_hidden) # decoder_output has shape (max_decoder_len, batch_size, 256)\n",
        "\n",
        "    alpha = self.W(encoder_output) # (max_source_len, batch_size, 512 -> 256)\n",
        "    alpha = torch.einsum('lik,mik->lim', [alpha, decoder_output]) # (max_source_len, batch_size, max_decoder_len)\n",
        "    # See https://rockt.github.io/2018/04/30/einsum for a tutorial on the function `einsum`.\n",
        "\n",
        "    # mask padding tokens\n",
        "    alpha = F.softmax(alpha + encoder_mask.unsqueeze(2).repeat(1,1,max_decoder_len), dim = 0) # (max_source_len, batch_size, max_decoder_len)\n",
        "\n",
        "    c = torch.einsum('nil,nih->lih', [alpha, encoder_output])\n",
        "    logits = self.proj(c) + decoder_output\n",
        "    logits = self.linear(logits)\n",
        "    return logits, decoder_hidden, alpha\n",
        "\n",
        "  def compute_loss(self, source, target):\n",
        "    \"\"\"\n",
        "    Run the model on the source and compute the loss on the target.\n",
        "\n",
        "    Args:\n",
        "      source: An integer tensor with shape (max_source_sequence_length,\n",
        "        batch_size) containing subword indices for the source sentences.\n",
        "      target: An integer tensor with shape (max_target_sequence_length,\n",
        "        batch_size) containing subword indices for the target sentences.\n",
        "\n",
        "    Returns:\n",
        "      A scalar float tensor representing cross-entropy loss on the current batch.\n",
        "    \"\"\"\n",
        "    vocab_size = vocab.GetPieceSize()\n",
        "    batch_size = source.shape[1]\n",
        "    encoder_output, encoder_mask, hidden = self.encode(source)\n",
        "    decoder_input = target[:-1]\n",
        "    logits, _, _ = self.decode(decoder_input, hidden, encoder_output, encoder_mask)\n",
        "    loss = F.cross_entropy(logits.permute(1, 2, 0), target[1:].permute(1,0)) \n",
        "    # put the batch dimension first and vocab dimension second\n",
        "    return loss.mean()"
      ],
      "execution_count": 8,
      "outputs": []
    },
    {
      "cell_type": "markdown",
      "metadata": {
        "colab_type": "text",
        "id": "jx9jJQb58nUY"
      },
      "source": [
        "We define the following functions for training. We use `pytorch`'s implementation of Adam optimizer ([Adam: A Method for Stochastic Optimization by Diederik et al. (2017)](https://arxiv.org/abs/1412.6980)) with default parameters (we could also include learning rate decay).\n"
      ]
    },
    {
      "cell_type": "code",
      "metadata": {
        "colab_type": "code",
        "id": "VKc1pwaZzcUN",
        "colab": {}
      },
      "source": [
        "def train(model, num_epochs, batch_size, model_file):\n",
        "  \"\"\"Train the model and save its best checkpoint.\n",
        "  \n",
        "  Model performance across epochs is evaluated using token-level accuracy on the\n",
        "  validation set. The best checkpoint obtained during training will be stored on\n",
        "  disk and loaded back into the model at the end of training.\n",
        "  \"\"\"\n",
        "  optimizer = torch.optim.Adam(model.parameters())\n",
        "  best_accuracy = 0.0\n",
        "  for epoch in tqdm.notebook.trange(num_epochs, desc=\"training\", unit=\"epoch\"):\n",
        "    with tqdm.notebook.tqdm(\n",
        "        make_batch_iterator(training_data, batch_size, shuffle=True),\n",
        "        desc=\"epoch {}\".format(epoch + 1),\n",
        "        unit=\"batch\",\n",
        "        total=math.ceil(len(training_data) / batch_size)) as batch_iterator: # define tqdm progress bar\n",
        "      model.train() # put model in train mode\n",
        "      total_loss = 0.0\n",
        "      for i, (source, target) in enumerate(batch_iterator, start=1):\n",
        "        optimizer.zero_grad()\n",
        "        loss = model.compute_loss(source, target)\n",
        "        total_loss += loss.item()\n",
        "        loss.backward()\n",
        "        optimizer.step()\n",
        "        batch_iterator.set_postfix(mean_loss=total_loss / i) # Specify additional stats to display at the end of the tqdm progress bar\n",
        "      validation_perplexity, validation_accuracy = evaluate_next_token(\n",
        "          model, validation_data)\n",
        "      batch_iterator.set_postfix(\n",
        "          mean_loss=total_loss / i,\n",
        "          validation_perplexity=validation_perplexity,\n",
        "          validation_token_accuracy=validation_accuracy)\n",
        "      if validation_accuracy > best_accuracy: # only save checkpoint of the model if validation accuracy improved (prevents overfitting)\n",
        "        print(\n",
        "            \"Obtained a new best validation accuracy of {:.2f}, saving model \"\n",
        "            \"checkpoint to {}...\".format(validation_accuracy, model_file))\n",
        "        torch.save(model.state_dict(), model_file)\n",
        "        best_accuracy = validation_accuracy\n",
        "  print(\"Reloading best model checkpoint from {}...\".format(model_file)) # load the best model after training\n",
        "  model.load_state_dict(torch.load(model_file))\n",
        "\n",
        "def evaluate_next_token(model, dataset, batch_size=64):\n",
        "  \"\"\"Compute token-level perplexity and accuracy metrics.\n",
        "\n",
        "  Note that the perplexity here is over subwords, not words.\n",
        "  \n",
        "  This function is used for validation set evaluation at the end of each epoch\n",
        "  \"\"\"\n",
        "  model.eval()\n",
        "  total_cross_entropy = 0.0\n",
        "  total_predictions = 0\n",
        "  correct_predictions = 0\n",
        "  with torch.no_grad():\n",
        "    for source, target in make_batch_iterator(dataset, batch_size):\n",
        "      encoder_output, encoder_mask, encoder_hidden = model.encode(source)\n",
        "      decoder_input, decoder_target = target[:-1], target[1:]\n",
        "      logits, decoder_hidden, attention_weights = model.decode(\n",
        "          decoder_input, encoder_hidden, encoder_output, encoder_mask)\n",
        "      total_cross_entropy += F.cross_entropy(\n",
        "          logits.permute(1, 2, 0), decoder_target.permute(1, 0),\n",
        "          ignore_index=pad_id, reduction=\"sum\").item() \n",
        "          # specify ignore_index = pad_id to not take the padding tokens into account in the loss\n",
        "      total_predictions += (decoder_target != pad_id).sum().item()\n",
        "      correct_predictions += (\n",
        "          (decoder_target != pad_id) &\n",
        "          (decoder_target == logits.argmax(2))).sum().item()\n",
        "  perplexity = math.exp(total_cross_entropy / total_predictions)\n",
        "  accuracy = 100 * correct_predictions / total_predictions\n",
        "  return perplexity, accuracy"
      ],
      "execution_count": 9,
      "outputs": []
    },
    {
      "cell_type": "markdown",
      "metadata": {
        "colab_type": "text",
        "id": "GZYFBChe8-2F"
      },
      "source": [
        "Since we haven't yet defined a decoding method to output an entire string, we will measure performance for now by computing perplexity and the accuracy of predicting the next token given a gold prefix of the output."
      ]
    },
    {
      "cell_type": "code",
      "metadata": {
        "colab_type": "code",
        "id": "lel8fXMBs5M4",
        "colab": {
          "base_uri": "https://localhost:8080/",
          "height": 85
        },
        "outputId": "eed7a6fa-d046-45eb-bf00-63cf7195733d"
      },
      "source": [
        "# Run this code to load a pre-trained model\n",
        "\n",
        "attention_model = Seq2seqAttention().to(device)\n",
        "model_file = 'attention_model.pt'\n",
        "attention_model.load_state_dict(torch.load(model_file))\n",
        "\n",
        "p, a = evaluate_next_token(attention_model, validation_data)\n",
        "print('\\nPerplexity: {}\\nAccuracy: {}\\n'.format(p,a))"
      ],
      "execution_count": 10,
      "outputs": [
        {
          "output_type": "stream",
          "text": [
            "\n",
            "Perplexity: 6.391459564401712\n",
            "Accuracy: 65.22867737948084\n",
            "\n"
          ],
          "name": "stdout"
        }
      ]
    },
    {
      "cell_type": "code",
      "metadata": {
        "colab_type": "code",
        "id": "thNLsZ04Z0A-",
        "colab": {}
      },
      "source": [
        "# Run this code to train the model from scratch\n",
        " \n",
        "num_epochs = 10\n",
        "batch_size = 16\n",
        "\n",
        "attention_model = Seq2seqAttention().to(device)\n",
        "train(attention_model, num_epochs, batch_size, \"attention_model.pt\")"
      ],
      "execution_count": null,
      "outputs": []
    },
    {
      "cell_type": "markdown",
      "metadata": {
        "colab_type": "text",
        "id": "FHGwBa1sp3Kx"
      },
      "source": [
        "### Generate Predictions\n",
        "\n",
        "For evaluation, we also need to be able to generate entire strings from the model. We will first define a greedy inference procedure here. Later on, we will implement beam search."
      ]
    },
    {
      "cell_type": "markdown",
      "metadata": {
        "colab_type": "text",
        "id": "ShHWBdEMRZIJ"
      },
      "source": [
        "#### Greedy Search\n",
        "\n",
        "At each step we select the word with the highest logit score to be added to the prediction string. \n",
        "\n",
        "<img src='Greedy_Decoding.png'/>\n",
        "\n",
        "The implementation is batched, meaning we make only one call to `model.encode()` at the start of the function, and make only one call to `model.decode()` at each inference step.\n",
        "\n",
        "Once an EOS token has been been generated, we force the output for that prediction to be padding tokens in all subsequent time steps by adding a large positive number (1e9 e.g.) to the appropriate logits.\n"
      ]
    },
    {
      "cell_type": "code",
      "metadata": {
        "colab_type": "code",
        "id": "dXG0VTLvRvzp",
        "colab": {}
      },
      "source": [
        "def predict_greedy(model, sentences, max_length=20):\n",
        "    \"\"\"Make predictions for the given inputs using greedy inference.\n",
        "    \n",
        "    Args:\n",
        "        model: A sequence-to-sequence model.\n",
        "        sentences: A list of input sentences, represented as strings.\n",
        "        max_length: The maximum length at which to truncate outputs in order to\n",
        "        avoid non-terminating inference.\n",
        "    \n",
        "    Returns:\n",
        "        A list of predicted translations, represented as strings.\n",
        "    \"\"\"\n",
        "    vocab_size = vocab.GetPieceSize()\n",
        "    source = make_batch(sentences)\n",
        "    encoder_output, encoder_mask, decoder_hidden = model.encode(source)\n",
        "    batch_size = len(sentences)\n",
        "    target = np.array([bos_id for _ in range(batch_size)]).reshape(1,batch_size)\n",
        "    counter_eos = np.zeros(batch_size)\n",
        "    cpt = 1\n",
        "    scores = np.zeros((1,batch_size)) #enlever\n",
        "    #print(decoder_hidden[0])\n",
        "    while counter_eos.sum() < batch_size and cpt<max_length:\n",
        "        cpt+=1\n",
        "        decoder_input = torch.tensor(target[-1, :], device = device).unsqueeze(0)\n",
        "        logits, decoder_hidden, _ = model.decode(decoder_input, decoder_hidden, encoder_output, encoder_mask)\n",
        "        logits  = F.log_softmax(logits, dim = -1) #ENLEVER\n",
        "        logits = logits.detach().cpu().numpy().reshape(batch_size, vocab_size)\n",
        "        pred = np.argmax(logits, axis = 1).reshape(1, batch_size)\n",
        "        new_scores = np.max(logits, axis = 1).reshape(1, batch_size) #enlever\n",
        "        #print('score', scores)\n",
        "        scores = scores + new_scores #enlever\n",
        "        #print('new', new_scores)\n",
        "        pred = np.where(counter_eos == 1, pad_id, pred)\n",
        "        counter_eos = np.where(pred == eos_id, 1, counter_eos)\n",
        "        target = np.concatenate((target, pred), axis = 0)\n",
        "    target = target.T.tolist()\n",
        "    target = [vocab.DecodeIds(row) for row in target]\n",
        "    return target\n",
        "        \n",
        "def evaluate(model, dataset, batch_size=64, method=\"greedy\"):\n",
        "  assert method in {\"greedy\", \"beam\"}\n",
        "  source_sentences = [example.src for example in dataset]\n",
        "  target_sentences = [example.trg for example in dataset]\n",
        "  model.eval()\n",
        "  predictions = []\n",
        "  with torch.no_grad():\n",
        "    for start_index in range(0, len(source_sentences), batch_size):\n",
        "      if method == \"greedy\":\n",
        "        prediction_batch = predict_greedy(\n",
        "            model, source_sentences[start_index:start_index + batch_size])\n",
        "      else:\n",
        "        prediction_batch = predict_beam(\n",
        "            model, source_sentences[start_index:start_index + batch_size])\n",
        "        prediction_batch = [candidates[0] for candidates in prediction_batch]\n",
        "      predictions.extend(prediction_batch)\n",
        "  return sacrebleu.corpus_bleu(predictions, [target_sentences]).score"
      ],
      "execution_count": 11,
      "outputs": []
    },
    {
      "cell_type": "code",
      "metadata": {
        "colab_type": "code",
        "id": "RJjDoBj_PMUG",
        "colab": {
          "base_uri": "https://localhost:8080/",
          "height": 34
        },
        "outputId": "f3491ab8-e6ad-4a03-f5e6-00be0bc44d0d"
      },
      "source": [
        "print(\"Attention model validation BLEU using greedy search:\",\n",
        "      evaluate(attention_model, validation_data))"
      ],
      "execution_count": 12,
      "outputs": [
        {
          "output_type": "stream",
          "text": [
            "Attention model validation BLEU using greedy search: 35.29444453352635\n"
          ],
          "name": "stdout"
        }
      ]
    },
    {
      "cell_type": "markdown",
      "metadata": {
        "colab_type": "text",
        "id": "u15C5gGLMVSa"
      },
      "source": [
        "## Beam Search"
      ]
    },
    {
      "cell_type": "markdown",
      "metadata": {
        "colab_type": "text",
        "id": "Glr79upaYV2c"
      },
      "source": [
        "the order of the reshaoe and view function is very important"
      ]
    },
    {
      "cell_type": "markdown",
      "metadata": {
        "colab_type": "text",
        "id": "R7I01Tl1MYR9"
      },
      "source": [
        "Greedy search leads to suboptimal results. By keeping only the single best hypothesis at each time step, we do not explore other candidates which could lead to greater scores on subsequent steps. In order to explore the search space a little more, we implement beam search.\n",
        "\n",
        "As in greedy search, beam search generates one token at a time. However, rather than keeping only the single best hypothesis, we instead keep the top $k$ candidates at each time step. This is accomplished by computing the set of next-token extensions for each item on the beam and finding the top $k$ across all candidates according to total log-probability.\n",
        "\n",
        "Candidates that are finished should stay on the beam through the end of inference. The search process concludes once all $k$ items on the beam are complete.\n",
        "\n",
        "As in greedy search, the implementation is batched and once an EOS token has been generated, we force the output for that candidate to be padding tokens in all subsequent time steps by adding a large positive number like 1e9 to the appropriate logits. This will ensure that the candidate stays on the beam, as its probability will be very close to 1 and its score will effectively remain the same as when it was first completed.  All other (invalid) token continuations will have extremely low log probability and will not make it onto the beam.\n",
        "\n",
        "<img src='beam_search.png' style='height:30rem'/>\n",
        "\n",
        "<center>Figure taken from <span style='font-style:italic'>Jurafsky & Martin</span>.</center>\n",
        "\n",
        "Moreover, some special care will need to be taken on the first iteration to ensure that the beam doesn't fill up with k identical copies of the same candidate.\n",
        "\n",
        "Note: for $k = 1$, we should observe the same predictions as in greedy search."
      ]
    },
    {
      "cell_type": "code",
      "metadata": {
        "colab_type": "code",
        "id": "FSklbSV9MWhG",
        "colab": {}
      },
      "source": [
        "def predict_beam(model, sentences, k=5, max_length=20):\n",
        "    \"\"\"Make predictions for the given inputs using beam search.\n",
        "    \n",
        "    Args:\n",
        "        model: A sequence-to-sequence model.\n",
        "        sentences: A list of input sentences, represented as strings.\n",
        "        k: The size of the beam.\n",
        "        max_length: The maximum length at which to truncate outputs in order to\n",
        "        avoid non-terminating inference.\n",
        "  \n",
        "    Returns:\n",
        "        A list of beam predictions. Each element in the list should be a list of k\n",
        "        strings corresponding to the top k predictions for the corresponding input,\n",
        "        sorted in descending order by score.\n",
        "    \"\"\"\n",
        "    vocab_size = vocab.GetPieceSize()\n",
        "    batch_size = len(sentences)\n",
        "\n",
        "    source = make_batch(sentences)\n",
        "    source = source.repeat(1,k) # (max_source_length, k*batch_size)\n",
        "    encoder_output, encoder_mask, decoder_hidden = model.encode(source)\n",
        "\n",
        "    targets = bos_id*torch.ones(1, k, batch_size, device = device, dtype = torch.long)\n",
        "    # shape: (number of words in target sequence, k candidates, batch_size)\n",
        "\n",
        "    counter = 0\n",
        "    with torch.no_grad():\n",
        "\n",
        "        while counter < max_length:\n",
        "            counter += 1\n",
        "            \n",
        "            logits, decoder_hidden, _ = model.decode(targets[-1,:,:].view(1, k*batch_size), decoder_hidden, encoder_output, encoder_mask)\n",
        "\n",
        "            # logits has shape (current length, k*batch_size, vocab_size)\n",
        "            logits = logits.view(-1, k, batch_size, vocab_size)\n",
        "            logits = logits[-1, :, :, :] # we only keep the prediction of the target sequence's last word\n",
        "            logits = logits.permute(1,0,2) # (batch_size, k, vocab_size)\n",
        "            # the order of the shapes are very important\n",
        "\n",
        "            if counter == 1: \n",
        "                logits = logits[:, 0, :] # shape (batch_size, vocab_size)\n",
        "                # special case for the first iteration:\n",
        "                # we only keep the first candidate's top k predictions otherwise the beam is going to fill up with the k same first words\n",
        "                scores, indices = F.log_softmax(logits, dim = -1).topk(k, dim = -1) # scores and indices have shape (batch_size, k)\n",
        "                targets = torch.cat([targets, indices.permute(1,0).unsqueeze(0)], dim = 0)\n",
        "                # targets now has shape (2, k, batch_size)\n",
        "                eos_mask = [np.where(targets[:,:,i].cpu().numpy() == eos_id)[1] for i in range(batch_size)]\n",
        "\n",
        "            else:\n",
        "                logits = F.log_softmax(logits, dim = -1)\n",
        "\n",
        "                targets_list = []\n",
        "                h,c = decoder_hidden\n",
        "\n",
        "                for i in range(batch_size):\n",
        "                    batch_logits = torch.clone(logits[i, :, :])\n",
        "                    batch_logits[eos_mask[i], pad_id] = 0.\n",
        "                    # Once an EOS token has been generated, force the output for that candidate to be padding tokens: log(1) = 0\n",
        "                    # It will be selected since its probability is not decreasing: log(proba) <= 0\n",
        "                    batch_logits = batch_logits + scores[i, :][:, None]\n",
        "                    batch_logits = batch_logits.flatten()\n",
        "                    batch_scores, indices = batch_logits.topk(k, dim = -1, sorted = True)\n",
        "                    indices = indices.cpu().numpy()\n",
        "                    indices = np.unravel_index(indices, shape=(k,vocab_size))\n",
        "                    keep_targets = targets[:, indices[0], i]\n",
        "                    new_words = torch.tensor(indices[1]).view(1, k)\n",
        "                    new_targets = torch.cat([keep_targets, new_words.to(device)], dim = 0) # (current length + 1, k)\n",
        "                    scores[i, :] = batch_scores\n",
        "\n",
        "                    eos_mask[i] = np.where(new_targets.cpu().numpy() == eos_id)[1]\n",
        "                    # We discard the information about the placement of the eos_id token (dimension 0) and only keep information about the candidate\n",
        "\n",
        "                    # We need to adapt the indices to the placement of each candidate in the hidden vector\n",
        "                    # i.e. c_00, c_10, c01, c11, ... if we denote c_00 the candidate 0 of batch 0\n",
        "                    h[:, batch_size*np.arange(k) + i, :] = h[:, batch_size*indices[0] + i, :]\n",
        "                    c[:, batch_size*np.arange(k) + i, :] = c[:, batch_size*indices[0] + i, :]\n",
        "                    # We need to change every tensor to select the candidates we chose to keep\n",
        "                    targets_list.append(new_targets.unsqueeze(2))\n",
        "\n",
        "                targets = torch.cat(targets_list, dim = -1)\n",
        "                decoder_hidden = (h,c)\n",
        "       \n",
        "    output = [[vocab.DecodeIds(col) for col in row] for row in targets.T.tolist()]\n",
        "    # output the top k prediction sorted by score in descending order for each input in the batch\n",
        "    # candidates were already sorted after the topk\n",
        "\n",
        "    return output\n"
      ],
      "execution_count": 43,
      "outputs": []
    },
    {
      "cell_type": "code",
      "metadata": {
        "colab_type": "code",
        "id": "XI76LuciROgh",
        "colab": {
          "base_uri": "https://localhost:8080/",
          "height": 34
        },
        "outputId": "3c12f7ae-37d3-423c-89af-e9502c6850b1"
      },
      "source": [
        "print(\"Attention model validation BLEU using beam search:\",\n",
        "      evaluate(attention_model, validation_data, method=\"beam\"))"
      ],
      "execution_count": 14,
      "outputs": [
        {
          "output_type": "stream",
          "text": [
            "Attention model validation BLEU using beam search: 36.09787302225476\n"
          ],
          "name": "stdout"
        }
      ]
    },
    {
      "cell_type": "markdown",
      "metadata": {
        "colab_type": "text",
        "id": "qWKgaEQ_RcIx"
      },
      "source": [
        "That is, an improvement of almost one point compared to greedy inference. Let's look at some of the predictions:"
      ]
    },
    {
      "cell_type": "code",
      "metadata": {
        "colab_type": "code",
        "id": "BoevlyGGF8Bs",
        "colab": {
          "base_uri": "https://localhost:8080/",
          "height": 595
        },
        "outputId": "ae248a93-085c-420a-d5ae-fbd8081088b2"
      },
      "source": [
        "for example in validation_data[:2]:\n",
        "    print(\"Input:\\n\", example.src)\n",
        "    print(\"\\nTarget:\\n\", example.trg)\n",
        "    print(\"\\nGreedy prediction:\\n\", predict_greedy(attention_model, [example.src])[0])\n",
        "    print(\"\\nBeam predictions:\")\n",
        "    for candidate in predict_beam(attention_model, [example.src])[0]:\n",
        "        print(\"\", candidate)\n",
        "    print('\\n')"
      ],
      "execution_count": 15,
      "outputs": [
        {
          "output_type": "stream",
          "text": [
            "Input:\n",
            " Eine Gruppe von Männern lädt Baumwolle auf einen Lastwagen\n",
            "\n",
            "Target:\n",
            " A group of men are loading cotton onto a truck\n",
            "\n",
            "Greedy prediction:\n",
            " A group of men loading trees on a truck\n",
            "\n",
            "Beam predictions:\n",
            " A group of men unloading tree\n",
            " A group of men loading trees on a truck\n",
            " A group of men loading homes on a truck\n",
            " A group of men are loading trees on a truck\n",
            " A group of men loading trees on a truck.\n",
            "\n",
            "\n",
            "Input:\n",
            " Ein Mann schläft in einem grünen Raum auf einem Sofa.\n",
            "\n",
            "Target:\n",
            " A man sleeping in a green room on a couch.\n",
            "\n",
            "Greedy prediction:\n",
            " A man sleeping in a green room on a couch.\n",
            "\n",
            "Beam predictions:\n",
            " A man sleeping in a green room on a couch.\n",
            " A man sleeping on a couch in a green room.\n",
            " A man sleeping on a couch inside a green room.\n",
            " A man sleeping in a green room.\n",
            " A man is sleeping in a green room on a couch.\n",
            "\n",
            "\n"
          ],
          "name": "stdout"
        }
      ]
    },
    {
      "cell_type": "markdown",
      "metadata": {
        "colab_type": "text",
        "id": "EEQlwh2qELmY"
      },
      "source": [
        "## Attention visualization"
      ]
    },
    {
      "cell_type": "markdown",
      "metadata": {
        "colab_type": "text",
        "id": "edKLVL35EN7X"
      },
      "source": [
        "Once you have everything working in the sections above, add some code here to visualize the decoder attention learned by the attention model using `matplotlib`. Your notebook should include some images of attention distributions for examples from the validation set and a few sentences analyzing the results. You will also be asked to include a representative attention visualization plot as part of your submission.\n",
        "\n",
        "You may visualize decoder attention on gold source-target pairs from the validation data. You do not need to run any inference in this section."
      ]
    },
    {
      "cell_type": "code",
      "metadata": {
        "colab_type": "code",
        "id": "Ok-26cAK7vry",
        "colab": {
          "base_uri": "https://localhost:8080/",
          "height": 958
        },
        "outputId": "dd350618-10dd-420e-a4e6-178b0afac247"
      },
      "source": [
        "import seaborn as sns\n",
        "fig, ax = plt.subplots(2, 2, figsize=(15,15))\n",
        "\n",
        "for i in range(4):\n",
        "    source = make_batch([validation_data[i].src])\n",
        "    target = make_batch([validation_data[i].trg])\n",
        "\n",
        "    encoder_output, encoder_mask, encoder_hidden = attention_model.encode(source)\n",
        "    decoder_input, decoder_target = target[:-1], target[1:]\n",
        "    _, _, attention_weights = attention_model.decode(decoder_input, encoder_hidden, encoder_output, encoder_mask)\n",
        "    attention_weights = attention_weights.detach().cpu().numpy().squeeze()\n",
        "    \n",
        "    idx = np.unravel_index(i, shape = (2,2))\n",
        "    im = ax[idx].imshow(attention_weights)\n",
        "\n",
        "    ax[idx].set_yticks(np.arange(len(source)))\n",
        "    ax[idx].set_xticks(np.arange(len(target[:-1])))\n",
        "\n",
        "    ylabels = [vocab.DecodeIds([word]) for word in source.flatten().cpu().numpy().tolist()]\n",
        "    ylabels[0], ylabels[1] = '<bos>', '<eos>' # DecodeIds returns empty string for bos and eos tags\n",
        "    xlabels = [vocab.DecodeIds([word]) for word in target[:-1].flatten().cpu().numpy().tolist()]\n",
        "    xlabels[0] = '<bos>'\n",
        "    ax[idx].set_yticklabels(ylabels)\n",
        "    ax[idx].set_xticklabels(xlabels)\n",
        "\n",
        "    plt.setp(ax[idx].get_xticklabels(), rotation=45)\n",
        "    plt.xlabel('Target Sentence')\n",
        "    plt.ylabel('Source Sentence')"
      ],
      "execution_count": 16,
      "outputs": [
        {
          "output_type": "stream",
          "text": [
            "/usr/local/lib/python3.6/dist-packages/statsmodels/tools/_testing.py:19: FutureWarning: pandas.util.testing is deprecated. Use the functions in the public API at pandas.testing instead.\n",
            "  import pandas.util.testing as tm\n"
          ],
          "name": "stderr"
        },
        {
          "output_type": "display_data",
          "data": {
            "image/png": "[encoded data removed]",
            "text/plain": [
              "<Figure size 1080x1080 with 4 Axes>"
            ]
          },
          "metadata": {
            "tags": [],
            "needs_background": "light"
          }
        }
      ]
    },
    {
      "cell_type": "markdown",
      "metadata": {
        "colab_type": "text",
        "id": "0Y8xCIt_82WF"
      },
      "source": [
        "Generally, it seems that the attention gives all of the weight to encoder and decoder hidden states that have approximately the same place in the sentence.This results in an almost identity-like attention matrix. \n",
        "<br><br>In some cases however, we can see the weight beginning to spread further from the diagonal, implying that certain dependencies between words arise in different orders. \n",
        "<br><br>\n",
        "For example, the end of the second source sentence is: \"den Schultern einer Frau\" which correspond to the target \"a woman's shoulders\". As the genitive takes a different form in english and in german, we can see the attention mechanism is attributing weights to words in a different order to adapt to this syntax.\n",
        "<br><br>\n",
        "Additionally, some words and adjectives can be combined into one in german (*Eisfischerhütte* becomes *ice fishing hut*), which results in zero entries in the attention weights. There is also syntactic dependencies at the end of the sentence that require looking at the words in a different order.\n",
        "<br><br>\n",
        "Mostly, the observed differences come from syntactic differences between both languages."
      ]
    }
  ]
}
