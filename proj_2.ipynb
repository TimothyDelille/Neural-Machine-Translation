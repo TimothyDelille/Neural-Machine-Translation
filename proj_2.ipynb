{
 "cells": [
  {
   "cell_type": "markdown",
   "metadata": {
    "colab_type": "text",
    "id": "CeUOYktpXtOz"
   },
   "source": [
    "# Neural Machine Translation"
   ]
  },
  {
   "cell_type": "markdown",
   "metadata": {
    "colab_type": "text",
    "id": "35m1Uv47jiNX"
   },
   "source": [
    "We build a neural machine translation system using modern techniques for sequence-to-sequence modeling. We first implement a baseline encoder-decoder architecture, then improve upon the baseline by adding an attention mechanism and implementing beam search. The end result is a fully functional translation system capable of translating simple German sentences into English. This project is part of the *CS288 - AI for Natural Language Processing* class at University of California, Berkeley."
   ]
  },
  {
   "cell_type": "markdown",
   "metadata": {
    "colab_type": "text",
    "id": "acPh_4GwYID0"
   },
   "source": [
    "## Setup"
   ]
  },
  {
   "cell_type": "markdown",
   "metadata": {
    "colab_type": "text",
    "id": "c7cggO7mjZ5L"
   },
   "source": [
    "First we install and import the required dependencies. These include:\n",
    "* `torch` for modeling and training\n",
    "* `torchtext` for data collection\n",
    "* `sentencepiece` for subword tokenization\n",
    "* `sacrebleu` for BLEU score evaluation"
   ]
  },
  {
   "cell_type": "code",
   "execution_count": null,
   "metadata": {
    "colab": {},
    "colab_type": "code",
    "id": "4LV8KY6_unfe"
   },
   "outputs": [],
   "source": [
    "%%capture\n",
    "!pip install --upgrade sacrebleu sentencepiece torch torchtext tqdm\n",
    "\n",
    "# Standard library imports\n",
    "import json\n",
    "import math\n",
    "import random\n",
    "\n",
    "# Third party imports\n",
    "import matplotlib.pyplot as plt\n",
    "import numpy as np\n",
    "import sacrebleu\n",
    "import sentencepiece\n",
    "import torch\n",
    "import torch.nn as nn\n",
    "import torch.nn.functional as F\n",
    "import torchtext\n",
    "import tqdm.notebook"
   ]
  },
  {
   "cell_type": "markdown",
   "metadata": {
    "colab_type": "text",
    "id": "KNT_TURTwIlW"
   },
   "source": [
    "Before proceeding, let's verify that we're connected to a GPU runtime and that `torch` can detect the GPU."
   ]
  },
  {
   "cell_type": "code",
   "execution_count": 2,
   "metadata": {
    "colab": {
     "base_uri": "https://localhost:8080/",
     "height": 34
    },
    "colab_type": "code",
    "id": "KYpIPtqtwVwh",
    "outputId": "dcc2fbe5-8897-445d-c4b7-1a1f7eb2730a"
   },
   "outputs": [
    {
     "name": "stdout",
     "output_type": "stream",
     "text": [
      "Using device: cuda\n"
     ]
    }
   ],
   "source": [
    "assert torch.cuda.is_available()\n",
    "device = torch.device(\"cuda\")\n",
    "print(\"Using device:\", device)"
   ]
  },
  {
   "cell_type": "markdown",
   "metadata": {
    "colab_type": "text",
    "id": "ANK-5cMtYSyH"
   },
   "source": [
    "## Data"
   ]
  },
  {
   "cell_type": "markdown",
   "metadata": {
    "colab_type": "text",
    "id": "We4sTUA5j0Ab"
   },
   "source": [
    "The data for this assignment comes from the [Multi30K dataset](https://arxiv.org/abs/1605.00459), which contains English and German captions for images from Flickr. We can download and unpack it using `torchtext`. We use the Multi30K dataset because it is simpler than standard translation benchmark datasets and allows for models to be trained and evaluated in a matter of minutes rather than days."
   ]
  },
  {
   "cell_type": "code",
   "execution_count": 3,
   "metadata": {
    "colab": {
     "base_uri": "https://localhost:8080/",
     "height": 119
    },
    "colab_type": "code",
    "id": "Gr9PbArCvCT0",
    "outputId": "14894066-69f6-43c7-90e9-7fe4d00c8967"
   },
   "outputs": [
    {
     "name": "stderr",
     "output_type": "stream",
     "text": [
      "training.tar.gz:   0%|          | 0.00/1.21M [00:00<?, ?B/s]"
     ]
    },
    {
     "name": "stdout",
     "output_type": "stream",
     "text": [
      "downloading training.tar.gz\n"
     ]
    },
    {
     "name": "stderr",
     "output_type": "stream",
     "text": [
      "training.tar.gz: 100%|██████████| 1.21M/1.21M [00:00<00:00, 6.83MB/s]\n",
      "validation.tar.gz: 100%|██████████| 46.3k/46.3k [00:00<00:00, 1.75MB/s]"
     ]
    },
    {
     "name": "stdout",
     "output_type": "stream",
     "text": [
      "downloading validation.tar.gz\n",
      "downloading mmt_task1_test2016.tar.gz\n"
     ]
    },
    {
     "name": "stderr",
     "output_type": "stream",
     "text": [
      "\n",
      "mmt_task1_test2016.tar.gz: 100%|██████████| 66.2k/66.2k [00:00<00:00, 1.65MB/s]\n"
     ]
    }
   ],
   "source": [
    "extensions = [\".de\", \".en\"]\n",
    "source_field = torchtext.data.Field(tokenize=lambda x: x)\n",
    "target_field = torchtext.data.Field(tokenize=lambda x: x)\n",
    "training_data, validation_data, test_data = torchtext.datasets.Multi30k.splits(\n",
    "    extensions, [source_field, target_field], root=\".\")"
   ]
  },
  {
   "cell_type": "markdown",
   "metadata": {
    "colab_type": "text",
    "id": "k1aBbR3snOjV"
   },
   "source": [
    "## Vocabulary"
   ]
  },
  {
   "cell_type": "markdown",
   "metadata": {
    "colab_type": "text",
    "id": "5Mo0tnIbnQz8"
   },
   "source": [
    "We can use `sentencepiece` to create a joint German-English subword vocabulary from the training corpus. Because the number of training examples is small, we choose a smaller vocabulary size than would be used for large-scale Neural Machine Translation."
   ]
  },
  {
   "cell_type": "code",
   "execution_count": 5,
   "metadata": {
    "colab": {
     "base_uri": "https://localhost:8080/",
     "height": 34
    },
    "colab_type": "code",
    "id": "8xSUaso9vo1V",
    "outputId": "2d7d4573-561d-4689-b620-4b0920df69a2"
   },
   "outputs": [
    {
     "data": {
      "text/plain": [
       "True"
      ]
     },
     "execution_count": 5,
     "metadata": {
      "tags": []
     },
     "output_type": "execute_result"
    }
   ],
   "source": [
    "args = {\n",
    "    \"pad_id\": 0,\n",
    "    \"bos_id\": 1,\n",
    "    \"eos_id\": 2,\n",
    "    \"unk_id\": 3,\n",
    "    \"input\": \"multi30k/train.de,multi30k/train.en\",\n",
    "    \"vocab_size\": 8000,\n",
    "    \"model_prefix\": \"multi30k\",\n",
    "}\n",
    "combined_args = \" \".join(\n",
    "    \"--{}={}\".format(key, value) for key, value in args.items())\n",
    "sentencepiece.SentencePieceTrainer.Train(combined_args)"
   ]
  },
  {
   "cell_type": "markdown",
   "metadata": {},
   "source": [
    "This creates two files: `multi30k.model` and `multi30k.vocab`. The first is a binary file containing the relevant data for the vocabulary. The second is a human-readable listing of each subword and its associated score."
   ]
  },
  {
   "cell_type": "markdown",
   "metadata": {
    "colab_type": "text",
    "id": "TBGuw-18qjsB"
   },
   "source": [
    "The vocabulary consists of four special tokens (`<pad>` for padding, `<s>` for beginning of sentence (BOS), `</s>` for end of sentence (EOS), `<unk>` for unknown) and a mixture of German and English words and subwords."
   ]
  },
  {
   "cell_type": "markdown",
   "metadata": {
    "colab_type": "text",
    "id": "GlBIoN4aragA"
   },
   "source": [
    "To use the vocabulary, we first need to load it from the binary file produced above."
   ]
  },
  {
   "cell_type": "code",
   "execution_count": 7,
   "metadata": {
    "colab": {
     "base_uri": "https://localhost:8080/",
     "height": 34
    },
    "colab_type": "code",
    "id": "SJYzMQxfvrr0",
    "outputId": "7b4725cf-de71-4f75-8699-5f2f1f2d620e"
   },
   "outputs": [
    {
     "data": {
      "text/plain": [
       "True"
      ]
     },
     "execution_count": 7,
     "metadata": {
      "tags": []
     },
     "output_type": "execute_result"
    }
   ],
   "source": [
    "vocab = sentencepiece.SentencePieceProcessor()\n",
    "vocab.Load(\"multi30k.model\")"
   ]
  },
  {
   "cell_type": "markdown",
   "metadata": {
    "colab_type": "text",
    "id": "1sLfI6vDriWK"
   },
   "source": [
    "The vocabulary object includes a number of methods for working with full sequences or individual pieces. A complete interface can be found on [GitHub](https://github.com/google/sentencepiece/tree/master/python#usage) for reference."
   ]
  },
  {
   "cell_type": "markdown",
   "metadata": {
    "colab_type": "text",
    "id": "qsxRb6TOVHn5"
   },
   "source": [
    "We define some constants here for the first three special tokens that will become useful in the following sections."
   ]
  },
  {
   "cell_type": "code",
   "execution_count": null,
   "metadata": {
    "colab": {},
    "colab_type": "code",
    "id": "xheKi30BVVJC"
   },
   "outputs": [],
   "source": [
    "pad_id = vocab.PieceToId(\"<pad>\")\n",
    "bos_id = vocab.PieceToId(\"<s>\")\n",
    "eos_id = vocab.PieceToId(\"</s>\")"
   ]
  },
  {
   "cell_type": "markdown",
   "metadata": {
    "colab_type": "text",
    "id": "hI8olw4LapHZ"
   },
   "source": [
    "Note that these tokens will be stripped from the output when converting from word pieces to text. This will be helpful when implementing greedy search and beam search."
   ]
  },
  {
   "cell_type": "markdown",
   "metadata": {
    "colab_type": "text",
    "id": "KiSPP3tdyaid"
   },
   "source": [
    "## Baseline sequence-to-sequence model"
   ]
  },
  {
   "cell_type": "markdown",
   "metadata": {
    "colab_type": "text",
    "id": "7g-Ncq5zxhvB"
   },
   "source": [
    "With our data and vocabulary loaded, we're now ready to build a baseline sequence-to-sequence model.  Later on we'll add an attention mechanism to the model."
   ]
  },
  {
   "cell_type": "markdown",
   "metadata": {
    "colab_type": "text",
    "id": "7xIg5y_xynkU"
   },
   "source": [
    "Let's begin by defining a batch iterator for the training data. Given a dataset and a batch size, it will iterate over the dataset and yield pairs of tensors containing the subword indices for the source and target sentences in the batch, respectively."
   ]
  },
  {
   "cell_type": "code",
   "execution_count": 11,
   "metadata": {
    "colab": {
     "base_uri": "https://localhost:8080/",
     "height": 258
    },
    "colab_type": "code",
    "id": "Q-bI4Im30Ezp",
    "outputId": "fd478642-8d30-4a48-ba8c-90f26a579dc6"
   },
   "outputs": [
    {
     "name": "stderr",
     "output_type": "stream",
     "text": [
      "/usr/local/lib/python3.6/dist-packages/ipykernel_launcher.py:22: UserWarning: To copy construct from a tensor, it is recommended to use sourceTensor.clone().detach() or sourceTensor.clone().detach().requires_grad_(True), rather than torch.tensor(sourceTensor).\n"
     ]
    },
    {
     "name": "stdout",
     "output_type": "stream",
     "text": [
      "Example batch tensor:\n",
      "tensor([[   1,    1],\n",
      "        [   5,    5],\n",
      "        [3980,  352],\n",
      "        [   6,   60],\n",
      "        [ 234,    6],\n",
      "        [ 760,  234],\n",
      "        [   2,  760],\n",
      "        [   0, 5335],\n",
      "        [   0,   13],\n",
      "        [   0, 3769],\n",
      "        [   0,    2]], device='cuda:0')\n"
     ]
    }
   ],
   "source": [
    "def make_batch(sentences):\n",
    "    \"\"\"Convert a list of sentences into a batch of subword indices.\n",
    "\n",
    "    Args:\n",
    "        sentences: A list of sentences, each of which is a string.\n",
    "\n",
    "    Returns:\n",
    "        A LongTensor of size (max_sequence_length, batch_size) containing the\n",
    "        subword indices for the sentences, where max_sequence_length is the length\n",
    "        of the longest sentence as encoded by the subword vocabulary and batch_size\n",
    "        is the number of sentences in the batch. A beginning-of-sentence token\n",
    "        should be included before each sequence, and an end-of-sentence token should\n",
    "        be included after each sequence. Empty slots at the end of shorter sequences\n",
    "        should be filled with padding tokens. The tensor should be located on the\n",
    "        device defined at the beginning of the notebook.\n",
    "    \"\"\"\n",
    "    sequences = [torch.tensor([bos_id] + vocab.EncodeAsIds(sentence) + [eos_id]) for sentence in sentences]\n",
    "    sequences = nn.utils.rnn.pad_sequence(sequences, padding_value = pad_id, batch_first = False)\n",
    "    sequences = torch.tensor(sequences, device = device)\n",
    "    return sequences\n",
    "\n",
    "def make_batch_iterator(dataset, batch_size, shuffle=False):\n",
    "    \"\"\"Make a batch iterator that yields source-target pairs.\n",
    "\n",
    "    Args:\n",
    "        dataset: A torchtext dataset object.\n",
    "        batch_size: An integer batch size.\n",
    "        shuffle: A boolean indicating whether to shuffle the examples.\n",
    "\n",
    "    Yields:\n",
    "        Pairs of tensors constructed by calling the make_batch function on the\n",
    "        source and target sentences in the current group of examples. The max\n",
    "        sequence length can differ between the source and target tensor, but the\n",
    "        batch size will be the same. The final batch may be smaller than the given\n",
    "        batch size.\n",
    "    \"\"\"\n",
    "\n",
    "    examples = list(dataset)\n",
    "    if shuffle:\n",
    "        random.shuffle(examples)\n",
    "\n",
    "    for start_index in range(0, len(examples), batch_size):\n",
    "        example_batch = examples[start_index:start_index + batch_size]\n",
    "        source_sentences = [example.src for example in example_batch]\n",
    "        target_sentences = [example.trg for example in example_batch]\n",
    "        yield make_batch(source_sentences), make_batch(target_sentences)\n",
    "\n",
    "test_batch = make_batch([\"a test input\", \"a longer input than the first\"])\n",
    "print(\"Example batch tensor:\")\n",
    "print(test_batch)\n",
    "assert test_batch.shape[1] == 2\n",
    "assert test_batch[0, 0] == bos_id\n",
    "assert test_batch[0, 1] == bos_id\n",
    "assert test_batch[-1, 0] == pad_id\n",
    "assert test_batch[-1, 1] == eos_id"
   ]
  },
  {
   "cell_type": "markdown",
   "metadata": {
    "colab_type": "text",
    "id": "gGIIy0230Zdc"
   },
   "source": [
    "Now we will define the model itself. It should consist of a bidirectional LSTM encoder that encodes the input sentence into a fixed-size representation, and an LSTM decoder that uses this representation to produce the output sentence."
   ]
  },
  {
   "cell_type": "code",
   "execution_count": null,
   "metadata": {
    "colab": {},
    "colab_type": "code",
    "id": "Dz3pUko2L8Fj"
   },
   "outputs": [],
   "source": [
    "class Seq2seqBaseline(nn.Module):\n",
    "  def __init__(self):\n",
    "    super().__init__()\n",
    "\n",
    "    vocab_size = vocab.GetPieceSize()\n",
    "    self.embedding = nn.Embedding(vocab_size, 256)\n",
    "    self.lstm_encoder = nn.LSTM(256, 256, 2, dropout = 0.5, bidirectional = True)\n",
    "    self.lstm_decoder = nn.LSTM(256, 256, 2, dropout = 0.5)\n",
    "    self.linear = nn.Linear(256,vocab_size)\n",
    "\n",
    "  def encode(self, source):\n",
    "    \"\"\"Encode the source batch using a bidirectional LSTM encoder.\n",
    "\n",
    "    Args:\n",
    "      source: An integer tensor with shape (max_source_sequence_length,\n",
    "        batch_size) containing subword indices for the source sentences.\n",
    "\n",
    "    Returns:\n",
    "      A tuple with three elements:\n",
    "        encoder_output: The output of the bidirectional LSTM with shape\n",
    "          (max_source_sequence_length, batch_size, 2 * hidden_size).\n",
    "        encoder_mask: A boolean tensor with shape (max_source_sequence_length,\n",
    "          batch_size) indicating which encoder outputs correspond to padding\n",
    "          tokens. Its elements should be True at positions corresponding to\n",
    "          padding tokens and False elsewhere.\n",
    "        encoder_hidden: The final hidden states of the bidirectional LSTM (after\n",
    "          a suitable projection) that will be used to initialize the decoder.\n",
    "          This should be a pair of tensors (h_n, c_n), each with shape\n",
    "          (num_layers, batch_size, hidden_size). Note that the hidden state\n",
    "          returned by the LSTM cannot be used directly. Its initial dimension is\n",
    "          twice the required size because it contains state from two directions.\n",
    "\n",
    "    The first two return values are not required for the baseline model and will\n",
    "    only be used later in the attention model.\n",
    "    \"\"\"\n",
    "\n",
    "    lengths = torch.sum(source != pad_id, axis=0)\n",
    "\n",
    "    batch_size = source.shape[1]\n",
    "    x = self.embedding(source).view(-1, batch_size, 256)\n",
    "    h_0 = torch.zeros(4, batch_size, 256, device=device)\n",
    "    c_0 = torch.zeros(4, batch_size, 256, device=device) #have to define on the cuda device or colab will crash\n",
    "    output, hidden = self.lstm_encoder(x, (h_0, c_0))\n",
    "    h_n, c_n = hidden\n",
    "    h_n = h_n[:2,:,:] + h_n[2:,:,:]\n",
    "    c_n = c_n[:2,:,:] + c_n[2:,:,:]\n",
    "    mask = torch.zeros_like(source).masked_fill_(source == pad_id, -1e9)\n",
    "    return output, mask, (h_n, c_n)\n",
    "\n",
    "  def decode(self, decoder_input, initial_hidden, encoder_output, encoder_mask):\n",
    "    \"\"\"Run the decoder LSTM starting from an initial hidden state.\n",
    "\n",
    "    The third and fourth arguments are not used in the baseline model, but are\n",
    "    included for compatibility with the attention model in the next section.\n",
    "\n",
    "    Args:\n",
    "      decoder_input: An integer tensor with shape (max_decoder_sequence_length,\n",
    "        batch_size) containing the subword indices for the decoder input. During\n",
    "        evaluation, where decoding proceeds one step at a time, the initial\n",
    "        dimension should be 1.\n",
    "      initial_hidden: A pair of tensors (h_0, c_0) representing the initial\n",
    "        state of the decoder, each with shape (num_layers, batch_size,\n",
    "        hidden_size).\n",
    "      encoder_output: The output of the encoder with shape\n",
    "        (max_source_sequence_length, batch_size, 2 * hidden_size).\n",
    "      encoder_mask: The output mask from the encoder with shape\n",
    "        (max_source_sequence_length, batch_size). Encoder outputs at positions\n",
    "        with a True value correspond to padding tokens and should be ignored.\n",
    "\n",
    "    Returns:\n",
    "      A tuple with three elements:\n",
    "        logits: A tensor with shape (max_decoder_sequence_length, batch_size,\n",
    "          vocab_size) containing unnormalized scores for the next-word\n",
    "          predictions at each position.\n",
    "        decoder_hidden: A pair of tensors (h_n, c_n) with the same shape as\n",
    "          initial_hidden representing the updated decoder state after processing\n",
    "          the decoder input.\n",
    "        attention_weights: This will be implemented later in the attention\n",
    "          model, but in order to maintain compatible type signatures, we also\n",
    "          include it here.\n",
    "    \"\"\"\n",
    "\n",
    "    # These arguments are not used in the baseline model.\n",
    "    del encoder_output\n",
    "    del encoder_mask\n",
    "    batch_size = decoder_input.shape[1]\n",
    "    x = self.embedding(decoder_input).view(-1, batch_size, 256)\n",
    "    x, decoder_hidden = self.lstm_decoder(x, initial_hidden)\n",
    "    logits = self.linear(x)\n",
    "    return logits, decoder_hidden, True\n",
    "\n",
    "  def compute_loss(self, source, target):\n",
    "    \"\"\"Run the model on the source and compute the loss on the target.\n",
    "\n",
    "    Args:\n",
    "      source: An integer tensor with shape (max_source_sequence_length,\n",
    "        batch_size) containing subword indices for the source sentences.\n",
    "      target: An integer tensor with shape (max_target_sequence_length,\n",
    "        batch_size) containing subword indices for the target sentences.\n",
    "\n",
    "    Returns:\n",
    "      A scalar float tensor representing cross-entropy loss on the current batch.\n",
    "    \"\"\"\n",
    "    vocab_size = vocab.GetPieceSize()\n",
    "    batch_size = source.shape[1]\n",
    "    encoder_output, encoder_mask, hidden = self.encode(source)\n",
    "    decoder_input = target[:-1]\n",
    "    logits, _, _ = self.decode(decoder_input, hidden, encoder_output, encoder_mask)\n",
    "    loss = F.cross_entropy(logits.permute(1, 2, 0), target[1:].permute(1,0)) #put batch_size first and vocab_size in the middle or this will prevent training\n",
    "    return loss.mean()"
   ]
  },
  {
   "cell_type": "markdown",
   "metadata": {
    "colab_type": "text",
    "id": "jx9jJQb58nUY"
   },
   "source": [
    "We define the following functions for training."
   ]
  },
  {
   "cell_type": "code",
   "execution_count": null,
   "metadata": {
    "colab": {},
    "colab_type": "code",
    "id": "VKc1pwaZzcUN"
   },
   "outputs": [],
   "source": [
    "def train(model, num_epochs, batch_size, model_file):\n",
    "  \"\"\"Train the model and save its best checkpoint.\n",
    "  \n",
    "  Model performance across epochs is evaluated using token-level accuracy on the\n",
    "  validation set. The best checkpoint obtained during training will be stored on\n",
    "  disk and loaded back into the model at the end of training.\n",
    "  \"\"\"\n",
    "  optimizer = torch.optim.Adam(model.parameters())\n",
    "  best_accuracy = 0.0\n",
    "  for epoch in tqdm.notebook.trange(num_epochs, desc=\"training\", unit=\"epoch\"):\n",
    "    with tqdm.notebook.tqdm(\n",
    "        make_batch_iterator(training_data, batch_size, shuffle=True),\n",
    "        desc=\"epoch {}\".format(epoch + 1),\n",
    "        unit=\"batch\",\n",
    "        total=math.ceil(len(training_data) / batch_size)) as batch_iterator:\n",
    "      model.train()\n",
    "      total_loss = 0.0\n",
    "      for i, (source, target) in enumerate(batch_iterator, start=1):\n",
    "        optimizer.zero_grad()\n",
    "        loss = model.compute_loss(source, target)\n",
    "        total_loss += loss.item()\n",
    "        loss.backward()\n",
    "        optimizer.step()\n",
    "        batch_iterator.set_postfix(mean_loss=total_loss / i)\n",
    "      validation_perplexity, validation_accuracy = evaluate_next_token(\n",
    "          model, validation_data)\n",
    "      batch_iterator.set_postfix(\n",
    "          mean_loss=total_loss / i,\n",
    "          validation_perplexity=validation_perplexity,\n",
    "          validation_token_accuracy=validation_accuracy)\n",
    "      if validation_accuracy > best_accuracy:\n",
    "        print(\n",
    "            \"Obtained a new best validation accuracy of {:.2f}, saving model \"\n",
    "            \"checkpoint to {}...\".format(validation_accuracy, model_file))\n",
    "        torch.save(model.state_dict(), model_file)\n",
    "        best_accuracy = validation_accuracy\n",
    "  print(\"Reloading best model checkpoint from {}...\".format(model_file))\n",
    "  model.load_state_dict(torch.load(model_file))\n",
    "\n",
    "def evaluate_next_token(model, dataset, batch_size=64):\n",
    "  \"\"\"Compute token-level perplexity and accuracy metrics.\n",
    "\n",
    "  Note that the perplexity here is over subwords, not words.\n",
    "  \n",
    "  This function is used for validation set evaluation at the end of each epoch\n",
    "  and should not be modified.\n",
    "  \"\"\"\n",
    "  model.eval()\n",
    "  total_cross_entropy = 0.0\n",
    "  total_predictions = 0\n",
    "  correct_predictions = 0\n",
    "  with torch.no_grad():\n",
    "    for source, target in make_batch_iterator(dataset, batch_size):\n",
    "      encoder_output, encoder_mask, encoder_hidden = model.encode(source)\n",
    "      decoder_input, decoder_target = target[:-1], target[1:]\n",
    "      logits, decoder_hidden, attention_weights = model.decode(\n",
    "          decoder_input, encoder_hidden, encoder_output, encoder_mask)\n",
    "      total_cross_entropy += F.cross_entropy(\n",
    "          logits.permute(1, 2, 0), decoder_target.permute(1, 0),\n",
    "          ignore_index=pad_id, reduction=\"sum\").item()\n",
    "      total_predictions += (decoder_target != pad_id).sum().item()\n",
    "      correct_predictions += (\n",
    "          (decoder_target != pad_id) &\n",
    "          (decoder_target == logits.argmax(2))).sum().item()\n",
    "  perplexity = math.exp(total_cross_entropy / total_predictions)\n",
    "  accuracy = 100 * correct_predictions / total_predictions\n",
    "  return perplexity, accuracy"
   ]
  },
  {
   "cell_type": "markdown",
   "metadata": {
    "colab_type": "text",
    "id": "GZYFBChe8-2F"
   },
   "source": [
    "We can now train the baseline model.\n",
    "\n",
    "Since we haven't yet defined a decoding method to output an entire string, we will measure performance for now by computing perplexity and the accuracy of predicting the next token given a gold prefix of the output."
   ]
  },
  {
   "cell_type": "code",
   "execution_count": null,
   "metadata": {
    "colab": {},
    "colab_type": "code",
    "id": "thNLsZ04Z0A-"
   },
   "outputs": [],
   "source": [
    "num_epochs = 10\n",
    "batch_size = 16\n",
    "\n",
    "baseline_model = Seq2seqBaseline().to(device)\n",
    "train(baseline_model, num_epochs, batch_size, \"baseline_model.pt\")"
   ]
  },
  {
   "cell_type": "markdown",
   "metadata": {},
   "source": [
    "We can load a pre-saved model."
   ]
  },
  {
   "cell_type": "code",
   "execution_count": 14,
   "metadata": {
    "colab": {
     "base_uri": "https://localhost:8080/",
     "height": 122
    },
    "colab_type": "code",
    "id": "lel8fXMBs5M4",
    "outputId": "7c41378d-e51c-4721-98ae-cd2202c553c8"
   },
   "outputs": [
    {
     "name": "stderr",
     "output_type": "stream",
     "text": [
      "/usr/local/lib/python3.6/dist-packages/ipykernel_launcher.py:22: UserWarning: To copy construct from a tensor, it is recommended to use sourceTensor.clone().detach() or sourceTensor.clone().detach().requires_grad_(True), rather than torch.tensor(sourceTensor).\n"
     ]
    },
    {
     "name": "stdout",
     "output_type": "stream",
     "text": [
      "\n",
      "Perplexity: 10.29803380933026\n",
      "Accuracy: 56.91689836268149\n",
      "\n"
     ]
    }
   ],
   "source": [
    "baseline_model = Seq2seqBaseline().to(device)\n",
    "model_file = 'baseline_model.pt'\n",
    "baseline_model.load_state_dict(torch.load(model_file))\n",
    "p, a = evaluate_next_token(baseline_model, validation_data)\n",
    "print('\\nPerplexity: {}\\nAccuracy: {}\\n'.format(p,a))"
   ]
  },
  {
   "cell_type": "markdown",
   "metadata": {
    "colab_type": "text",
    "id": "QO5Saz-KQ9Cg"
   },
   "source": [
    "For evaluation, we also need to be able to generate entire strings from the model. We'll first define a greedy inference procedure here. Later on, we'll implement beam search."
   ]
  },
  {
   "cell_type": "code",
   "execution_count": 15,
   "metadata": {
    "colab": {
     "base_uri": "https://localhost:8080/",
     "height": 105
    },
    "colab_type": "code",
    "id": "dXG0VTLvRvzp",
    "outputId": "92172df0-be69-4c8d-f295-dfabc16712c7"
   },
   "outputs": [
    {
     "name": "stderr",
     "output_type": "stream",
     "text": [
      "/usr/local/lib/python3.6/dist-packages/ipykernel_launcher.py:22: UserWarning: To copy construct from a tensor, it is recommended to use sourceTensor.clone().detach() or sourceTensor.clone().detach().requires_grad_(True), rather than torch.tensor(sourceTensor).\n"
     ]
    },
    {
     "name": "stdout",
     "output_type": "stream",
     "text": [
      "\n",
      "\n",
      "Baseline model validation BLEU using greedy search: 22.390278705269996\n"
     ]
    }
   ],
   "source": [
    "def predict_greedy(model, sentences, max_length=20):\n",
    "    \"\"\"Make predictions for the given inputs using greedy inference.\n",
    "    \n",
    "    Args:\n",
    "        model: A sequence-to-sequence model.\n",
    "        sentences: A list of input sentences, represented as strings.\n",
    "        max_length: The maximum length at which to truncate outputs in order to\n",
    "        avoid non-terminating inference.\n",
    "    \n",
    "    Returns:\n",
    "        A list of predicted translations, represented as strings.\n",
    "    \"\"\"\n",
    "    # Once an EOS token has been generated, we force the output\n",
    "    # for that example to be padding tokens in all subsequent time steps by\n",
    "    # adding a large positive number like 1e9 to the appropriate logits.\n",
    "    vocab_size = vocab.GetPieceSize()\n",
    "    source = make_batch(sentences)\n",
    "    encoder_output, encoder_mask, decoder_hidden = model.encode(source)\n",
    "    batch_size = len(sentences)\n",
    "    target = np.array([bos_id for _ in range(batch_size)]).reshape(1,batch_size)\n",
    "    counter_eos = np.zeros(batch_size)\n",
    "    cpt = 1\n",
    "    while counter_eos.sum() < batch_size and cpt<max_length:\n",
    "        cpt+=1\n",
    "        decoder_input = torch.tensor(target[-1, :], device = device).unsqueeze(0)\n",
    "        logits, decoder_hidden, _ = model.decode(decoder_input, decoder_hidden, encoder_output, encoder_mask)\n",
    "        logits = logits.detach().cpu().numpy().reshape(batch_size, vocab_size)\n",
    "        pred = np.argmax(logits, axis = 1).reshape(1, batch_size)\n",
    "        pred = np.where(counter_eos == 1, pad_id, pred)\n",
    "        counter_eos = np.where(pred == eos_id, 1, counter_eos)\n",
    "        target = np.concatenate((target, pred), axis = 0)\n",
    "    target = target.T.tolist()\n",
    "    target = [vocab.DecodeIds(row) for row in target]\n",
    "    return target\n",
    "        \n",
    "def evaluate(model, dataset, batch_size=64, method=\"greedy\"):\n",
    "  assert method in {\"greedy\", \"beam\"}\n",
    "  source_sentences = [example.src for example in dataset]\n",
    "  target_sentences = [example.trg for example in dataset]\n",
    "  model.eval()\n",
    "  predictions = []\n",
    "  with torch.no_grad():\n",
    "    for start_index in range(0, len(source_sentences), batch_size):\n",
    "      if method == \"greedy\":\n",
    "        prediction_batch = predict_greedy(\n",
    "            model, source_sentences[start_index:start_index + batch_size])\n",
    "      else:\n",
    "        prediction_batch = predict_beam(\n",
    "            model, source_sentences[start_index:start_index + batch_size])\n",
    "        prediction_batch = [candidates[0] for candidates in prediction_batch]\n",
    "      predictions.extend(prediction_batch)\n",
    "  return sacrebleu.corpus_bleu(predictions, [target_sentences]).score\n",
    "\n",
    "print(\"\\n\\nBaseline model validation BLEU using greedy search:\",\n",
    "      evaluate(baseline_model, validation_data))"
   ]
  },
  {
   "cell_type": "code",
   "execution_count": 16,
   "metadata": {
    "colab": {
     "base_uri": "https://localhost:8080/",
     "height": 496
    },
    "colab_type": "code",
    "id": "BoevlyGGF8Bs",
    "outputId": "f824db37-3557-4c46-b44a-4a3f3cfc2f9d"
   },
   "outputs": [
    {
     "name": "stdout",
     "output_type": "stream",
     "text": [
      "Baseline model sample predictions:\n",
      "\n",
      "Input:\n",
      "  Eine Gruppe von Männern lädt Baumwolle auf einen Lastwagen\n",
      "Target:\n",
      "  A group of men are loading cotton onto a truck\n",
      "Greedy prediction:\n",
      "  A group of men are parked on a tree.\n",
      "Input:\n",
      "  Ein Mann schläft in einem grünen Raum auf einem Sofa.\n",
      "Target:\n",
      "  A man sleeping in a green room on a couch.\n",
      "Greedy prediction:\n",
      "  A man is sleeping in a dark room.\n",
      "Input:\n",
      "  Ein Junge mit Kopfhörern sitzt auf den Schultern einer Frau.\n",
      "Target:\n",
      "  A boy wearing headphones sits on a woman's shoulders.\n",
      "Greedy prediction:\n",
      "  A boy with dreadlocks on his face is sitting down.\n",
      "Input:\n",
      "  Zwei Männer bauen eine blaue Eisfischerhütte auf einem zugefrorenen See auf\n",
      "Target:\n",
      "  Two men setting up a blue ice fishing hut on an iced over lake\n",
      "Greedy prediction:\n",
      "  Two men are in a white house passing a house past a McDonalds.\n"
     ]
    },
    {
     "name": "stderr",
     "output_type": "stream",
     "text": [
      "/usr/local/lib/python3.6/dist-packages/ipykernel_launcher.py:22: UserWarning: To copy construct from a tensor, it is recommended to use sourceTensor.clone().detach() or sourceTensor.clone().detach().requires_grad_(True), rather than torch.tensor(sourceTensor).\n"
     ]
    }
   ],
   "source": [
    "def show_predictions(model, num_examples=4, include_beam=False):\n",
    "    for example in validation_data[:num_examples]:\n",
    "        print(\"Input:\")\n",
    "        print(\" \", example.src)\n",
    "        print(\"Target:\")\n",
    "        print(\" \", example.trg)\n",
    "        print(\"Greedy prediction:\")\n",
    "        print(\" \", predict_greedy(model, [example.src])[0])\n",
    "        if include_beam:\n",
    "            print(\"Beam predictions:\")\n",
    "            for candidate in predict_beam(model, [example.src])[0]:\n",
    "                print(\" \", candidate)\n",
    "            print()\n",
    "\n",
    "print(\"Baseline model sample predictions:\")\n",
    "print()\n",
    "show_predictions(baseline_model)"
   ]
  },
  {
   "cell_type": "markdown",
   "metadata": {
    "colab_type": "text",
    "id": "vb7NfD4BD7I_"
   },
   "source": [
    "## Sequence-to-sequence model with attention"
   ]
  },
  {
   "cell_type": "markdown",
   "metadata": {
    "colab_type": "text",
    "id": "9SNJwlAO9N0k"
   },
   "source": [
    "Next, we extend the baseline model to include an attention mechanism in the decoder. This circumvents the need to store all information about the source sentence in a fixed-size representation, and should substantially improve performance and convergence time.\n",
    "\n",
    "We use bilinear attention, where the attention distribution over the encoder outputs $e_1, \\dots, e_n$ given a decoder LSTM output $d$ is obtained via a softmax of the dot products after a suitable projection: $w_i \\propto \\exp ( e_i^\\top W d )$. The unnormalized attention logits for encoder outputs corresponding to padding tokens should be offset with a large negative value to ensure that the corresponding attention weights are $0$.\n",
    "\n",
    "After computing the attention distribution, we take a weighted sum of the encoder outputs to obtain the attention context $c = \\sum_i w_i e_i$, and add this to the decoder output $d$ to obtain the final representation to be passed to the vocabulary projection layer."
   ]
  },
  {
   "cell_type": "code",
   "execution_count": null,
   "metadata": {
    "colab": {},
    "colab_type": "code",
    "id": "0uI8j0Sa-gNa"
   },
   "outputs": [],
   "source": [
    "class Seq2seqAttention(Seq2seqBaseline):\n",
    "  def __init__(self):\n",
    "    super().__init__()\n",
    "\n",
    "    self.W = nn.Linear(2*256, 256, bias=False)\n",
    "    self.proj = nn.Linear(512,256, bias=False)\n",
    "\n",
    "  def decode(self, decoder_input, initial_hidden, encoder_output, encoder_mask):\n",
    "    \"\"\"Run the decoder LSTM starting from an initial hidden state.\n",
    "\n",
    "    The third and fourth arguments are not used in the baseline model, but are\n",
    "    included for compatibility with the attention model in the next section.\n",
    "\n",
    "    Args:\n",
    "      decoder_input: An integer tensor with shape (max_decoder_sequence_length,\n",
    "        batch_size) containing the subword indices for the decoder input. During\n",
    "        evaluation, where decoding proceeds one step at a time, the initial\n",
    "        dimension should be 1.\n",
    "      initial_hidden: A pair of tensors (h_0, c_0) representing the initial\n",
    "        state of the decoder, each with shape (num_layers, batch_size,\n",
    "        hidden_size).\n",
    "      encoder_output: The output of the encoder with shape\n",
    "        (max_source_sequence_length, batch_size, 2 * hidden_size).\n",
    "      encoder_mask: The output mask from the encoder with shape\n",
    "        (max_source_sequence_length, batch_size). Encoder outputs at positions\n",
    "        with a True value correspond to padding tokens and should be ignored.\n",
    "\n",
    "    Returns:\n",
    "      A tuple with three elements:\n",
    "        logits: A tensor with shape (max_decoder_sequence_length, batch_size,\n",
    "          vocab_size) containing unnormalized scores for the next-word\n",
    "          predictions at each position.\n",
    "        decoder_hidden: A pair of tensors (h_n, c_n) with the same shape as\n",
    "          initial_hidden representing the updated decoder state after processing\n",
    "          the decoder input.\n",
    "        attention_weights: A tensor with shape (max_decoder_sequence_length,\n",
    "          batch_size, max_source_sequence_length) representing the normalized\n",
    "          attention weights. This should sum to 1 along the last dimension.\n",
    "    \"\"\"\n",
    "    max_source_len = encoder_output.shape[0]\n",
    "    max_decoder_len = decoder_input.shape[0]\n",
    "    batch_size = decoder_input.shape[1]\n",
    "    x = self.embedding(decoder_input).view(-1, batch_size, 256)\n",
    "    decoder_output, decoder_hidden = self.lstm_decoder(x, initial_hidden)\n",
    "\n",
    "    alpha = self.W(encoder_output) #(source_len, batch_size, 256) do not put batch first\n",
    "    decoder_output = decoder_output.permute(1,0,2) #(batch_size, decoder_len, 256)\n",
    "    alpha = torch.einsum('ilk,imk->ilm', [alpha.permute(1,0,2), decoder_output]) #(batch, max_source_len, max_decoder_len)\n",
    "    alpha = F.softmax(alpha.permute(1,0,2) + encoder_mask.unsqueeze(2).repeat(1,1,max_decoder_len))\n",
    "    c = encoder_output.permute(1,0,2).unsqueeze(1).repeat(1,max_decoder_len,1,1) #(batch, max_decoder_len, max_source_len, 512)\n",
    "    c = alpha.permute(1,2,0).unsqueeze(3).repeat(1,1,1,512)*c #(batch, max_decoder_len, 512)\n",
    "    c = c.sum(axis=2).reshape(-1, max_decoder_len, 512)\n",
    "    decoder_output = self.proj(c) + decoder_output\n",
    "    logits = self.linear(decoder_output.permute(1,0,2))\n",
    "    return logits, decoder_hidden, alpha.permute(2,0,1)"
   ]
  },
  {
   "cell_type": "code",
   "execution_count": null,
   "metadata": {
    "colab": {
     "base_uri": "https://localhost:8080/",
     "height": 763,
     "referenced_widgets": [
      "a817203b8463465aaf879cb2f4e33ac2",
      "1da2cef1a056407ab8b7abc9eeadd22d",
      "7813b0ed8afd47be86730f0130dce228",
      "09ad738fbb8040488fa86834e26819f9",
      "53fd93b9b53344f09977c39a3e61bd14",
      "c4e23f5c04e54d5da759647c7c091cc1",
      "84e7990a67bd4b3f95545ef8974e995f",
      "84107a1e297942a28461fc0b3d4fc192",
      "b0ca80fbe6e84bd19e12b27327f7246b",
      "dbc85c374333468095b206feb3c2e823",
      "236163622af14877aceee90e8bb743e9",
      "403c4fca35934bc8ae09d5dab597e5e4",
      "eb5374177fe542309eb216569dcfca8b",
      "15b771ba42074ef49c02656467c293d8",
      "29c5e47d9efa46babe54db393bef4fcd",
      "9081e58f089f476899e30104b93f3d9f",
      "cf11b6739ddd422ab04ad99f1b062383",
      "ef074afb16a6459e8105dace4bfb3b22",
      "7fdd7fe3531c4a498440dcf8f0320393",
      "ef463456675a4a07b89657101a8becb2",
      "fd455e1e186b463bb066094674e324bd",
      "bc9718539b4a4d448d074870e5d3e487",
      "ce5199065cda4adfa3293e04078a7530",
      "81dafadc528746d792e632c37bef3ee1",
      "41778e980a4d4b6a97c5f7c2134b2504",
      "cb50029637bd436da9a9a2c798218006",
      "4f2660dbb9254ef6b7439b5795c9f9d4",
      "85d315938f4e434cbd0bba699fede8ef",
      "9fd86e61a3f940558d693049e1bcb1e4",
      "150d8bfa107e4c74bda8393f4f04b8ad",
      "73920af72d7043b6bc4fac3956ced817",
      "efd6c8cc70e040afad934b656f3f1a43",
      "4da55f40c5744907bb9caff87edaf389",
      "854b7ccb2e954014b4aec737c7d0c8f0",
      "91b4e8ac398343eabb25de29fa6941a8",
      "cecd42eb4c2b4de68587141f47957e41",
      "e2585032dc6746c38a2a410c5f514cfe",
      "01f186c60e984f07bbd05b542785faf7",
      "bd64aca57d4849aca946f00cb5282b40",
      "d969c0ab2b414bf98ba6f2bba5ec2338",
      "b6366d63074c4d71b48ebf88a7e5c466",
      "8cfdd4c7613643febe3f5e9cd0b89e5a",
      "b788f0e974f942c092277e2bfea28178",
      "50ce579cd159482d8e3b164634a49a29",
      "22b7391a49ca4275bbe4746762d8c8fc",
      "039b4c47cbcf4bd0b9f70b93ec3da43a",
      "012ebffbdbd54a0f827a9dae9ca06326",
      "2845a8f4078742f38b17018fdc25516d",
      "6808da4f641f4ef09e5704e734fb3b98",
      "b0576a4df6314dd4923d66d80f4cdad8",
      "a12f61c6b9cf4f4dbf6bbf923b1cb052",
      "c3fc643ef4514b949cd7d3bd868dbafe",
      "18fa991d008c49fabac3f2672acde582",
      "4a83850479904d25ae3b0b66b6e6b5ee",
      "b371b303af0344b798a29b3d8f5ff121",
      "96e3983f306b409ebfb16d03efd19e3a",
      "0f68ef5482a7415aa9b956d79692f937",
      "8178b50311904fd9a086b63996fb0ec5",
      "204a690889c04165b8b2931c96c8cfba",
      "b492fb67f01a434e876b00945eb16657",
      "0163e27d59c54400b0718ec37b3e9e28",
      "b6aba8044a6848a5817cb4bca28f0f88",
      "5d6959a62c7b4aa8a1f0aa7557589464",
      "e2621d010cca4e299212580b470c19e4",
      "4ae799b369fd4a8badb68d4432f9982e",
      "eac9861c6e204e99847538ecdfed4c72",
      "4ffc59d08bd844ad832b9e3ed30e0780",
      "f19071333f604f5a9b01a9ae42ece870",
      "405c6a496a81486fa0147df3453d6549",
      "349de2ef227143e19f3df0e283f42306",
      "8e773d2199cb441cbc66b0ee709ce0f1",
      "f10d85fc84804176a0ddaac230f07657",
      "e373451e38c4495faa387474117c5c8e",
      "a634b54976154cdcb2b0b278f928053d",
      "81b74506dad544a283f897ee835886d8",
      "6c05ec4ec42e48878b8f5fddf6ea0d5a",
      "7059ef31403c42229b88a932b6a66e42",
      "625b3b987ab84e93a668a6e015bb6410",
      "2f69cc650ad0475480c34fe20d043066",
      "47a51cc0f356475588e1667dd463a75f",
      "4b007a6ebba149e1885f0ccde5bf8e6a",
      "3cf4aa2303eb498eac2250f678c78d70",
      "3cf47ad1d2234aaea0dba465130e3545",
      "4d5b62266f05459cafb6b1ccf7b609b1",
      "97d01bb216004947a72b59c6cb4e33c2",
      "2913688950ed4fe3859347164d2a1188",
      "b93bd6e063394e7c80956c84581571c5",
      "93df464090f44440a6065031fb1e34a1"
     ]
    },
    "colab_type": "code",
    "id": "0YvMnDHxJOZv",
    "outputId": "c7616761-056e-4558-9517-849917cb9cdd"
   },
   "outputs": [
    {
     "data": {
      "application/vnd.jupyter.widget-view+json": {
       "model_id": "a817203b8463465aaf879cb2f4e33ac2",
       "version_major": 2,
       "version_minor": 0
      },
      "text/plain": [
       "HBox(children=(FloatProgress(value=0.0, description='training', max=10.0, style=ProgressStyle(description_widt…"
      ]
     },
     "metadata": {
      "tags": []
     },
     "output_type": "display_data"
    },
    {
     "data": {
      "application/vnd.jupyter.widget-view+json": {
       "model_id": "b0ca80fbe6e84bd19e12b27327f7246b",
       "version_major": 2,
       "version_minor": 0
      },
      "text/plain": [
       "HBox(children=(FloatProgress(value=0.0, description='epoch 1', max=1813.0, style=ProgressStyle(description_wid…"
      ]
     },
     "metadata": {
      "tags": []
     },
     "output_type": "display_data"
    },
    {
     "name": "stderr",
     "output_type": "stream",
     "text": [
      "/usr/local/lib/python3.6/dist-packages/ipykernel_launcher.py:22: UserWarning: To copy construct from a tensor, it is recommended to use sourceTensor.clone().detach() or sourceTensor.clone().detach().requires_grad_(True), rather than torch.tensor(sourceTensor).\n",
      "/usr/local/lib/python3.6/dist-packages/ipykernel_launcher.py:59: UserWarning: Implicit dimension choice for softmax has been deprecated. Change the call to include dim=X as an argument.\n"
     ]
    },
    {
     "name": "stdout",
     "output_type": "stream",
     "text": [
      "\n",
      "Obtained a new best validation accuracy of 53.31, saving model checkpoint to attention_model.pt...\n"
     ]
    },
    {
     "data": {
      "application/vnd.jupyter.widget-view+json": {
       "model_id": "cf11b6739ddd422ab04ad99f1b062383",
       "version_major": 2,
       "version_minor": 0
      },
      "text/plain": [
       "HBox(children=(FloatProgress(value=0.0, description='epoch 2', max=1813.0, style=ProgressStyle(description_wid…"
      ]
     },
     "metadata": {
      "tags": []
     },
     "output_type": "display_data"
    },
    {
     "name": "stdout",
     "output_type": "stream",
     "text": [
      "\n",
      "Obtained a new best validation accuracy of 58.94, saving model checkpoint to attention_model.pt...\n"
     ]
    },
    {
     "data": {
      "application/vnd.jupyter.widget-view+json": {
       "model_id": "41778e980a4d4b6a97c5f7c2134b2504",
       "version_major": 2,
       "version_minor": 0
      },
      "text/plain": [
       "HBox(children=(FloatProgress(value=0.0, description='epoch 3', max=1813.0, style=ProgressStyle(description_wid…"
      ]
     },
     "metadata": {
      "tags": []
     },
     "output_type": "display_data"
    },
    {
     "name": "stdout",
     "output_type": "stream",
     "text": [
      "\n",
      "Obtained a new best validation accuracy of 61.31, saving model checkpoint to attention_model.pt...\n"
     ]
    },
    {
     "data": {
      "application/vnd.jupyter.widget-view+json": {
       "model_id": "4da55f40c5744907bb9caff87edaf389",
       "version_major": 2,
       "version_minor": 0
      },
      "text/plain": [
       "HBox(children=(FloatProgress(value=0.0, description='epoch 4', max=1813.0, style=ProgressStyle(description_wid…"
      ]
     },
     "metadata": {
      "tags": []
     },
     "output_type": "display_data"
    },
    {
     "name": "stdout",
     "output_type": "stream",
     "text": [
      "\n",
      "Obtained a new best validation accuracy of 62.45, saving model checkpoint to attention_model.pt...\n"
     ]
    },
    {
     "data": {
      "application/vnd.jupyter.widget-view+json": {
       "model_id": "b6366d63074c4d71b48ebf88a7e5c466",
       "version_major": 2,
       "version_minor": 0
      },
      "text/plain": [
       "HBox(children=(FloatProgress(value=0.0, description='epoch 5', max=1813.0, style=ProgressStyle(description_wid…"
      ]
     },
     "metadata": {
      "tags": []
     },
     "output_type": "display_data"
    },
    {
     "name": "stdout",
     "output_type": "stream",
     "text": [
      "\n",
      "Obtained a new best validation accuracy of 63.14, saving model checkpoint to attention_model.pt...\n"
     ]
    },
    {
     "data": {
      "application/vnd.jupyter.widget-view+json": {
       "model_id": "6808da4f641f4ef09e5704e734fb3b98",
       "version_major": 2,
       "version_minor": 0
      },
      "text/plain": [
       "HBox(children=(FloatProgress(value=0.0, description='epoch 6', max=1813.0, style=ProgressStyle(description_wid…"
      ]
     },
     "metadata": {
      "tags": []
     },
     "output_type": "display_data"
    },
    {
     "name": "stdout",
     "output_type": "stream",
     "text": [
      "\n",
      "Obtained a new best validation accuracy of 63.94, saving model checkpoint to attention_model.pt...\n"
     ]
    },
    {
     "data": {
      "application/vnd.jupyter.widget-view+json": {
       "model_id": "0f68ef5482a7415aa9b956d79692f937",
       "version_major": 2,
       "version_minor": 0
      },
      "text/plain": [
       "HBox(children=(FloatProgress(value=0.0, description='epoch 7', max=1813.0, style=ProgressStyle(description_wid…"
      ]
     },
     "metadata": {
      "tags": []
     },
     "output_type": "display_data"
    },
    {
     "name": "stdout",
     "output_type": "stream",
     "text": [
      "\n",
      "Obtained a new best validation accuracy of 65.10, saving model checkpoint to attention_model.pt...\n"
     ]
    },
    {
     "data": {
      "application/vnd.jupyter.widget-view+json": {
       "model_id": "4ae799b369fd4a8badb68d4432f9982e",
       "version_major": 2,
       "version_minor": 0
      },
      "text/plain": [
       "HBox(children=(FloatProgress(value=0.0, description='epoch 8', max=1813.0, style=ProgressStyle(description_wid…"
      ]
     },
     "metadata": {
      "tags": []
     },
     "output_type": "display_data"
    },
    {
     "name": "stdout",
     "output_type": "stream",
     "text": [
      "\n"
     ]
    },
    {
     "data": {
      "application/vnd.jupyter.widget-view+json": {
       "model_id": "e373451e38c4495faa387474117c5c8e",
       "version_major": 2,
       "version_minor": 0
      },
      "text/plain": [
       "HBox(children=(FloatProgress(value=0.0, description='epoch 9', max=1813.0, style=ProgressStyle(description_wid…"
      ]
     },
     "metadata": {
      "tags": []
     },
     "output_type": "display_data"
    },
    {
     "name": "stdout",
     "output_type": "stream",
     "text": [
      "\n"
     ]
    },
    {
     "data": {
      "application/vnd.jupyter.widget-view+json": {
       "model_id": "4b007a6ebba149e1885f0ccde5bf8e6a",
       "version_major": 2,
       "version_minor": 0
      },
      "text/plain": [
       "HBox(children=(FloatProgress(value=0.0, description='epoch 10', max=1813.0, style=ProgressStyle(description_wi…"
      ]
     },
     "metadata": {
      "tags": []
     },
     "output_type": "display_data"
    },
    {
     "name": "stdout",
     "output_type": "stream",
     "text": [
      "\n",
      "\n",
      "Reloading best model checkpoint from attention_model.pt...\n",
      "Attention model validation BLEU using greedy search: 34.990320881008785\n"
     ]
    }
   ],
   "source": [
    "num_epochs = 10\n",
    "batch_size = 16\n",
    "\n",
    "attention_model = Seq2seqAttention().to(device)\n",
    "train(attention_model, num_epochs, batch_size, \"attention_model.pt\")\n",
    "print(\"Attention model validation BLEU using greedy search:\",\n",
    "      evaluate(attention_model, validation_data))"
   ]
  },
  {
   "cell_type": "markdown",
   "metadata": {},
   "source": [
    "We can load a pre-saved model again:"
   ]
  },
  {
   "cell_type": "code",
   "execution_count": 18,
   "metadata": {
    "colab": {
     "base_uri": "https://localhost:8080/",
     "height": 34
    },
    "colab_type": "code",
    "id": "3hZQYrgkELKO",
    "outputId": "b5769276-0f68-449d-e6d0-89af9a4515e8"
   },
   "outputs": [
    {
     "data": {
      "text/plain": [
       "<All keys matched successfully>"
      ]
     },
     "execution_count": 18,
     "metadata": {
      "tags": []
     },
     "output_type": "execute_result"
    }
   ],
   "source": [
    "attention_model = Seq2seqAttention().to(device)\n",
    "model_file = 'attention_model.pt'\n",
    "attention_model.load_state_dict(torch.load(model_file))"
   ]
  },
  {
   "cell_type": "code",
   "execution_count": 19,
   "metadata": {
    "colab": {
     "base_uri": "https://localhost:8080/",
     "height": 139
    },
    "colab_type": "code",
    "id": "xtHW6rYgujd3",
    "outputId": "f0f9585f-d0ad-4996-bc40-10ea5522834f"
   },
   "outputs": [
    {
     "name": "stderr",
     "output_type": "stream",
     "text": [
      "/usr/local/lib/python3.6/dist-packages/ipykernel_launcher.py:22: UserWarning: To copy construct from a tensor, it is recommended to use sourceTensor.clone().detach() or sourceTensor.clone().detach().requires_grad_(True), rather than torch.tensor(sourceTensor).\n",
      "/usr/local/lib/python3.6/dist-packages/ipykernel_launcher.py:59: UserWarning: Implicit dimension choice for softmax has been deprecated. Change the call to include dim=X as an argument.\n"
     ]
    },
    {
     "name": "stdout",
     "output_type": "stream",
     "text": [
      "\n",
      "Perplexity: 6.328194941096404\n",
      "Accuracy: 65.10349088662342\n",
      "\n"
     ]
    }
   ],
   "source": [
    "p, a = evaluate_next_token(attention_model, validation_data)\n",
    "print('\\nPerplexity: {}\\nAccuracy: {}\\n'.format(p,a))"
   ]
  },
  {
   "cell_type": "code",
   "execution_count": 20,
   "metadata": {
    "colab": {
     "base_uri": "https://localhost:8080/",
     "height": 88
    },
    "colab_type": "code",
    "id": "RJjDoBj_PMUG",
    "outputId": "a53f5d6a-0e49-46dd-832c-4de672c0be6e"
   },
   "outputs": [
    {
     "name": "stderr",
     "output_type": "stream",
     "text": [
      "/usr/local/lib/python3.6/dist-packages/ipykernel_launcher.py:22: UserWarning: To copy construct from a tensor, it is recommended to use sourceTensor.clone().detach() or sourceTensor.clone().detach().requires_grad_(True), rather than torch.tensor(sourceTensor).\n",
      "/usr/local/lib/python3.6/dist-packages/ipykernel_launcher.py:59: UserWarning: Implicit dimension choice for softmax has been deprecated. Change the call to include dim=X as an argument.\n"
     ]
    },
    {
     "name": "stdout",
     "output_type": "stream",
     "text": [
      "Attention model validation BLEU using greedy search: 34.990320881008785\n"
     ]
    }
   ],
   "source": [
    "print(\"Attention model validation BLEU using greedy search:\",\n",
    "      evaluate(attention_model, validation_data))"
   ]
  },
  {
   "cell_type": "code",
   "execution_count": 21,
   "metadata": {
    "colab": {
     "base_uri": "https://localhost:8080/",
     "height": 530
    },
    "colab_type": "code",
    "id": "U2dWb-JrA2bR",
    "outputId": "7c35935a-bc6b-4439-a109-e6fd24a563f2"
   },
   "outputs": [
    {
     "name": "stdout",
     "output_type": "stream",
     "text": [
      "\n",
      "Attention model sample predictions:\n",
      "\n",
      "Input:\n",
      "  Eine Gruppe von Männern lädt Baumwolle auf einen Lastwagen\n",
      "Target:\n",
      "  A group of men are loading cotton onto a truck\n",
      "Greedy prediction:\n",
      "  A group of men load tree on a truck in a truck.\n",
      "Input:\n",
      "  Ein Mann schläft in einem grünen Raum auf einem Sofa.\n",
      "Target:\n",
      "  A man sleeping in a green room on a couch.\n",
      "Greedy prediction:\n",
      "  A man sleeping in a green room on a couch.\n",
      "Input:\n",
      "  Ein Junge mit Kopfhörern sitzt auf den Schultern einer Frau.\n",
      "Target:\n",
      "  A boy wearing headphones sits on a woman's shoulders.\n",
      "Greedy prediction:\n",
      "  A boy wearing headphones is sitting on the shoulders of a woman.\n",
      "Input:\n",
      "  Zwei Männer bauen eine blaue Eisfischerhütte auf einem zugefrorenen See auf\n",
      "Target:\n",
      "  Two men setting up a blue ice fishing hut on an iced over lake\n",
      "Greedy prediction:\n",
      "  Two men building a blue ice cream lake on a tree trunk.\n"
     ]
    },
    {
     "name": "stderr",
     "output_type": "stream",
     "text": [
      "/usr/local/lib/python3.6/dist-packages/ipykernel_launcher.py:22: UserWarning: To copy construct from a tensor, it is recommended to use sourceTensor.clone().detach() or sourceTensor.clone().detach().requires_grad_(True), rather than torch.tensor(sourceTensor).\n",
      "/usr/local/lib/python3.6/dist-packages/ipykernel_launcher.py:59: UserWarning: Implicit dimension choice for softmax has been deprecated. Change the call to include dim=X as an argument.\n"
     ]
    }
   ],
   "source": [
    "print()\n",
    "print(\"Attention model sample predictions:\")\n",
    "print()\n",
    "\n",
    "show_predictions(attention_model)"
   ]
  },
  {
   "cell_type": "markdown",
   "metadata": {
    "colab_type": "text",
    "id": "u15C5gGLMVSa"
   },
   "source": [
    "## Beam Search"
   ]
  },
  {
   "cell_type": "markdown",
   "metadata": {
    "colab_type": "text",
    "id": "R7I01Tl1MYR9"
   },
   "source": [
    "Now it's time to implement beam search.\n",
    "\n",
    "Similar to greedy search, beam search generates one token at a time. However, rather than keeping only the single best hypothesis, we instead keep the top $k$ candidates at each time step. This is accomplished by computing the set of next-token extensions for each item on the beam and finding the top $k$ across all candidates according to total log-probability.\n",
    "\n",
    "Candidates that are finished should stay on the beam through the end of inference. The search process concludes once all $k$ items on the beam are complete."
   ]
  },
  {
   "cell_type": "code",
   "execution_count": 33,
   "metadata": {
    "colab": {
     "base_uri": "https://localhost:8080/",
     "height": 1000
    },
    "colab_type": "code",
    "id": "-n3h47bJ8sz-",
    "outputId": "7acd380e-6690-4519-8886-8b3ac9cc9f0e"
   },
   "outputs": [
    {
     "name": "stderr",
     "output_type": "stream",
     "text": [
      "/usr/local/lib/python3.6/dist-packages/ipykernel_launcher.py:22: UserWarning: To copy construct from a tensor, it is recommended to use sourceTensor.clone().detach() or sourceTensor.clone().detach().requires_grad_(True), rather than torch.tensor(sourceTensor).\n"
     ]
    },
    {
     "name": "stdout",
     "output_type": "stream",
     "text": [
      "Baseline model validation BLEU using beam search: 18.307150312400722\n",
      "\n",
      "Baseline model sample predictions:\n",
      "\n",
      "Input:\n",
      "  Eine Gruppe von Männern lädt Baumwolle auf einen Lastwagen\n",
      "Target:\n",
      "  A group of men are loading cotton onto a truck\n",
      "Greedy prediction:\n",
      "  A group of men are parked on a tree.\n",
      "Beam predictions:\n",
      "  A group of men are parked on a tree.\n",
      "  A group of men are working on a tree.\n",
      "  A group of men are parked working on a tree.\n",
      "  A group of men are parked on a tree stump.\n",
      "  A group of men are parked together on a tree.\n",
      "\n",
      "Input:\n",
      "  Ein Mann schläft in einem grünen Raum auf einem Sofa.\n",
      "Target:\n",
      "  A man sleeping in a green room on a couch.\n",
      "Greedy prediction:\n",
      "  A man is sleeping in a dark room.\n",
      "Beam predictions:\n",
      "  One asleep in a green couch on a couch.\n",
      "  One asleep in a dark room on a couch.\n",
      "  One asleep in a dark green couch.\n",
      "  One asleep in a dark room while sleeping.\n",
      "  A man is asleep in as he is on the table.\n",
      "\n",
      "Input:\n",
      "  Ein Junge mit Kopfhörern sitzt auf den Schultern einer Frau.\n",
      "Target:\n",
      "  A boy wearing headphones sits on a woman's shoulders.\n",
      "Greedy prediction:\n",
      "  A boy with dreadlocks on his face is sitting down.\n",
      "Beam predictions:\n",
      "  A boy with dreadlocks on his face sits.\n",
      "  A boy with dreadlocks on his face is sitting down\n",
      "  A boy with dreadlocks on his face is reading.\n",
      "  A boy with dreadlocks on his face is sitting on a stage.\n",
      "  One boy sitting on stage reading for a woman.\n",
      "\n",
      "Input:\n",
      "  Zwei Männer bauen eine blaue Eisfischerhütte auf einem zugefrorenen See auf\n",
      "Target:\n",
      "  Two men setting up a blue ice fishing hut on an iced over lake\n",
      "Greedy prediction:\n",
      "  Two men are in a white house passing a house past a McDonalds.\n",
      "Beam predictions:\n",
      "   ⁇  men are putting across across across a boat.\n",
      "  There are a men are putting across across as as white.\n",
      "  There are a men are putting across across across a houses a boat.\n",
      "  There are a men are putting across across across a houses a boat.\n",
      "  There are a men are putting across across across a houses a house.\n",
      "\n"
     ]
    }
   ],
   "source": [
    "class Node():\n",
    "    def __init__(self, val, prob, parent):\n",
    "        self.val = int(val)\n",
    "        self.prob = prob\n",
    "        self.parent = parent\n",
    "        self.eos = False #if eos tag is present in chain\n",
    "        if self.parent != None:\n",
    "            self.eos = self.parent.eos\n",
    "        \n",
    "        if self.eos and val == pad_id:\n",
    "            self.prob = 1.\n",
    "        elif self.eos == False and val == eos_id:\n",
    "            self.eos = True\n",
    "    def compute_prob(self):\n",
    "         node = self\n",
    "         prob = 1.\n",
    "         while node != None:\n",
    "             prob = prob*node.prob\n",
    "             node = node.parent\n",
    "         return prob\n",
    "    def get_sentence(self):\n",
    "        node = self\n",
    "        sentence = []\n",
    "        while node != None:\n",
    "            sentence.append(node.val)\n",
    "            node = node.parent\n",
    "        sentence = sentence[::-1]\n",
    "        return sentence\n",
    "\n",
    "class Batch_Tree():\n",
    "    def __init__(self, k):\n",
    "        self.root = [Node(bos_id, 1, None) for _ in range(k)]\n",
    "        self.leaves = self.root\n",
    "        self.k = k\n",
    "    def first_iteration(self, candidates): #(k,vocab_size)\n",
    "        idx = np.argsort(candidates, axis = 1)[:,-self.k:]\n",
    "        self.leaves = [Node(idx[j,j], candidates[j,idx[j,j]], self.leaves[j]) for j in range(self.k)]\n",
    "       \n",
    "    def add_candidates(self, candidates): #(k,vocab_size)\n",
    "        idx = np.argsort(candidates)[:,-self.k:] #keep the k largest values\n",
    "        self.leaves = [[Node(j, candidates[i,j], self.leaves[i]) for j in idx[i]] for i in range(self.k)]\n",
    "        self.leaves = sum(self.leaves, [])\n",
    "\n",
    "    def prune(self):\n",
    "        probs = [leaf.compute_prob() for leaf in self.leaves]\n",
    "        idx = np.argsort(probs)[-self.k:]\n",
    "        self.leaves = [self.leaves[i] for i in idx]\n",
    "    def get_target(self):\n",
    "        return [node.val for node in self.leaves]\n",
    "    def end_generation(self):\n",
    "        #count eos tokens\n",
    "        a = [int(leaf.eos) for leaf in self.leaves]\n",
    "        return sum(a) == self.k #true or false\n",
    "    def get_prediction(self):\n",
    "        sentences = [leaf.get_sentence() for leaf in self.leaves]\n",
    "        sentences = sentences[::-1] #sort in descending probability order\n",
    "        return sentences\n",
    "\n",
    "class Tree():\n",
    "    def __init__(self, batch_size, k):\n",
    "        self.batch = [Batch_Tree(k) for _ in range(batch_size)]\n",
    "        self.batch_size = batch_size\n",
    "        self.k = k\n",
    "    def first_iteration(self, candidates): #(batch_size,k,vocab_size)\n",
    "        for i in range(candidates.shape[0]):\n",
    "            self.batch[i].first_iteration(candidates[i])\n",
    "        \n",
    "    def add_candidates(self, candidates): #(batch_size, k, vocab_size)\n",
    "        for i in range(candidates.shape[0]):\n",
    "            self.batch[i].add_candidates(candidates[i])\n",
    "\n",
    "    def prune(self):\n",
    "        for i in range(self.batch_size):\n",
    "            self.batch[i].prune()\n",
    "\n",
    "    def get_target(self):\n",
    "        return np.array([tree.get_target() for tree in self.batch]).reshape(self.batch_size, self.k, -1)\n",
    "    def end_generation(self):\n",
    "        a = [int(tree.end_generation()) for tree in self.batch]\n",
    "        return sum(a) == self.batch_size #true or false\n",
    "    def get_prediction(self):\n",
    "        return [tree.get_prediction() for tree in self.batch]\n",
    "\n",
    "def predict_beam(model, sentences, k=5, max_length=20):\n",
    "    \"\"\"Make predictions for the given inputs using beam search.\n",
    "    \n",
    "    Args:\n",
    "        model: A sequence-to-sequence model.\n",
    "        sentences: A list of input sentences, represented as strings.\n",
    "        k: The size of the beam.\n",
    "        max_length: The maximum length at which to truncate outputs in order to\n",
    "        avoid non-terminating inference.\n",
    "  \n",
    "    Returns:\n",
    "        A list of beam predictions. Each element in the list should be a list of k\n",
    "        strings corresponding to the top k predictions for the corresponding input,\n",
    "        sorted in descending order by score.\n",
    "    \"\"\"\n",
    "    # Once an EOS token has been generated, we force the output\n",
    "    # for that candidate to be padding tokens in all subsequent time steps by\n",
    "    # adding a large positive number like 1e9 to the appropriate logits. This\n",
    "    # will ensure that the candidate stays on the beam, as its probability\n",
    "    # will be very close to 1 and its score will effectively remain the same as\n",
    "    # when it was first completed.  All other (invalid) token continuations will\n",
    "    # have extremely low log probability and will not make it onto the beam.\n",
    "\n",
    "    # Some special care will need to be taken on the first iteration to ensure that the beam\n",
    "    # doesn't fill up with k identical copies of the same candidate.\n",
    "    \n",
    "    vocab_size = vocab.GetPieceSize()\n",
    "    source = make_batch(sentences)\n",
    "    encoder_output, encoder_mask, decoder_hidden = model.encode(source)\n",
    "    batch_size = len(sentences)\n",
    "\n",
    "    batch_tree = Tree(batch_size, k)\n",
    "    target = batch_tree.get_target()\n",
    "    cpt = 1\n",
    "\n",
    "    #first iteration\n",
    "    h_0 = decoder_hidden[0].repeat(1,1,k).view(2, batch_size*k,-1)\n",
    "    c_0 = decoder_hidden[1].repeat(1,1,k).view(2, batch_size*k,-1)\n",
    "    decoder_hidden = (h_0, c_0)\n",
    "    \n",
    "    encoder_output = encoder_output.repeat(1,1,k).view(-1, batch_size*k, 2*256)\n",
    "    encoder_mask = encoder_mask.repeat(1,1,k).view(-1,batch_size*k)\n",
    "\n",
    "    decoder_input = torch.tensor(target[:,:,-1].reshape(-1, batch_size*k), device = device)\n",
    "    logits, decoder_hidden, _ = model.decode(decoder_input, decoder_hidden, encoder_output, encoder_mask)\n",
    "    logits = logits.detach().cpu().numpy().reshape(batch_size, k, vocab_size)\n",
    "\n",
    "    batch_tree.first_iteration(logits)\n",
    "\n",
    "    while batch_tree.end_generation() == False and cpt < max_length:\n",
    "        cpt+=1\n",
    "        target = batch_tree.get_target()\n",
    "\n",
    "        decoder_input = torch.tensor(target[:,:,-1].reshape(-1, batch_size*k), device = device)\n",
    "        logits, decoder_hidden, _ = model.decode(decoder_input, decoder_hidden, encoder_output, encoder_mask)\n",
    "        logits = F.softmax(logits, dim = 2)\n",
    "        logits = logits.detach().cpu().numpy().reshape(batch_size, k, vocab_size)\n",
    "\n",
    "        batch_tree.add_candidates(logits)\n",
    "        batch_tree.prune()\n",
    "\n",
    "    result = batch_tree.get_prediction()\n",
    "    result = [[vocab.DecodeIds(row) for row in k] for k in result]\n",
    "    return result\n",
    "\n",
    "print(\"Baseline model validation BLEU using beam search:\",\n",
    "      evaluate(baseline_model, validation_data, method=\"beam\"))\n",
    "print()\n",
    "print(\"Baseline model sample predictions:\")\n",
    "print()\n",
    "show_predictions(baseline_model, include_beam=True)"
   ]
  },
  {
   "cell_type": "code",
   "execution_count": 34,
   "metadata": {
    "colab": {
     "base_uri": "https://localhost:8080/",
     "height": 1000
    },
    "colab_type": "code",
    "id": "XI76LuciROgh",
    "outputId": "7cc6e52a-48df-40c2-c67d-93b91f1161b6"
   },
   "outputs": [
    {
     "name": "stderr",
     "output_type": "stream",
     "text": [
      "/usr/local/lib/python3.6/dist-packages/ipykernel_launcher.py:22: UserWarning: To copy construct from a tensor, it is recommended to use sourceTensor.clone().detach() or sourceTensor.clone().detach().requires_grad_(True), rather than torch.tensor(sourceTensor).\n",
      "/usr/local/lib/python3.6/dist-packages/ipykernel_launcher.py:59: UserWarning: Implicit dimension choice for softmax has been deprecated. Change the call to include dim=X as an argument.\n"
     ]
    },
    {
     "name": "stdout",
     "output_type": "stream",
     "text": [
      "Attention model validation BLEU using beam search: 28.089378643028464\n",
      "\n",
      "Attention model sample predictions:\n",
      "\n",
      "Input:\n",
      "  Eine Gruppe von Männern lädt Baumwolle auf einen Lastwagen\n",
      "Target:\n",
      "  A group of men are loading cotton onto a truck\n",
      "Greedy prediction:\n",
      "  A group of men load tree on a truck in a truck.\n",
      "Beam predictions:\n",
      "  Group of men loading tree on a trucks.\n",
      "  A group of men are loading on top of a truck\n",
      "  A group of men are loading on a truck.\n",
      "  Group of men loading tree on top of a truck.\n",
      "  A group of men are loading onto a trucks.\n",
      "\n",
      "Input:\n",
      "  Ein Mann schläft in einem grünen Raum auf einem Sofa.\n",
      "Target:\n",
      "  A man sleeping in a green room on a couch.\n",
      "Greedy prediction:\n",
      "  A man sleeping in a green room on a couch.\n",
      "Beam predictions:\n",
      "  Man sleeping man sleeping in a green room..\n",
      "  Man sleeping man sleeping in a green room..\n",
      "  There is sleeping in green asleep in a green room.\n",
      "  There is sleeping in a green room on as room.\n",
      "  Man sleeping man sleeping in a green room on as.\n",
      "\n",
      "Input:\n",
      "  Ein Junge mit Kopfhörern sitzt auf den Schultern einer Frau.\n",
      "Target:\n",
      "  A boy wearing headphones sits on a woman's shoulders.\n",
      "Greedy prediction:\n",
      "  A boy wearing headphones is sitting on the shoulders of a woman.\n",
      "Beam predictions:\n",
      "  The boy sitting on the shoulders is sitting on the shoulders.\n",
      "  The boy sitting on a earphones on the shoulders.\n",
      "  One boy is sitting on a woman..\n",
      "  One boy is sitting on a woman..\n",
      "  The boy sitting on the shoulders is sitting on the shoulders of a\n",
      "\n",
      "Input:\n",
      "  Zwei Männer bauen eine blaue Eisfischerhütte auf einem zugefrorenen See auf\n",
      "Target:\n",
      "  Two men setting up a blue ice fishing hut on an iced over lake\n",
      "Greedy prediction:\n",
      "  Two men building a blue ice cream lake on a tree trunk.\n",
      "Beam predictions:\n",
      "   ⁇  men building a blue ice lake on a tree trunk.\n",
      "   ⁇  men building a blue ice lake on a tree trunk lake.\n",
      "   ⁇  men building a blue ice lake on a tree limb lake lake\n",
      "   ⁇  men building a blue ice lake on the lake lake lake lake.\n",
      "   ⁇  men building a blue ice lake on a mountain lake.\n",
      "\n"
     ]
    }
   ],
   "source": [
    "print(\"Attention model validation BLEU using beam search:\",\n",
    "      evaluate(attention_model, validation_data, method=\"beam\"))\n",
    "print()\n",
    "print(\"Attention model sample predictions:\")\n",
    "print()\n",
    "show_predictions(attention_model, include_beam=True)"
   ]
  },
  {
   "cell_type": "markdown",
   "metadata": {
    "colab_type": "text",
    "id": "EEQlwh2qELmY"
   },
   "source": [
    "## Attention visualization"
   ]
  },
  {
   "cell_type": "markdown",
   "metadata": {
    "colab_type": "text",
    "id": "edKLVL35EN7X"
   },
   "source": [
    "We can visualize the decoder attention learned by the attention model on gold source-target pairs from the validation data."
   ]
  },
  {
   "cell_type": "code",
   "execution_count": null,
   "metadata": {
    "colab": {
     "base_uri": "https://localhost:8080/",
     "height": 1000
    },
    "colab_type": "code",
    "id": "Ok-26cAK7vry",
    "outputId": "aa579f80-87aa-4bf9-8555-7d85ff8f4c35"
   },
   "outputs": [
    {
     "name": "stderr",
     "output_type": "stream",
     "text": [
      "/usr/local/lib/python3.6/dist-packages/ipykernel_launcher.py:22: UserWarning: To copy construct from a tensor, it is recommended to use sourceTensor.clone().detach() or sourceTensor.clone().detach().requires_grad_(True), rather than torch.tensor(sourceTensor).\n",
      "/usr/local/lib/python3.6/dist-packages/ipykernel_launcher.py:59: UserWarning: Implicit dimension choice for softmax has been deprecated. Change the call to include dim=X as an argument.\n"
     ]
    },
    {
     "name": "stdout",
     "output_type": "stream",
     "text": [
      "\n",
      "Source: Ein Mann schläft in einem grünen Raum auf einem Sofa.\n",
      "Target: A man sleeping in a green room on a couch.\n",
      "\n",
      "\n",
      "Source: Ein Junge mit Kopfhörern sitzt auf den Schultern einer Frau.\n",
      "Target: A boy wearing headphones sits on a woman's shoulders.\n",
      "\n",
      "\n",
      "Source: Zwei Männer bauen eine blaue Eisfischerhütte auf einem zugefrorenen See auf\n",
      "Target: Two men setting up a blue ice fishing hut on an iced over lake\n",
      "\n"
     ]
    },
    {
     "data": {
      "image/png": "[encoded data removed]",
      "text/plain": [
       "<Figure size 432x288 with 2 Axes>"
      ]
     },
     "metadata": {
      "tags": []
     },
     "output_type": "display_data"
    },
    {
     "data": {
      "image/png": "[encoded data removed]",
      "text/plain": [
       "<Figure size 432x288 with 2 Axes>"
      ]
     },
     "metadata": {
      "tags": []
     },
     "output_type": "display_data"
    },
    {
     "data": {
      "image/png": "[encoded data removed]",
      "text/plain": [
       "<Figure size 432x288 with 2 Axes>"
      ]
     },
     "metadata": {
      "tags": []
     },
     "output_type": "display_data"
    }
   ],
   "source": [
    "import seaborn as sns\n",
    "for i in range(1,4):\n",
    "    plt.subplots()\n",
    "    source = [validation_data[i].src]\n",
    "    source = make_batch(source)\n",
    "    target = [validation_data[i].trg]\n",
    "    target = make_batch(target)\n",
    "    encoder_output, encoder_mask, encoder_hidden = attention_model.encode(source)\n",
    "    decoder_input, decoder_target = target[:-1], target[1:]\n",
    "    logits, decoder_hidden, attention_weights = attention_model.decode(decoder_input, encoder_hidden, encoder_output, encoder_mask)\n",
    "    attention_weights = attention_weights.detach().cpu().numpy().squeeze()\n",
    "    sns.heatmap(attention_weights)\n",
    "    plt.xlabel('Target Sentence')\n",
    "    plt.ylabel('Source Sentence')\n",
    "    print('\\nSource: {}'.format(validation_data[i].src))\n",
    "    print('Target: {}'.format(validation_data[i].trg))\n",
    "    print()"
   ]
  },
  {
   "cell_type": "markdown",
   "metadata": {
    "colab_type": "text",
    "id": "0Y8xCIt_82WF"
   },
   "source": [
    "Generally, it seems that the attention gives all of the weight to encoder and decoder hidden states that have approximately the same place in the sentence.This results in an almost identity-like attention matrix. \n",
    "<br><br>In some cases however, we can see the weight beginning to spread further from the diagonal, implying that certain dependencies between words arise in different orders. \n",
    "<br><br>\n",
    "For example, the end of the second source sentence is: \"den Schultern einer Frau\" which correspond to the target \"a woman's shoulders\". As the genitive takes a different form in english and in german, we can see the attention mechanism is attributing weights to words in a different order than the identity matrix.\n",
    "<br><br>\n",
    "Additionally, some words and adjectives can be combined into one in german (Eisfischerhütte -> ice fishing hut), which results in zero entries in the attention weights. There is also syntactic dependencies at the end of the sentence that require looking at the words in a different order.\n",
    "<br><br>\n",
    "Mostly, the observed differences come from syntactic differences between both languages."
   ]
  }
 ],
 "metadata": {
  "accelerator": "GPU",
  "colab": {
   "collapsed_sections": [],
   "name": "proj_2.ipynb",
   "provenance": []
  },
  "kernelspec": {
   "display_name": "Python 3",
   "language": "python",
   "name": "python3"
  },
  "language_info": {
   "codemirror_mode": {
    "name": "ipython",
    "version": 3
   },
   "file_extension": ".py",
   "mimetype": "text/x-python",
   "name": "python",
   "nbconvert_exporter": "python",
   "pygments_lexer": "ipython3",
   "version": "3.6.9"
  },
  "widgets": {
   "application/vnd.jupyter.widget-state+json": {
    "012ebffbdbd54a0f827a9dae9ca06326": {
     "model_module": "@jupyter-widgets/controls",
     "model_name": "DescriptionStyleModel",
     "state": {
      "_model_module": "@jupyter-widgets/controls",
      "_model_module_version": "1.5.0",
      "_model_name": "DescriptionStyleModel",
      "_view_count": null,
      "_view_module": "@jupyter-widgets/base",
      "_view_module_version": "1.2.0",
      "_view_name": "StyleView",
      "description_width": ""
     }
    },
    "0163e27d59c54400b0718ec37b3e9e28": {
     "model_module": "@jupyter-widgets/controls",
     "model_name": "ProgressStyleModel",
     "state": {
      "_model_module": "@jupyter-widgets/controls",
      "_model_module_version": "1.5.0",
      "_model_name": "ProgressStyleModel",
      "_view_count": null,
      "_view_module": "@jupyter-widgets/base",
      "_view_module_version": "1.2.0",
      "_view_name": "StyleView",
      "bar_color": null,
      "description_width": "initial"
     }
    },
    "01f186c60e984f07bbd05b542785faf7": {
     "model_module": "@jupyter-widgets/base",
     "model_name": "LayoutModel",
     "state": {
      "_model_module": "@jupyter-widgets/base",
      "_model_module_version": "1.2.0",
      "_model_name": "LayoutModel",
      "_view_count": null,
      "_view_module": "@jupyter-widgets/base",
      "_view_module_version": "1.2.0",
      "_view_name": "LayoutView",
      "align_content": null,
      "align_items": null,
      "align_self": null,
      "border": null,
      "bottom": null,
      "display": null,
      "flex": null,
      "flex_flow": null,
      "grid_area": null,
      "grid_auto_columns": null,
      "grid_auto_flow": null,
      "grid_auto_rows": null,
      "grid_column": null,
      "grid_gap": null,
      "grid_row": null,
      "grid_template_areas": null,
      "grid_template_columns": null,
      "grid_template_rows": null,
      "height": null,
      "justify_content": null,
      "justify_items": null,
      "left": null,
      "margin": null,
      "max_height": null,
      "max_width": null,
      "min_height": null,
      "min_width": null,
      "object_fit": null,
      "object_position": null,
      "order": null,
      "overflow": null,
      "overflow_x": null,
      "overflow_y": null,
      "padding": null,
      "right": null,
      "top": null,
      "visibility": null,
      "width": null
     }
    },
    "039b4c47cbcf4bd0b9f70b93ec3da43a": {
     "model_module": "@jupyter-widgets/base",
     "model_name": "LayoutModel",
     "state": {
      "_model_module": "@jupyter-widgets/base",
      "_model_module_version": "1.2.0",
      "_model_name": "LayoutModel",
      "_view_count": null,
      "_view_module": "@jupyter-widgets/base",
      "_view_module_version": "1.2.0",
      "_view_name": "LayoutView",
      "align_content": null,
      "align_items": null,
      "align_self": null,
      "border": null,
      "bottom": null,
      "display": null,
      "flex": null,
      "flex_flow": null,
      "grid_area": null,
      "grid_auto_columns": null,
      "grid_auto_flow": null,
      "grid_auto_rows": null,
      "grid_column": null,
      "grid_gap": null,
      "grid_row": null,
      "grid_template_areas": null,
      "grid_template_columns": null,
      "grid_template_rows": null,
      "height": null,
      "justify_content": null,
      "justify_items": null,
      "left": null,
      "margin": null,
      "max_height": null,
      "max_width": null,
      "min_height": null,
      "min_width": null,
      "object_fit": null,
      "object_position": null,
      "order": null,
      "overflow": null,
      "overflow_x": null,
      "overflow_y": null,
      "padding": null,
      "right": null,
      "top": null,
      "visibility": null,
      "width": null
     }
    },
    "09ad738fbb8040488fa86834e26819f9": {
     "model_module": "@jupyter-widgets/controls",
     "model_name": "HTMLModel",
     "state": {
      "_dom_classes": [],
      "_model_module": "@jupyter-widgets/controls",
      "_model_module_version": "1.5.0",
      "_model_name": "HTMLModel",
      "_view_count": null,
      "_view_module": "@jupyter-widgets/controls",
      "_view_module_version": "1.5.0",
      "_view_name": "HTMLView",
      "description": "",
      "description_tooltip": null,
      "layout": "IPY_MODEL_84107a1e297942a28461fc0b3d4fc192",
      "placeholder": "​",
      "style": "IPY_MODEL_84e7990a67bd4b3f95545ef8974e995f",
      "value": " 10/10 [12:54&lt;00:00, 77.43s/epoch]"
     }
    },
    "0f68ef5482a7415aa9b956d79692f937": {
     "model_module": "@jupyter-widgets/controls",
     "model_name": "HBoxModel",
     "state": {
      "_dom_classes": [],
      "_model_module": "@jupyter-widgets/controls",
      "_model_module_version": "1.5.0",
      "_model_name": "HBoxModel",
      "_view_count": null,
      "_view_module": "@jupyter-widgets/controls",
      "_view_module_version": "1.5.0",
      "_view_name": "HBoxView",
      "box_style": "",
      "children": [
       "IPY_MODEL_204a690889c04165b8b2931c96c8cfba",
       "IPY_MODEL_b492fb67f01a434e876b00945eb16657"
      ],
      "layout": "IPY_MODEL_8178b50311904fd9a086b63996fb0ec5"
     }
    },
    "150d8bfa107e4c74bda8393f4f04b8ad": {
     "model_module": "@jupyter-widgets/base",
     "model_name": "LayoutModel",
     "state": {
      "_model_module": "@jupyter-widgets/base",
      "_model_module_version": "1.2.0",
      "_model_name": "LayoutModel",
      "_view_count": null,
      "_view_module": "@jupyter-widgets/base",
      "_view_module_version": "1.2.0",
      "_view_name": "LayoutView",
      "align_content": null,
      "align_items": null,
      "align_self": null,
      "border": null,
      "bottom": null,
      "display": null,
      "flex": null,
      "flex_flow": null,
      "grid_area": null,
      "grid_auto_columns": null,
      "grid_auto_flow": null,
      "grid_auto_rows": null,
      "grid_column": null,
      "grid_gap": null,
      "grid_row": null,
      "grid_template_areas": null,
      "grid_template_columns": null,
      "grid_template_rows": null,
      "height": null,
      "justify_content": null,
      "justify_items": null,
      "left": null,
      "margin": null,
      "max_height": null,
      "max_width": null,
      "min_height": null,
      "min_width": null,
      "object_fit": null,
      "object_position": null,
      "order": null,
      "overflow": null,
      "overflow_x": null,
      "overflow_y": null,
      "padding": null,
      "right": null,
      "top": null,
      "visibility": null,
      "width": null
     }
    },
    "15b771ba42074ef49c02656467c293d8": {
     "model_module": "@jupyter-widgets/base",
     "model_name": "LayoutModel",
     "state": {
      "_model_module": "@jupyter-widgets/base",
      "_model_module_version": "1.2.0",
      "_model_name": "LayoutModel",
      "_view_count": null,
      "_view_module": "@jupyter-widgets/base",
      "_view_module_version": "1.2.0",
      "_view_name": "LayoutView",
      "align_content": null,
      "align_items": null,
      "align_self": null,
      "border": null,
      "bottom": null,
      "display": null,
      "flex": null,
      "flex_flow": null,
      "grid_area": null,
      "grid_auto_columns": null,
      "grid_auto_flow": null,
      "grid_auto_rows": null,
      "grid_column": null,
      "grid_gap": null,
      "grid_row": null,
      "grid_template_areas": null,
      "grid_template_columns": null,
      "grid_template_rows": null,
      "height": null,
      "justify_content": null,
      "justify_items": null,
      "left": null,
      "margin": null,
      "max_height": null,
      "max_width": null,
      "min_height": null,
      "min_width": null,
      "object_fit": null,
      "object_position": null,
      "order": null,
      "overflow": null,
      "overflow_x": null,
      "overflow_y": null,
      "padding": null,
      "right": null,
      "top": null,
      "visibility": null,
      "width": null
     }
    },
    "18fa991d008c49fabac3f2672acde582": {
     "model_module": "@jupyter-widgets/controls",
     "model_name": "ProgressStyleModel",
     "state": {
      "_model_module": "@jupyter-widgets/controls",
      "_model_module_version": "1.5.0",
      "_model_name": "ProgressStyleModel",
      "_view_count": null,
      "_view_module": "@jupyter-widgets/base",
      "_view_module_version": "1.2.0",
      "_view_name": "StyleView",
      "bar_color": null,
      "description_width": "initial"
     }
    },
    "1da2cef1a056407ab8b7abc9eeadd22d": {
     "model_module": "@jupyter-widgets/base",
     "model_name": "LayoutModel",
     "state": {
      "_model_module": "@jupyter-widgets/base",
      "_model_module_version": "1.2.0",
      "_model_name": "LayoutModel",
      "_view_count": null,
      "_view_module": "@jupyter-widgets/base",
      "_view_module_version": "1.2.0",
      "_view_name": "LayoutView",
      "align_content": null,
      "align_items": null,
      "align_self": null,
      "border": null,
      "bottom": null,
      "display": null,
      "flex": null,
      "flex_flow": null,
      "grid_area": null,
      "grid_auto_columns": null,
      "grid_auto_flow": null,
      "grid_auto_rows": null,
      "grid_column": null,
      "grid_gap": null,
      "grid_row": null,
      "grid_template_areas": null,
      "grid_template_columns": null,
      "grid_template_rows": null,
      "height": null,
      "justify_content": null,
      "justify_items": null,
      "left": null,
      "margin": null,
      "max_height": null,
      "max_width": null,
      "min_height": null,
      "min_width": null,
      "object_fit": null,
      "object_position": null,
      "order": null,
      "overflow": null,
      "overflow_x": null,
      "overflow_y": null,
      "padding": null,
      "right": null,
      "top": null,
      "visibility": null,
      "width": null
     }
    },
    "204a690889c04165b8b2931c96c8cfba": {
     "model_module": "@jupyter-widgets/controls",
     "model_name": "FloatProgressModel",
     "state": {
      "_dom_classes": [],
      "_model_module": "@jupyter-widgets/controls",
      "_model_module_version": "1.5.0",
      "_model_name": "FloatProgressModel",
      "_view_count": null,
      "_view_module": "@jupyter-widgets/controls",
      "_view_module_version": "1.5.0",
      "_view_name": "ProgressView",
      "bar_style": "success",
      "description": "epoch 7: 100%",
      "description_tooltip": null,
      "layout": "IPY_MODEL_b6aba8044a6848a5817cb4bca28f0f88",
      "max": 1813,
      "min": 0,
      "orientation": "horizontal",
      "style": "IPY_MODEL_0163e27d59c54400b0718ec37b3e9e28",
      "value": 1813
     }
    },
    "22b7391a49ca4275bbe4746762d8c8fc": {
     "model_module": "@jupyter-widgets/controls",
     "model_name": "ProgressStyleModel",
     "state": {
      "_model_module": "@jupyter-widgets/controls",
      "_model_module_version": "1.5.0",
      "_model_name": "ProgressStyleModel",
      "_view_count": null,
      "_view_module": "@jupyter-widgets/base",
      "_view_module_version": "1.2.0",
      "_view_name": "StyleView",
      "bar_color": null,
      "description_width": "initial"
     }
    },
    "236163622af14877aceee90e8bb743e9": {
     "model_module": "@jupyter-widgets/controls",
     "model_name": "FloatProgressModel",
     "state": {
      "_dom_classes": [],
      "_model_module": "@jupyter-widgets/controls",
      "_model_module_version": "1.5.0",
      "_model_name": "FloatProgressModel",
      "_view_count": null,
      "_view_module": "@jupyter-widgets/controls",
      "_view_module_version": "1.5.0",
      "_view_name": "ProgressView",
      "bar_style": "success",
      "description": "epoch 1: 100%",
      "description_tooltip": null,
      "layout": "IPY_MODEL_15b771ba42074ef49c02656467c293d8",
      "max": 1813,
      "min": 0,
      "orientation": "horizontal",
      "style": "IPY_MODEL_eb5374177fe542309eb216569dcfca8b",
      "value": 1813
     }
    },
    "2845a8f4078742f38b17018fdc25516d": {
     "model_module": "@jupyter-widgets/base",
     "model_name": "LayoutModel",
     "state": {
      "_model_module": "@jupyter-widgets/base",
      "_model_module_version": "1.2.0",
      "_model_name": "LayoutModel",
      "_view_count": null,
      "_view_module": "@jupyter-widgets/base",
      "_view_module_version": "1.2.0",
      "_view_name": "LayoutView",
      "align_content": null,
      "align_items": null,
      "align_self": null,
      "border": null,
      "bottom": null,
      "display": null,
      "flex": null,
      "flex_flow": null,
      "grid_area": null,
      "grid_auto_columns": null,
      "grid_auto_flow": null,
      "grid_auto_rows": null,
      "grid_column": null,
      "grid_gap": null,
      "grid_row": null,
      "grid_template_areas": null,
      "grid_template_columns": null,
      "grid_template_rows": null,
      "height": null,
      "justify_content": null,
      "justify_items": null,
      "left": null,
      "margin": null,
      "max_height": null,
      "max_width": null,
      "min_height": null,
      "min_width": null,
      "object_fit": null,
      "object_position": null,
      "order": null,
      "overflow": null,
      "overflow_x": null,
      "overflow_y": null,
      "padding": null,
      "right": null,
      "top": null,
      "visibility": null,
      "width": null
     }
    },
    "2913688950ed4fe3859347164d2a1188": {
     "model_module": "@jupyter-widgets/base",
     "model_name": "LayoutModel",
     "state": {
      "_model_module": "@jupyter-widgets/base",
      "_model_module_version": "1.2.0",
      "_model_name": "LayoutModel",
      "_view_count": null,
      "_view_module": "@jupyter-widgets/base",
      "_view_module_version": "1.2.0",
      "_view_name": "LayoutView",
      "align_content": null,
      "align_items": null,
      "align_self": null,
      "border": null,
      "bottom": null,
      "display": null,
      "flex": null,
      "flex_flow": null,
      "grid_area": null,
      "grid_auto_columns": null,
      "grid_auto_flow": null,
      "grid_auto_rows": null,
      "grid_column": null,
      "grid_gap": null,
      "grid_row": null,
      "grid_template_areas": null,
      "grid_template_columns": null,
      "grid_template_rows": null,
      "height": null,
      "justify_content": null,
      "justify_items": null,
      "left": null,
      "margin": null,
      "max_height": null,
      "max_width": null,
      "min_height": null,
      "min_width": null,
      "object_fit": null,
      "object_position": null,
      "order": null,
      "overflow": null,
      "overflow_x": null,
      "overflow_y": null,
      "padding": null,
      "right": null,
      "top": null,
      "visibility": null,
      "width": null
     }
    },
    "29c5e47d9efa46babe54db393bef4fcd": {
     "model_module": "@jupyter-widgets/controls",
     "model_name": "DescriptionStyleModel",
     "state": {
      "_model_module": "@jupyter-widgets/controls",
      "_model_module_version": "1.5.0",
      "_model_name": "DescriptionStyleModel",
      "_view_count": null,
      "_view_module": "@jupyter-widgets/base",
      "_view_module_version": "1.2.0",
      "_view_name": "StyleView",
      "description_width": ""
     }
    },
    "2f69cc650ad0475480c34fe20d043066": {
     "model_module": "@jupyter-widgets/controls",
     "model_name": "DescriptionStyleModel",
     "state": {
      "_model_module": "@jupyter-widgets/controls",
      "_model_module_version": "1.5.0",
      "_model_name": "DescriptionStyleModel",
      "_view_count": null,
      "_view_module": "@jupyter-widgets/base",
      "_view_module_version": "1.2.0",
      "_view_name": "StyleView",
      "description_width": ""
     }
    },
    "349de2ef227143e19f3df0e283f42306": {
     "model_module": "@jupyter-widgets/base",
     "model_name": "LayoutModel",
     "state": {
      "_model_module": "@jupyter-widgets/base",
      "_model_module_version": "1.2.0",
      "_model_name": "LayoutModel",
      "_view_count": null,
      "_view_module": "@jupyter-widgets/base",
      "_view_module_version": "1.2.0",
      "_view_name": "LayoutView",
      "align_content": null,
      "align_items": null,
      "align_self": null,
      "border": null,
      "bottom": null,
      "display": null,
      "flex": null,
      "flex_flow": null,
      "grid_area": null,
      "grid_auto_columns": null,
      "grid_auto_flow": null,
      "grid_auto_rows": null,
      "grid_column": null,
      "grid_gap": null,
      "grid_row": null,
      "grid_template_areas": null,
      "grid_template_columns": null,
      "grid_template_rows": null,
      "height": null,
      "justify_content": null,
      "justify_items": null,
      "left": null,
      "margin": null,
      "max_height": null,
      "max_width": null,
      "min_height": null,
      "min_width": null,
      "object_fit": null,
      "object_position": null,
      "order": null,
      "overflow": null,
      "overflow_x": null,
      "overflow_y": null,
      "padding": null,
      "right": null,
      "top": null,
      "visibility": null,
      "width": null
     }
    },
    "3cf47ad1d2234aaea0dba465130e3545": {
     "model_module": "@jupyter-widgets/controls",
     "model_name": "FloatProgressModel",
     "state": {
      "_dom_classes": [],
      "_model_module": "@jupyter-widgets/controls",
      "_model_module_version": "1.5.0",
      "_model_name": "FloatProgressModel",
      "_view_count": null,
      "_view_module": "@jupyter-widgets/controls",
      "_view_module_version": "1.5.0",
      "_view_name": "ProgressView",
      "bar_style": "success",
      "description": "epoch 10: 100%",
      "description_tooltip": null,
      "layout": "IPY_MODEL_2913688950ed4fe3859347164d2a1188",
      "max": 1813,
      "min": 0,
      "orientation": "horizontal",
      "style": "IPY_MODEL_97d01bb216004947a72b59c6cb4e33c2",
      "value": 1813
     }
    },
    "3cf4aa2303eb498eac2250f678c78d70": {
     "model_module": "@jupyter-widgets/base",
     "model_name": "LayoutModel",
     "state": {
      "_model_module": "@jupyter-widgets/base",
      "_model_module_version": "1.2.0",
      "_model_name": "LayoutModel",
      "_view_count": null,
      "_view_module": "@jupyter-widgets/base",
      "_view_module_version": "1.2.0",
      "_view_name": "LayoutView",
      "align_content": null,
      "align_items": null,
      "align_self": null,
      "border": null,
      "bottom": null,
      "display": null,
      "flex": null,
      "flex_flow": null,
      "grid_area": null,
      "grid_auto_columns": null,
      "grid_auto_flow": null,
      "grid_auto_rows": null,
      "grid_column": null,
      "grid_gap": null,
      "grid_row": null,
      "grid_template_areas": null,
      "grid_template_columns": null,
      "grid_template_rows": null,
      "height": null,
      "justify_content": null,
      "justify_items": null,
      "left": null,
      "margin": null,
      "max_height": null,
      "max_width": null,
      "min_height": null,
      "min_width": null,
      "object_fit": null,
      "object_position": null,
      "order": null,
      "overflow": null,
      "overflow_x": null,
      "overflow_y": null,
      "padding": null,
      "right": null,
      "top": null,
      "visibility": null,
      "width": null
     }
    },
    "403c4fca35934bc8ae09d5dab597e5e4": {
     "model_module": "@jupyter-widgets/controls",
     "model_name": "HTMLModel",
     "state": {
      "_dom_classes": [],
      "_model_module": "@jupyter-widgets/controls",
      "_model_module_version": "1.5.0",
      "_model_name": "HTMLModel",
      "_view_count": null,
      "_view_module": "@jupyter-widgets/controls",
      "_view_module_version": "1.5.0",
      "_view_name": "HTMLView",
      "description": "",
      "description_tooltip": null,
      "layout": "IPY_MODEL_9081e58f089f476899e30104b93f3d9f",
      "placeholder": "​",
      "style": "IPY_MODEL_29c5e47d9efa46babe54db393bef4fcd",
      "value": " 1813/1813 [12:54&lt;00:00,  2.34batch/s, mean_loss=2.17, validation_perplexity=14.4, validation_token_accuracy=53.3]"
     }
    },
    "405c6a496a81486fa0147df3453d6549": {
     "model_module": "@jupyter-widgets/controls",
     "model_name": "ProgressStyleModel",
     "state": {
      "_model_module": "@jupyter-widgets/controls",
      "_model_module_version": "1.5.0",
      "_model_name": "ProgressStyleModel",
      "_view_count": null,
      "_view_module": "@jupyter-widgets/base",
      "_view_module_version": "1.2.0",
      "_view_name": "StyleView",
      "bar_color": null,
      "description_width": "initial"
     }
    },
    "41778e980a4d4b6a97c5f7c2134b2504": {
     "model_module": "@jupyter-widgets/controls",
     "model_name": "HBoxModel",
     "state": {
      "_dom_classes": [],
      "_model_module": "@jupyter-widgets/controls",
      "_model_module_version": "1.5.0",
      "_model_name": "HBoxModel",
      "_view_count": null,
      "_view_module": "@jupyter-widgets/controls",
      "_view_module_version": "1.5.0",
      "_view_name": "HBoxView",
      "box_style": "",
      "children": [
       "IPY_MODEL_4f2660dbb9254ef6b7439b5795c9f9d4",
       "IPY_MODEL_85d315938f4e434cbd0bba699fede8ef"
      ],
      "layout": "IPY_MODEL_cb50029637bd436da9a9a2c798218006"
     }
    },
    "47a51cc0f356475588e1667dd463a75f": {
     "model_module": "@jupyter-widgets/base",
     "model_name": "LayoutModel",
     "state": {
      "_model_module": "@jupyter-widgets/base",
      "_model_module_version": "1.2.0",
      "_model_name": "LayoutModel",
      "_view_count": null,
      "_view_module": "@jupyter-widgets/base",
      "_view_module_version": "1.2.0",
      "_view_name": "LayoutView",
      "align_content": null,
      "align_items": null,
      "align_self": null,
      "border": null,
      "bottom": null,
      "display": null,
      "flex": null,
      "flex_flow": null,
      "grid_area": null,
      "grid_auto_columns": null,
      "grid_auto_flow": null,
      "grid_auto_rows": null,
      "grid_column": null,
      "grid_gap": null,
      "grid_row": null,
      "grid_template_areas": null,
      "grid_template_columns": null,
      "grid_template_rows": null,
      "height": null,
      "justify_content": null,
      "justify_items": null,
      "left": null,
      "margin": null,
      "max_height": null,
      "max_width": null,
      "min_height": null,
      "min_width": null,
      "object_fit": null,
      "object_position": null,
      "order": null,
      "overflow": null,
      "overflow_x": null,
      "overflow_y": null,
      "padding": null,
      "right": null,
      "top": null,
      "visibility": null,
      "width": null
     }
    },
    "4a83850479904d25ae3b0b66b6e6b5ee": {
     "model_module": "@jupyter-widgets/base",
     "model_name": "LayoutModel",
     "state": {
      "_model_module": "@jupyter-widgets/base",
      "_model_module_version": "1.2.0",
      "_model_name": "LayoutModel",
      "_view_count": null,
      "_view_module": "@jupyter-widgets/base",
      "_view_module_version": "1.2.0",
      "_view_name": "LayoutView",
      "align_content": null,
      "align_items": null,
      "align_self": null,
      "border": null,
      "bottom": null,
      "display": null,
      "flex": null,
      "flex_flow": null,
      "grid_area": null,
      "grid_auto_columns": null,
      "grid_auto_flow": null,
      "grid_auto_rows": null,
      "grid_column": null,
      "grid_gap": null,
      "grid_row": null,
      "grid_template_areas": null,
      "grid_template_columns": null,
      "grid_template_rows": null,
      "height": null,
      "justify_content": null,
      "justify_items": null,
      "left": null,
      "margin": null,
      "max_height": null,
      "max_width": null,
      "min_height": null,
      "min_width": null,
      "object_fit": null,
      "object_position": null,
      "order": null,
      "overflow": null,
      "overflow_x": null,
      "overflow_y": null,
      "padding": null,
      "right": null,
      "top": null,
      "visibility": null,
      "width": null
     }
    },
    "4ae799b369fd4a8badb68d4432f9982e": {
     "model_module": "@jupyter-widgets/controls",
     "model_name": "HBoxModel",
     "state": {
      "_dom_classes": [],
      "_model_module": "@jupyter-widgets/controls",
      "_model_module_version": "1.5.0",
      "_model_name": "HBoxModel",
      "_view_count": null,
      "_view_module": "@jupyter-widgets/controls",
      "_view_module_version": "1.5.0",
      "_view_name": "HBoxView",
      "box_style": "",
      "children": [
       "IPY_MODEL_4ffc59d08bd844ad832b9e3ed30e0780",
       "IPY_MODEL_f19071333f604f5a9b01a9ae42ece870"
      ],
      "layout": "IPY_MODEL_eac9861c6e204e99847538ecdfed4c72"
     }
    },
    "4b007a6ebba149e1885f0ccde5bf8e6a": {
     "model_module": "@jupyter-widgets/controls",
     "model_name": "HBoxModel",
     "state": {
      "_dom_classes": [],
      "_model_module": "@jupyter-widgets/controls",
      "_model_module_version": "1.5.0",
      "_model_name": "HBoxModel",
      "_view_count": null,
      "_view_module": "@jupyter-widgets/controls",
      "_view_module_version": "1.5.0",
      "_view_name": "HBoxView",
      "box_style": "",
      "children": [
       "IPY_MODEL_3cf47ad1d2234aaea0dba465130e3545",
       "IPY_MODEL_4d5b62266f05459cafb6b1ccf7b609b1"
      ],
      "layout": "IPY_MODEL_3cf4aa2303eb498eac2250f678c78d70"
     }
    },
    "4d5b62266f05459cafb6b1ccf7b609b1": {
     "model_module": "@jupyter-widgets/controls",
     "model_name": "HTMLModel",
     "state": {
      "_dom_classes": [],
      "_model_module": "@jupyter-widgets/controls",
      "_model_module_version": "1.5.0",
      "_model_name": "HTMLModel",
      "_view_count": null,
      "_view_module": "@jupyter-widgets/controls",
      "_view_module_version": "1.5.0",
      "_view_name": "HTMLView",
      "description": "",
      "description_tooltip": null,
      "layout": "IPY_MODEL_93df464090f44440a6065031fb1e34a1",
      "placeholder": "​",
      "style": "IPY_MODEL_b93bd6e063394e7c80956c84581571c5",
      "value": " 1813/1813 [02:58&lt;00:00, 10.15batch/s, mean_loss=0.836, validation_perplexity=6.29, validation_token_accuracy=64.8]"
     }
    },
    "4da55f40c5744907bb9caff87edaf389": {
     "model_module": "@jupyter-widgets/controls",
     "model_name": "HBoxModel",
     "state": {
      "_dom_classes": [],
      "_model_module": "@jupyter-widgets/controls",
      "_model_module_version": "1.5.0",
      "_model_name": "HBoxModel",
      "_view_count": null,
      "_view_module": "@jupyter-widgets/controls",
      "_view_module_version": "1.5.0",
      "_view_name": "HBoxView",
      "box_style": "",
      "children": [
       "IPY_MODEL_91b4e8ac398343eabb25de29fa6941a8",
       "IPY_MODEL_cecd42eb4c2b4de68587141f47957e41"
      ],
      "layout": "IPY_MODEL_854b7ccb2e954014b4aec737c7d0c8f0"
     }
    },
    "4f2660dbb9254ef6b7439b5795c9f9d4": {
     "model_module": "@jupyter-widgets/controls",
     "model_name": "FloatProgressModel",
     "state": {
      "_dom_classes": [],
      "_model_module": "@jupyter-widgets/controls",
      "_model_module_version": "1.5.0",
      "_model_name": "FloatProgressModel",
      "_view_count": null,
      "_view_module": "@jupyter-widgets/controls",
      "_view_module_version": "1.5.0",
      "_view_name": "ProgressView",
      "bar_style": "success",
      "description": "epoch 3: 100%",
      "description_tooltip": null,
      "layout": "IPY_MODEL_150d8bfa107e4c74bda8393f4f04b8ad",
      "max": 1813,
      "min": 0,
      "orientation": "horizontal",
      "style": "IPY_MODEL_9fd86e61a3f940558d693049e1bcb1e4",
      "value": 1813
     }
    },
    "4ffc59d08bd844ad832b9e3ed30e0780": {
     "model_module": "@jupyter-widgets/controls",
     "model_name": "FloatProgressModel",
     "state": {
      "_dom_classes": [],
      "_model_module": "@jupyter-widgets/controls",
      "_model_module_version": "1.5.0",
      "_model_name": "FloatProgressModel",
      "_view_count": null,
      "_view_module": "@jupyter-widgets/controls",
      "_view_module_version": "1.5.0",
      "_view_name": "ProgressView",
      "bar_style": "success",
      "description": "epoch 8: 100%",
      "description_tooltip": null,
      "layout": "IPY_MODEL_349de2ef227143e19f3df0e283f42306",
      "max": 1813,
      "min": 0,
      "orientation": "horizontal",
      "style": "IPY_MODEL_405c6a496a81486fa0147df3453d6549",
      "value": 1813
     }
    },
    "50ce579cd159482d8e3b164634a49a29": {
     "model_module": "@jupyter-widgets/controls",
     "model_name": "HTMLModel",
     "state": {
      "_dom_classes": [],
      "_model_module": "@jupyter-widgets/controls",
      "_model_module_version": "1.5.0",
      "_model_name": "HTMLModel",
      "_view_count": null,
      "_view_module": "@jupyter-widgets/controls",
      "_view_module_version": "1.5.0",
      "_view_name": "HTMLView",
      "description": "",
      "description_tooltip": null,
      "layout": "IPY_MODEL_2845a8f4078742f38b17018fdc25516d",
      "placeholder": "​",
      "style": "IPY_MODEL_012ebffbdbd54a0f827a9dae9ca06326",
      "value": " 1813/1813 [03:11&lt;00:00,  9.45batch/s, mean_loss=1.06, validation_perplexity=6.94, validation_token_accuracy=63.1]"
     }
    },
    "53fd93b9b53344f09977c39a3e61bd14": {
     "model_module": "@jupyter-widgets/controls",
     "model_name": "ProgressStyleModel",
     "state": {
      "_model_module": "@jupyter-widgets/controls",
      "_model_module_version": "1.5.0",
      "_model_name": "ProgressStyleModel",
      "_view_count": null,
      "_view_module": "@jupyter-widgets/base",
      "_view_module_version": "1.2.0",
      "_view_name": "StyleView",
      "bar_color": null,
      "description_width": "initial"
     }
    },
    "5d6959a62c7b4aa8a1f0aa7557589464": {
     "model_module": "@jupyter-widgets/controls",
     "model_name": "DescriptionStyleModel",
     "state": {
      "_model_module": "@jupyter-widgets/controls",
      "_model_module_version": "1.5.0",
      "_model_name": "DescriptionStyleModel",
      "_view_count": null,
      "_view_module": "@jupyter-widgets/base",
      "_view_module_version": "1.2.0",
      "_view_name": "StyleView",
      "description_width": ""
     }
    },
    "625b3b987ab84e93a668a6e015bb6410": {
     "model_module": "@jupyter-widgets/base",
     "model_name": "LayoutModel",
     "state": {
      "_model_module": "@jupyter-widgets/base",
      "_model_module_version": "1.2.0",
      "_model_name": "LayoutModel",
      "_view_count": null,
      "_view_module": "@jupyter-widgets/base",
      "_view_module_version": "1.2.0",
      "_view_name": "LayoutView",
      "align_content": null,
      "align_items": null,
      "align_self": null,
      "border": null,
      "bottom": null,
      "display": null,
      "flex": null,
      "flex_flow": null,
      "grid_area": null,
      "grid_auto_columns": null,
      "grid_auto_flow": null,
      "grid_auto_rows": null,
      "grid_column": null,
      "grid_gap": null,
      "grid_row": null,
      "grid_template_areas": null,
      "grid_template_columns": null,
      "grid_template_rows": null,
      "height": null,
      "justify_content": null,
      "justify_items": null,
      "left": null,
      "margin": null,
      "max_height": null,
      "max_width": null,
      "min_height": null,
      "min_width": null,
      "object_fit": null,
      "object_position": null,
      "order": null,
      "overflow": null,
      "overflow_x": null,
      "overflow_y": null,
      "padding": null,
      "right": null,
      "top": null,
      "visibility": null,
      "width": null
     }
    },
    "6808da4f641f4ef09e5704e734fb3b98": {
     "model_module": "@jupyter-widgets/controls",
     "model_name": "HBoxModel",
     "state": {
      "_dom_classes": [],
      "_model_module": "@jupyter-widgets/controls",
      "_model_module_version": "1.5.0",
      "_model_name": "HBoxModel",
      "_view_count": null,
      "_view_module": "@jupyter-widgets/controls",
      "_view_module_version": "1.5.0",
      "_view_name": "HBoxView",
      "box_style": "",
      "children": [
       "IPY_MODEL_a12f61c6b9cf4f4dbf6bbf923b1cb052",
       "IPY_MODEL_c3fc643ef4514b949cd7d3bd868dbafe"
      ],
      "layout": "IPY_MODEL_b0576a4df6314dd4923d66d80f4cdad8"
     }
    },
    "6c05ec4ec42e48878b8f5fddf6ea0d5a": {
     "model_module": "@jupyter-widgets/controls",
     "model_name": "HTMLModel",
     "state": {
      "_dom_classes": [],
      "_model_module": "@jupyter-widgets/controls",
      "_model_module_version": "1.5.0",
      "_model_name": "HTMLModel",
      "_view_count": null,
      "_view_module": "@jupyter-widgets/controls",
      "_view_module_version": "1.5.0",
      "_view_name": "HTMLView",
      "description": "",
      "description_tooltip": null,
      "layout": "IPY_MODEL_47a51cc0f356475588e1667dd463a75f",
      "placeholder": "​",
      "style": "IPY_MODEL_2f69cc650ad0475480c34fe20d043066",
      "value": " 1813/1813 [04:02&lt;00:00,  7.47batch/s, mean_loss=0.872, validation_perplexity=6.29, validation_token_accuracy=64.8]"
     }
    },
    "7059ef31403c42229b88a932b6a66e42": {
     "model_module": "@jupyter-widgets/controls",
     "model_name": "ProgressStyleModel",
     "state": {
      "_model_module": "@jupyter-widgets/controls",
      "_model_module_version": "1.5.0",
      "_model_name": "ProgressStyleModel",
      "_view_count": null,
      "_view_module": "@jupyter-widgets/base",
      "_view_module_version": "1.2.0",
      "_view_name": "StyleView",
      "bar_color": null,
      "description_width": "initial"
     }
    },
    "73920af72d7043b6bc4fac3956ced817": {
     "model_module": "@jupyter-widgets/controls",
     "model_name": "DescriptionStyleModel",
     "state": {
      "_model_module": "@jupyter-widgets/controls",
      "_model_module_version": "1.5.0",
      "_model_name": "DescriptionStyleModel",
      "_view_count": null,
      "_view_module": "@jupyter-widgets/base",
      "_view_module_version": "1.2.0",
      "_view_name": "StyleView",
      "description_width": ""
     }
    },
    "7813b0ed8afd47be86730f0130dce228": {
     "model_module": "@jupyter-widgets/controls",
     "model_name": "FloatProgressModel",
     "state": {
      "_dom_classes": [],
      "_model_module": "@jupyter-widgets/controls",
      "_model_module_version": "1.5.0",
      "_model_name": "FloatProgressModel",
      "_view_count": null,
      "_view_module": "@jupyter-widgets/controls",
      "_view_module_version": "1.5.0",
      "_view_name": "ProgressView",
      "bar_style": "success",
      "description": "training: 100%",
      "description_tooltip": null,
      "layout": "IPY_MODEL_c4e23f5c04e54d5da759647c7c091cc1",
      "max": 10,
      "min": 0,
      "orientation": "horizontal",
      "style": "IPY_MODEL_53fd93b9b53344f09977c39a3e61bd14",
      "value": 10
     }
    },
    "7fdd7fe3531c4a498440dcf8f0320393": {
     "model_module": "@jupyter-widgets/controls",
     "model_name": "FloatProgressModel",
     "state": {
      "_dom_classes": [],
      "_model_module": "@jupyter-widgets/controls",
      "_model_module_version": "1.5.0",
      "_model_name": "FloatProgressModel",
      "_view_count": null,
      "_view_module": "@jupyter-widgets/controls",
      "_view_module_version": "1.5.0",
      "_view_name": "ProgressView",
      "bar_style": "success",
      "description": "epoch 2: 100%",
      "description_tooltip": null,
      "layout": "IPY_MODEL_bc9718539b4a4d448d074870e5d3e487",
      "max": 1813,
      "min": 0,
      "orientation": "horizontal",
      "style": "IPY_MODEL_fd455e1e186b463bb066094674e324bd",
      "value": 1813
     }
    },
    "8178b50311904fd9a086b63996fb0ec5": {
     "model_module": "@jupyter-widgets/base",
     "model_name": "LayoutModel",
     "state": {
      "_model_module": "@jupyter-widgets/base",
      "_model_module_version": "1.2.0",
      "_model_name": "LayoutModel",
      "_view_count": null,
      "_view_module": "@jupyter-widgets/base",
      "_view_module_version": "1.2.0",
      "_view_name": "LayoutView",
      "align_content": null,
      "align_items": null,
      "align_self": null,
      "border": null,
      "bottom": null,
      "display": null,
      "flex": null,
      "flex_flow": null,
      "grid_area": null,
      "grid_auto_columns": null,
      "grid_auto_flow": null,
      "grid_auto_rows": null,
      "grid_column": null,
      "grid_gap": null,
      "grid_row": null,
      "grid_template_areas": null,
      "grid_template_columns": null,
      "grid_template_rows": null,
      "height": null,
      "justify_content": null,
      "justify_items": null,
      "left": null,
      "margin": null,
      "max_height": null,
      "max_width": null,
      "min_height": null,
      "min_width": null,
      "object_fit": null,
      "object_position": null,
      "order": null,
      "overflow": null,
      "overflow_x": null,
      "overflow_y": null,
      "padding": null,
      "right": null,
      "top": null,
      "visibility": null,
      "width": null
     }
    },
    "81b74506dad544a283f897ee835886d8": {
     "model_module": "@jupyter-widgets/controls",
     "model_name": "FloatProgressModel",
     "state": {
      "_dom_classes": [],
      "_model_module": "@jupyter-widgets/controls",
      "_model_module_version": "1.5.0",
      "_model_name": "FloatProgressModel",
      "_view_count": null,
      "_view_module": "@jupyter-widgets/controls",
      "_view_module_version": "1.5.0",
      "_view_name": "ProgressView",
      "bar_style": "success",
      "description": "epoch 9: 100%",
      "description_tooltip": null,
      "layout": "IPY_MODEL_625b3b987ab84e93a668a6e015bb6410",
      "max": 1813,
      "min": 0,
      "orientation": "horizontal",
      "style": "IPY_MODEL_7059ef31403c42229b88a932b6a66e42",
      "value": 1813
     }
    },
    "81dafadc528746d792e632c37bef3ee1": {
     "model_module": "@jupyter-widgets/base",
     "model_name": "LayoutModel",
     "state": {
      "_model_module": "@jupyter-widgets/base",
      "_model_module_version": "1.2.0",
      "_model_name": "LayoutModel",
      "_view_count": null,
      "_view_module": "@jupyter-widgets/base",
      "_view_module_version": "1.2.0",
      "_view_name": "LayoutView",
      "align_content": null,
      "align_items": null,
      "align_self": null,
      "border": null,
      "bottom": null,
      "display": null,
      "flex": null,
      "flex_flow": null,
      "grid_area": null,
      "grid_auto_columns": null,
      "grid_auto_flow": null,
      "grid_auto_rows": null,
      "grid_column": null,
      "grid_gap": null,
      "grid_row": null,
      "grid_template_areas": null,
      "grid_template_columns": null,
      "grid_template_rows": null,
      "height": null,
      "justify_content": null,
      "justify_items": null,
      "left": null,
      "margin": null,
      "max_height": null,
      "max_width": null,
      "min_height": null,
      "min_width": null,
      "object_fit": null,
      "object_position": null,
      "order": null,
      "overflow": null,
      "overflow_x": null,
      "overflow_y": null,
      "padding": null,
      "right": null,
      "top": null,
      "visibility": null,
      "width": null
     }
    },
    "84107a1e297942a28461fc0b3d4fc192": {
     "model_module": "@jupyter-widgets/base",
     "model_name": "LayoutModel",
     "state": {
      "_model_module": "@jupyter-widgets/base",
      "_model_module_version": "1.2.0",
      "_model_name": "LayoutModel",
      "_view_count": null,
      "_view_module": "@jupyter-widgets/base",
      "_view_module_version": "1.2.0",
      "_view_name": "LayoutView",
      "align_content": null,
      "align_items": null,
      "align_self": null,
      "border": null,
      "bottom": null,
      "display": null,
      "flex": null,
      "flex_flow": null,
      "grid_area": null,
      "grid_auto_columns": null,
      "grid_auto_flow": null,
      "grid_auto_rows": null,
      "grid_column": null,
      "grid_gap": null,
      "grid_row": null,
      "grid_template_areas": null,
      "grid_template_columns": null,
      "grid_template_rows": null,
      "height": null,
      "justify_content": null,
      "justify_items": null,
      "left": null,
      "margin": null,
      "max_height": null,
      "max_width": null,
      "min_height": null,
      "min_width": null,
      "object_fit": null,
      "object_position": null,
      "order": null,
      "overflow": null,
      "overflow_x": null,
      "overflow_y": null,
      "padding": null,
      "right": null,
      "top": null,
      "visibility": null,
      "width": null
     }
    },
    "84e7990a67bd4b3f95545ef8974e995f": {
     "model_module": "@jupyter-widgets/controls",
     "model_name": "DescriptionStyleModel",
     "state": {
      "_model_module": "@jupyter-widgets/controls",
      "_model_module_version": "1.5.0",
      "_model_name": "DescriptionStyleModel",
      "_view_count": null,
      "_view_module": "@jupyter-widgets/base",
      "_view_module_version": "1.2.0",
      "_view_name": "StyleView",
      "description_width": ""
     }
    },
    "854b7ccb2e954014b4aec737c7d0c8f0": {
     "model_module": "@jupyter-widgets/base",
     "model_name": "LayoutModel",
     "state": {
      "_model_module": "@jupyter-widgets/base",
      "_model_module_version": "1.2.0",
      "_model_name": "LayoutModel",
      "_view_count": null,
      "_view_module": "@jupyter-widgets/base",
      "_view_module_version": "1.2.0",
      "_view_name": "LayoutView",
      "align_content": null,
      "align_items": null,
      "align_self": null,
      "border": null,
      "bottom": null,
      "display": null,
      "flex": null,
      "flex_flow": null,
      "grid_area": null,
      "grid_auto_columns": null,
      "grid_auto_flow": null,
      "grid_auto_rows": null,
      "grid_column": null,
      "grid_gap": null,
      "grid_row": null,
      "grid_template_areas": null,
      "grid_template_columns": null,
      "grid_template_rows": null,
      "height": null,
      "justify_content": null,
      "justify_items": null,
      "left": null,
      "margin": null,
      "max_height": null,
      "max_width": null,
      "min_height": null,
      "min_width": null,
      "object_fit": null,
      "object_position": null,
      "order": null,
      "overflow": null,
      "overflow_x": null,
      "overflow_y": null,
      "padding": null,
      "right": null,
      "top": null,
      "visibility": null,
      "width": null
     }
    },
    "85d315938f4e434cbd0bba699fede8ef": {
     "model_module": "@jupyter-widgets/controls",
     "model_name": "HTMLModel",
     "state": {
      "_dom_classes": [],
      "_model_module": "@jupyter-widgets/controls",
      "_model_module_version": "1.5.0",
      "_model_name": "HTMLModel",
      "_view_count": null,
      "_view_module": "@jupyter-widgets/controls",
      "_view_module_version": "1.5.0",
      "_view_name": "HTMLView",
      "description": "",
      "description_tooltip": null,
      "layout": "IPY_MODEL_efd6c8cc70e040afad934b656f3f1a43",
      "placeholder": "​",
      "style": "IPY_MODEL_73920af72d7043b6bc4fac3956ced817",
      "value": " 1813/1813 [10:44&lt;00:00,  2.81batch/s, mean_loss=1.27, validation_perplexity=7.89, validation_token_accuracy=61.3]"
     }
    },
    "8cfdd4c7613643febe3f5e9cd0b89e5a": {
     "model_module": "@jupyter-widgets/base",
     "model_name": "LayoutModel",
     "state": {
      "_model_module": "@jupyter-widgets/base",
      "_model_module_version": "1.2.0",
      "_model_name": "LayoutModel",
      "_view_count": null,
      "_view_module": "@jupyter-widgets/base",
      "_view_module_version": "1.2.0",
      "_view_name": "LayoutView",
      "align_content": null,
      "align_items": null,
      "align_self": null,
      "border": null,
      "bottom": null,
      "display": null,
      "flex": null,
      "flex_flow": null,
      "grid_area": null,
      "grid_auto_columns": null,
      "grid_auto_flow": null,
      "grid_auto_rows": null,
      "grid_column": null,
      "grid_gap": null,
      "grid_row": null,
      "grid_template_areas": null,
      "grid_template_columns": null,
      "grid_template_rows": null,
      "height": null,
      "justify_content": null,
      "justify_items": null,
      "left": null,
      "margin": null,
      "max_height": null,
      "max_width": null,
      "min_height": null,
      "min_width": null,
      "object_fit": null,
      "object_position": null,
      "order": null,
      "overflow": null,
      "overflow_x": null,
      "overflow_y": null,
      "padding": null,
      "right": null,
      "top": null,
      "visibility": null,
      "width": null
     }
    },
    "8e773d2199cb441cbc66b0ee709ce0f1": {
     "model_module": "@jupyter-widgets/controls",
     "model_name": "DescriptionStyleModel",
     "state": {
      "_model_module": "@jupyter-widgets/controls",
      "_model_module_version": "1.5.0",
      "_model_name": "DescriptionStyleModel",
      "_view_count": null,
      "_view_module": "@jupyter-widgets/base",
      "_view_module_version": "1.2.0",
      "_view_name": "StyleView",
      "description_width": ""
     }
    },
    "9081e58f089f476899e30104b93f3d9f": {
     "model_module": "@jupyter-widgets/base",
     "model_name": "LayoutModel",
     "state": {
      "_model_module": "@jupyter-widgets/base",
      "_model_module_version": "1.2.0",
      "_model_name": "LayoutModel",
      "_view_count": null,
      "_view_module": "@jupyter-widgets/base",
      "_view_module_version": "1.2.0",
      "_view_name": "LayoutView",
      "align_content": null,
      "align_items": null,
      "align_self": null,
      "border": null,
      "bottom": null,
      "display": null,
      "flex": null,
      "flex_flow": null,
      "grid_area": null,
      "grid_auto_columns": null,
      "grid_auto_flow": null,
      "grid_auto_rows": null,
      "grid_column": null,
      "grid_gap": null,
      "grid_row": null,
      "grid_template_areas": null,
      "grid_template_columns": null,
      "grid_template_rows": null,
      "height": null,
      "justify_content": null,
      "justify_items": null,
      "left": null,
      "margin": null,
      "max_height": null,
      "max_width": null,
      "min_height": null,
      "min_width": null,
      "object_fit": null,
      "object_position": null,
      "order": null,
      "overflow": null,
      "overflow_x": null,
      "overflow_y": null,
      "padding": null,
      "right": null,
      "top": null,
      "visibility": null,
      "width": null
     }
    },
    "91b4e8ac398343eabb25de29fa6941a8": {
     "model_module": "@jupyter-widgets/controls",
     "model_name": "FloatProgressModel",
     "state": {
      "_dom_classes": [],
      "_model_module": "@jupyter-widgets/controls",
      "_model_module_version": "1.5.0",
      "_model_name": "FloatProgressModel",
      "_view_count": null,
      "_view_module": "@jupyter-widgets/controls",
      "_view_module_version": "1.5.0",
      "_view_name": "ProgressView",
      "bar_style": "success",
      "description": "epoch 4: 100%",
      "description_tooltip": null,
      "layout": "IPY_MODEL_01f186c60e984f07bbd05b542785faf7",
      "max": 1813,
      "min": 0,
      "orientation": "horizontal",
      "style": "IPY_MODEL_e2585032dc6746c38a2a410c5f514cfe",
      "value": 1813
     }
    },
    "93df464090f44440a6065031fb1e34a1": {
     "model_module": "@jupyter-widgets/base",
     "model_name": "LayoutModel",
     "state": {
      "_model_module": "@jupyter-widgets/base",
      "_model_module_version": "1.2.0",
      "_model_name": "LayoutModel",
      "_view_count": null,
      "_view_module": "@jupyter-widgets/base",
      "_view_module_version": "1.2.0",
      "_view_name": "LayoutView",
      "align_content": null,
      "align_items": null,
      "align_self": null,
      "border": null,
      "bottom": null,
      "display": null,
      "flex": null,
      "flex_flow": null,
      "grid_area": null,
      "grid_auto_columns": null,
      "grid_auto_flow": null,
      "grid_auto_rows": null,
      "grid_column": null,
      "grid_gap": null,
      "grid_row": null,
      "grid_template_areas": null,
      "grid_template_columns": null,
      "grid_template_rows": null,
      "height": null,
      "justify_content": null,
      "justify_items": null,
      "left": null,
      "margin": null,
      "max_height": null,
      "max_width": null,
      "min_height": null,
      "min_width": null,
      "object_fit": null,
      "object_position": null,
      "order": null,
      "overflow": null,
      "overflow_x": null,
      "overflow_y": null,
      "padding": null,
      "right": null,
      "top": null,
      "visibility": null,
      "width": null
     }
    },
    "96e3983f306b409ebfb16d03efd19e3a": {
     "model_module": "@jupyter-widgets/base",
     "model_name": "LayoutModel",
     "state": {
      "_model_module": "@jupyter-widgets/base",
      "_model_module_version": "1.2.0",
      "_model_name": "LayoutModel",
      "_view_count": null,
      "_view_module": "@jupyter-widgets/base",
      "_view_module_version": "1.2.0",
      "_view_name": "LayoutView",
      "align_content": null,
      "align_items": null,
      "align_self": null,
      "border": null,
      "bottom": null,
      "display": null,
      "flex": null,
      "flex_flow": null,
      "grid_area": null,
      "grid_auto_columns": null,
      "grid_auto_flow": null,
      "grid_auto_rows": null,
      "grid_column": null,
      "grid_gap": null,
      "grid_row": null,
      "grid_template_areas": null,
      "grid_template_columns": null,
      "grid_template_rows": null,
      "height": null,
      "justify_content": null,
      "justify_items": null,
      "left": null,
      "margin": null,
      "max_height": null,
      "max_width": null,
      "min_height": null,
      "min_width": null,
      "object_fit": null,
      "object_position": null,
      "order": null,
      "overflow": null,
      "overflow_x": null,
      "overflow_y": null,
      "padding": null,
      "right": null,
      "top": null,
      "visibility": null,
      "width": null
     }
    },
    "97d01bb216004947a72b59c6cb4e33c2": {
     "model_module": "@jupyter-widgets/controls",
     "model_name": "ProgressStyleModel",
     "state": {
      "_model_module": "@jupyter-widgets/controls",
      "_model_module_version": "1.5.0",
      "_model_name": "ProgressStyleModel",
      "_view_count": null,
      "_view_module": "@jupyter-widgets/base",
      "_view_module_version": "1.2.0",
      "_view_name": "StyleView",
      "bar_color": null,
      "description_width": "initial"
     }
    },
    "9fd86e61a3f940558d693049e1bcb1e4": {
     "model_module": "@jupyter-widgets/controls",
     "model_name": "ProgressStyleModel",
     "state": {
      "_model_module": "@jupyter-widgets/controls",
      "_model_module_version": "1.5.0",
      "_model_name": "ProgressStyleModel",
      "_view_count": null,
      "_view_module": "@jupyter-widgets/base",
      "_view_module_version": "1.2.0",
      "_view_name": "StyleView",
      "bar_color": null,
      "description_width": "initial"
     }
    },
    "a12f61c6b9cf4f4dbf6bbf923b1cb052": {
     "model_module": "@jupyter-widgets/controls",
     "model_name": "FloatProgressModel",
     "state": {
      "_dom_classes": [],
      "_model_module": "@jupyter-widgets/controls",
      "_model_module_version": "1.5.0",
      "_model_name": "FloatProgressModel",
      "_view_count": null,
      "_view_module": "@jupyter-widgets/controls",
      "_view_module_version": "1.5.0",
      "_view_name": "ProgressView",
      "bar_style": "success",
      "description": "epoch 6: 100%",
      "description_tooltip": null,
      "layout": "IPY_MODEL_4a83850479904d25ae3b0b66b6e6b5ee",
      "max": 1813,
      "min": 0,
      "orientation": "horizontal",
      "style": "IPY_MODEL_18fa991d008c49fabac3f2672acde582",
      "value": 1813
     }
    },
    "a634b54976154cdcb2b0b278f928053d": {
     "model_module": "@jupyter-widgets/base",
     "model_name": "LayoutModel",
     "state": {
      "_model_module": "@jupyter-widgets/base",
      "_model_module_version": "1.2.0",
      "_model_name": "LayoutModel",
      "_view_count": null,
      "_view_module": "@jupyter-widgets/base",
      "_view_module_version": "1.2.0",
      "_view_name": "LayoutView",
      "align_content": null,
      "align_items": null,
      "align_self": null,
      "border": null,
      "bottom": null,
      "display": null,
      "flex": null,
      "flex_flow": null,
      "grid_area": null,
      "grid_auto_columns": null,
      "grid_auto_flow": null,
      "grid_auto_rows": null,
      "grid_column": null,
      "grid_gap": null,
      "grid_row": null,
      "grid_template_areas": null,
      "grid_template_columns": null,
      "grid_template_rows": null,
      "height": null,
      "justify_content": null,
      "justify_items": null,
      "left": null,
      "margin": null,
      "max_height": null,
      "max_width": null,
      "min_height": null,
      "min_width": null,
      "object_fit": null,
      "object_position": null,
      "order": null,
      "overflow": null,
      "overflow_x": null,
      "overflow_y": null,
      "padding": null,
      "right": null,
      "top": null,
      "visibility": null,
      "width": null
     }
    },
    "a817203b8463465aaf879cb2f4e33ac2": {
     "model_module": "@jupyter-widgets/controls",
     "model_name": "HBoxModel",
     "state": {
      "_dom_classes": [],
      "_model_module": "@jupyter-widgets/controls",
      "_model_module_version": "1.5.0",
      "_model_name": "HBoxModel",
      "_view_count": null,
      "_view_module": "@jupyter-widgets/controls",
      "_view_module_version": "1.5.0",
      "_view_name": "HBoxView",
      "box_style": "",
      "children": [
       "IPY_MODEL_7813b0ed8afd47be86730f0130dce228",
       "IPY_MODEL_09ad738fbb8040488fa86834e26819f9"
      ],
      "layout": "IPY_MODEL_1da2cef1a056407ab8b7abc9eeadd22d"
     }
    },
    "b0576a4df6314dd4923d66d80f4cdad8": {
     "model_module": "@jupyter-widgets/base",
     "model_name": "LayoutModel",
     "state": {
      "_model_module": "@jupyter-widgets/base",
      "_model_module_version": "1.2.0",
      "_model_name": "LayoutModel",
      "_view_count": null,
      "_view_module": "@jupyter-widgets/base",
      "_view_module_version": "1.2.0",
      "_view_name": "LayoutView",
      "align_content": null,
      "align_items": null,
      "align_self": null,
      "border": null,
      "bottom": null,
      "display": null,
      "flex": null,
      "flex_flow": null,
      "grid_area": null,
      "grid_auto_columns": null,
      "grid_auto_flow": null,
      "grid_auto_rows": null,
      "grid_column": null,
      "grid_gap": null,
      "grid_row": null,
      "grid_template_areas": null,
      "grid_template_columns": null,
      "grid_template_rows": null,
      "height": null,
      "justify_content": null,
      "justify_items": null,
      "left": null,
      "margin": null,
      "max_height": null,
      "max_width": null,
      "min_height": null,
      "min_width": null,
      "object_fit": null,
      "object_position": null,
      "order": null,
      "overflow": null,
      "overflow_x": null,
      "overflow_y": null,
      "padding": null,
      "right": null,
      "top": null,
      "visibility": null,
      "width": null
     }
    },
    "b0ca80fbe6e84bd19e12b27327f7246b": {
     "model_module": "@jupyter-widgets/controls",
     "model_name": "HBoxModel",
     "state": {
      "_dom_classes": [],
      "_model_module": "@jupyter-widgets/controls",
      "_model_module_version": "1.5.0",
      "_model_name": "HBoxModel",
      "_view_count": null,
      "_view_module": "@jupyter-widgets/controls",
      "_view_module_version": "1.5.0",
      "_view_name": "HBoxView",
      "box_style": "",
      "children": [
       "IPY_MODEL_236163622af14877aceee90e8bb743e9",
       "IPY_MODEL_403c4fca35934bc8ae09d5dab597e5e4"
      ],
      "layout": "IPY_MODEL_dbc85c374333468095b206feb3c2e823"
     }
    },
    "b371b303af0344b798a29b3d8f5ff121": {
     "model_module": "@jupyter-widgets/controls",
     "model_name": "DescriptionStyleModel",
     "state": {
      "_model_module": "@jupyter-widgets/controls",
      "_model_module_version": "1.5.0",
      "_model_name": "DescriptionStyleModel",
      "_view_count": null,
      "_view_module": "@jupyter-widgets/base",
      "_view_module_version": "1.2.0",
      "_view_name": "StyleView",
      "description_width": ""
     }
    },
    "b492fb67f01a434e876b00945eb16657": {
     "model_module": "@jupyter-widgets/controls",
     "model_name": "HTMLModel",
     "state": {
      "_dom_classes": [],
      "_model_module": "@jupyter-widgets/controls",
      "_model_module_version": "1.5.0",
      "_model_name": "HTMLModel",
      "_view_count": null,
      "_view_module": "@jupyter-widgets/controls",
      "_view_module_version": "1.5.0",
      "_view_name": "HTMLView",
      "description": "",
      "description_tooltip": null,
      "layout": "IPY_MODEL_e2621d010cca4e299212580b470c19e4",
      "placeholder": "​",
      "style": "IPY_MODEL_5d6959a62c7b4aa8a1f0aa7557589464",
      "value": " 1813/1813 [06:28&lt;00:00,  4.67batch/s, mean_loss=0.944, validation_perplexity=6.33, validation_token_accuracy=65.1]"
     }
    },
    "b6366d63074c4d71b48ebf88a7e5c466": {
     "model_module": "@jupyter-widgets/controls",
     "model_name": "HBoxModel",
     "state": {
      "_dom_classes": [],
      "_model_module": "@jupyter-widgets/controls",
      "_model_module_version": "1.5.0",
      "_model_name": "HBoxModel",
      "_view_count": null,
      "_view_module": "@jupyter-widgets/controls",
      "_view_module_version": "1.5.0",
      "_view_name": "HBoxView",
      "box_style": "",
      "children": [
       "IPY_MODEL_b788f0e974f942c092277e2bfea28178",
       "IPY_MODEL_50ce579cd159482d8e3b164634a49a29"
      ],
      "layout": "IPY_MODEL_8cfdd4c7613643febe3f5e9cd0b89e5a"
     }
    },
    "b6aba8044a6848a5817cb4bca28f0f88": {
     "model_module": "@jupyter-widgets/base",
     "model_name": "LayoutModel",
     "state": {
      "_model_module": "@jupyter-widgets/base",
      "_model_module_version": "1.2.0",
      "_model_name": "LayoutModel",
      "_view_count": null,
      "_view_module": "@jupyter-widgets/base",
      "_view_module_version": "1.2.0",
      "_view_name": "LayoutView",
      "align_content": null,
      "align_items": null,
      "align_self": null,
      "border": null,
      "bottom": null,
      "display": null,
      "flex": null,
      "flex_flow": null,
      "grid_area": null,
      "grid_auto_columns": null,
      "grid_auto_flow": null,
      "grid_auto_rows": null,
      "grid_column": null,
      "grid_gap": null,
      "grid_row": null,
      "grid_template_areas": null,
      "grid_template_columns": null,
      "grid_template_rows": null,
      "height": null,
      "justify_content": null,
      "justify_items": null,
      "left": null,
      "margin": null,
      "max_height": null,
      "max_width": null,
      "min_height": null,
      "min_width": null,
      "object_fit": null,
      "object_position": null,
      "order": null,
      "overflow": null,
      "overflow_x": null,
      "overflow_y": null,
      "padding": null,
      "right": null,
      "top": null,
      "visibility": null,
      "width": null
     }
    },
    "b788f0e974f942c092277e2bfea28178": {
     "model_module": "@jupyter-widgets/controls",
     "model_name": "FloatProgressModel",
     "state": {
      "_dom_classes": [],
      "_model_module": "@jupyter-widgets/controls",
      "_model_module_version": "1.5.0",
      "_model_name": "FloatProgressModel",
      "_view_count": null,
      "_view_module": "@jupyter-widgets/controls",
      "_view_module_version": "1.5.0",
      "_view_name": "ProgressView",
      "bar_style": "success",
      "description": "epoch 5: 100%",
      "description_tooltip": null,
      "layout": "IPY_MODEL_039b4c47cbcf4bd0b9f70b93ec3da43a",
      "max": 1813,
      "min": 0,
      "orientation": "horizontal",
      "style": "IPY_MODEL_22b7391a49ca4275bbe4746762d8c8fc",
      "value": 1813
     }
    },
    "b93bd6e063394e7c80956c84581571c5": {
     "model_module": "@jupyter-widgets/controls",
     "model_name": "DescriptionStyleModel",
     "state": {
      "_model_module": "@jupyter-widgets/controls",
      "_model_module_version": "1.5.0",
      "_model_name": "DescriptionStyleModel",
      "_view_count": null,
      "_view_module": "@jupyter-widgets/base",
      "_view_module_version": "1.2.0",
      "_view_name": "StyleView",
      "description_width": ""
     }
    },
    "bc9718539b4a4d448d074870e5d3e487": {
     "model_module": "@jupyter-widgets/base",
     "model_name": "LayoutModel",
     "state": {
      "_model_module": "@jupyter-widgets/base",
      "_model_module_version": "1.2.0",
      "_model_name": "LayoutModel",
      "_view_count": null,
      "_view_module": "@jupyter-widgets/base",
      "_view_module_version": "1.2.0",
      "_view_name": "LayoutView",
      "align_content": null,
      "align_items": null,
      "align_self": null,
      "border": null,
      "bottom": null,
      "display": null,
      "flex": null,
      "flex_flow": null,
      "grid_area": null,
      "grid_auto_columns": null,
      "grid_auto_flow": null,
      "grid_auto_rows": null,
      "grid_column": null,
      "grid_gap": null,
      "grid_row": null,
      "grid_template_areas": null,
      "grid_template_columns": null,
      "grid_template_rows": null,
      "height": null,
      "justify_content": null,
      "justify_items": null,
      "left": null,
      "margin": null,
      "max_height": null,
      "max_width": null,
      "min_height": null,
      "min_width": null,
      "object_fit": null,
      "object_position": null,
      "order": null,
      "overflow": null,
      "overflow_x": null,
      "overflow_y": null,
      "padding": null,
      "right": null,
      "top": null,
      "visibility": null,
      "width": null
     }
    },
    "bd64aca57d4849aca946f00cb5282b40": {
     "model_module": "@jupyter-widgets/controls",
     "model_name": "DescriptionStyleModel",
     "state": {
      "_model_module": "@jupyter-widgets/controls",
      "_model_module_version": "1.5.0",
      "_model_name": "DescriptionStyleModel",
      "_view_count": null,
      "_view_module": "@jupyter-widgets/base",
      "_view_module_version": "1.2.0",
      "_view_name": "StyleView",
      "description_width": ""
     }
    },
    "c3fc643ef4514b949cd7d3bd868dbafe": {
     "model_module": "@jupyter-widgets/controls",
     "model_name": "HTMLModel",
     "state": {
      "_dom_classes": [],
      "_model_module": "@jupyter-widgets/controls",
      "_model_module_version": "1.5.0",
      "_model_name": "HTMLModel",
      "_view_count": null,
      "_view_module": "@jupyter-widgets/controls",
      "_view_module_version": "1.5.0",
      "_view_name": "HTMLView",
      "description": "",
      "description_tooltip": null,
      "layout": "IPY_MODEL_96e3983f306b409ebfb16d03efd19e3a",
      "placeholder": "​",
      "style": "IPY_MODEL_b371b303af0344b798a29b3d8f5ff121",
      "value": " 1813/1813 [02:08&lt;00:00, 14.15batch/s, mean_loss=0.996, validation_perplexity=6.58, validation_token_accuracy=63.9]"
     }
    },
    "c4e23f5c04e54d5da759647c7c091cc1": {
     "model_module": "@jupyter-widgets/base",
     "model_name": "LayoutModel",
     "state": {
      "_model_module": "@jupyter-widgets/base",
      "_model_module_version": "1.2.0",
      "_model_name": "LayoutModel",
      "_view_count": null,
      "_view_module": "@jupyter-widgets/base",
      "_view_module_version": "1.2.0",
      "_view_name": "LayoutView",
      "align_content": null,
      "align_items": null,
      "align_self": null,
      "border": null,
      "bottom": null,
      "display": null,
      "flex": null,
      "flex_flow": null,
      "grid_area": null,
      "grid_auto_columns": null,
      "grid_auto_flow": null,
      "grid_auto_rows": null,
      "grid_column": null,
      "grid_gap": null,
      "grid_row": null,
      "grid_template_areas": null,
      "grid_template_columns": null,
      "grid_template_rows": null,
      "height": null,
      "justify_content": null,
      "justify_items": null,
      "left": null,
      "margin": null,
      "max_height": null,
      "max_width": null,
      "min_height": null,
      "min_width": null,
      "object_fit": null,
      "object_position": null,
      "order": null,
      "overflow": null,
      "overflow_x": null,
      "overflow_y": null,
      "padding": null,
      "right": null,
      "top": null,
      "visibility": null,
      "width": null
     }
    },
    "cb50029637bd436da9a9a2c798218006": {
     "model_module": "@jupyter-widgets/base",
     "model_name": "LayoutModel",
     "state": {
      "_model_module": "@jupyter-widgets/base",
      "_model_module_version": "1.2.0",
      "_model_name": "LayoutModel",
      "_view_count": null,
      "_view_module": "@jupyter-widgets/base",
      "_view_module_version": "1.2.0",
      "_view_name": "LayoutView",
      "align_content": null,
      "align_items": null,
      "align_self": null,
      "border": null,
      "bottom": null,
      "display": null,
      "flex": null,
      "flex_flow": null,
      "grid_area": null,
      "grid_auto_columns": null,
      "grid_auto_flow": null,
      "grid_auto_rows": null,
      "grid_column": null,
      "grid_gap": null,
      "grid_row": null,
      "grid_template_areas": null,
      "grid_template_columns": null,
      "grid_template_rows": null,
      "height": null,
      "justify_content": null,
      "justify_items": null,
      "left": null,
      "margin": null,
      "max_height": null,
      "max_width": null,
      "min_height": null,
      "min_width": null,
      "object_fit": null,
      "object_position": null,
      "order": null,
      "overflow": null,
      "overflow_x": null,
      "overflow_y": null,
      "padding": null,
      "right": null,
      "top": null,
      "visibility": null,
      "width": null
     }
    },
    "ce5199065cda4adfa3293e04078a7530": {
     "model_module": "@jupyter-widgets/controls",
     "model_name": "DescriptionStyleModel",
     "state": {
      "_model_module": "@jupyter-widgets/controls",
      "_model_module_version": "1.5.0",
      "_model_name": "DescriptionStyleModel",
      "_view_count": null,
      "_view_module": "@jupyter-widgets/base",
      "_view_module_version": "1.2.0",
      "_view_name": "StyleView",
      "description_width": ""
     }
    },
    "cecd42eb4c2b4de68587141f47957e41": {
     "model_module": "@jupyter-widgets/controls",
     "model_name": "HTMLModel",
     "state": {
      "_dom_classes": [],
      "_model_module": "@jupyter-widgets/controls",
      "_model_module_version": "1.5.0",
      "_model_name": "HTMLModel",
      "_view_count": null,
      "_view_module": "@jupyter-widgets/controls",
      "_view_module_version": "1.5.0",
      "_view_name": "HTMLView",
      "description": "",
      "description_tooltip": null,
      "layout": "IPY_MODEL_d969c0ab2b414bf98ba6f2bba5ec2338",
      "placeholder": "​",
      "style": "IPY_MODEL_bd64aca57d4849aca946f00cb5282b40",
      "value": " 1813/1813 [04:16&lt;00:00,  7.08batch/s, mean_loss=1.15, validation_perplexity=7.19, validation_token_accuracy=62.4]"
     }
    },
    "cf11b6739ddd422ab04ad99f1b062383": {
     "model_module": "@jupyter-widgets/controls",
     "model_name": "HBoxModel",
     "state": {
      "_dom_classes": [],
      "_model_module": "@jupyter-widgets/controls",
      "_model_module_version": "1.5.0",
      "_model_name": "HBoxModel",
      "_view_count": null,
      "_view_module": "@jupyter-widgets/controls",
      "_view_module_version": "1.5.0",
      "_view_name": "HBoxView",
      "box_style": "",
      "children": [
       "IPY_MODEL_7fdd7fe3531c4a498440dcf8f0320393",
       "IPY_MODEL_ef463456675a4a07b89657101a8becb2"
      ],
      "layout": "IPY_MODEL_ef074afb16a6459e8105dace4bfb3b22"
     }
    },
    "d969c0ab2b414bf98ba6f2bba5ec2338": {
     "model_module": "@jupyter-widgets/base",
     "model_name": "LayoutModel",
     "state": {
      "_model_module": "@jupyter-widgets/base",
      "_model_module_version": "1.2.0",
      "_model_name": "LayoutModel",
      "_view_count": null,
      "_view_module": "@jupyter-widgets/base",
      "_view_module_version": "1.2.0",
      "_view_name": "LayoutView",
      "align_content": null,
      "align_items": null,
      "align_self": null,
      "border": null,
      "bottom": null,
      "display": null,
      "flex": null,
      "flex_flow": null,
      "grid_area": null,
      "grid_auto_columns": null,
      "grid_auto_flow": null,
      "grid_auto_rows": null,
      "grid_column": null,
      "grid_gap": null,
      "grid_row": null,
      "grid_template_areas": null,
      "grid_template_columns": null,
      "grid_template_rows": null,
      "height": null,
      "justify_content": null,
      "justify_items": null,
      "left": null,
      "margin": null,
      "max_height": null,
      "max_width": null,
      "min_height": null,
      "min_width": null,
      "object_fit": null,
      "object_position": null,
      "order": null,
      "overflow": null,
      "overflow_x": null,
      "overflow_y": null,
      "padding": null,
      "right": null,
      "top": null,
      "visibility": null,
      "width": null
     }
    },
    "dbc85c374333468095b206feb3c2e823": {
     "model_module": "@jupyter-widgets/base",
     "model_name": "LayoutModel",
     "state": {
      "_model_module": "@jupyter-widgets/base",
      "_model_module_version": "1.2.0",
      "_model_name": "LayoutModel",
      "_view_count": null,
      "_view_module": "@jupyter-widgets/base",
      "_view_module_version": "1.2.0",
      "_view_name": "LayoutView",
      "align_content": null,
      "align_items": null,
      "align_self": null,
      "border": null,
      "bottom": null,
      "display": null,
      "flex": null,
      "flex_flow": null,
      "grid_area": null,
      "grid_auto_columns": null,
      "grid_auto_flow": null,
      "grid_auto_rows": null,
      "grid_column": null,
      "grid_gap": null,
      "grid_row": null,
      "grid_template_areas": null,
      "grid_template_columns": null,
      "grid_template_rows": null,
      "height": null,
      "justify_content": null,
      "justify_items": null,
      "left": null,
      "margin": null,
      "max_height": null,
      "max_width": null,
      "min_height": null,
      "min_width": null,
      "object_fit": null,
      "object_position": null,
      "order": null,
      "overflow": null,
      "overflow_x": null,
      "overflow_y": null,
      "padding": null,
      "right": null,
      "top": null,
      "visibility": null,
      "width": null
     }
    },
    "e2585032dc6746c38a2a410c5f514cfe": {
     "model_module": "@jupyter-widgets/controls",
     "model_name": "ProgressStyleModel",
     "state": {
      "_model_module": "@jupyter-widgets/controls",
      "_model_module_version": "1.5.0",
      "_model_name": "ProgressStyleModel",
      "_view_count": null,
      "_view_module": "@jupyter-widgets/base",
      "_view_module_version": "1.2.0",
      "_view_name": "StyleView",
      "bar_color": null,
      "description_width": "initial"
     }
    },
    "e2621d010cca4e299212580b470c19e4": {
     "model_module": "@jupyter-widgets/base",
     "model_name": "LayoutModel",
     "state": {
      "_model_module": "@jupyter-widgets/base",
      "_model_module_version": "1.2.0",
      "_model_name": "LayoutModel",
      "_view_count": null,
      "_view_module": "@jupyter-widgets/base",
      "_view_module_version": "1.2.0",
      "_view_name": "LayoutView",
      "align_content": null,
      "align_items": null,
      "align_self": null,
      "border": null,
      "bottom": null,
      "display": null,
      "flex": null,
      "flex_flow": null,
      "grid_area": null,
      "grid_auto_columns": null,
      "grid_auto_flow": null,
      "grid_auto_rows": null,
      "grid_column": null,
      "grid_gap": null,
      "grid_row": null,
      "grid_template_areas": null,
      "grid_template_columns": null,
      "grid_template_rows": null,
      "height": null,
      "justify_content": null,
      "justify_items": null,
      "left": null,
      "margin": null,
      "max_height": null,
      "max_width": null,
      "min_height": null,
      "min_width": null,
      "object_fit": null,
      "object_position": null,
      "order": null,
      "overflow": null,
      "overflow_x": null,
      "overflow_y": null,
      "padding": null,
      "right": null,
      "top": null,
      "visibility": null,
      "width": null
     }
    },
    "e373451e38c4495faa387474117c5c8e": {
     "model_module": "@jupyter-widgets/controls",
     "model_name": "HBoxModel",
     "state": {
      "_dom_classes": [],
      "_model_module": "@jupyter-widgets/controls",
      "_model_module_version": "1.5.0",
      "_model_name": "HBoxModel",
      "_view_count": null,
      "_view_module": "@jupyter-widgets/controls",
      "_view_module_version": "1.5.0",
      "_view_name": "HBoxView",
      "box_style": "",
      "children": [
       "IPY_MODEL_81b74506dad544a283f897ee835886d8",
       "IPY_MODEL_6c05ec4ec42e48878b8f5fddf6ea0d5a"
      ],
      "layout": "IPY_MODEL_a634b54976154cdcb2b0b278f928053d"
     }
    },
    "eac9861c6e204e99847538ecdfed4c72": {
     "model_module": "@jupyter-widgets/base",
     "model_name": "LayoutModel",
     "state": {
      "_model_module": "@jupyter-widgets/base",
      "_model_module_version": "1.2.0",
      "_model_name": "LayoutModel",
      "_view_count": null,
      "_view_module": "@jupyter-widgets/base",
      "_view_module_version": "1.2.0",
      "_view_name": "LayoutView",
      "align_content": null,
      "align_items": null,
      "align_self": null,
      "border": null,
      "bottom": null,
      "display": null,
      "flex": null,
      "flex_flow": null,
      "grid_area": null,
      "grid_auto_columns": null,
      "grid_auto_flow": null,
      "grid_auto_rows": null,
      "grid_column": null,
      "grid_gap": null,
      "grid_row": null,
      "grid_template_areas": null,
      "grid_template_columns": null,
      "grid_template_rows": null,
      "height": null,
      "justify_content": null,
      "justify_items": null,
      "left": null,
      "margin": null,
      "max_height": null,
      "max_width": null,
      "min_height": null,
      "min_width": null,
      "object_fit": null,
      "object_position": null,
      "order": null,
      "overflow": null,
      "overflow_x": null,
      "overflow_y": null,
      "padding": null,
      "right": null,
      "top": null,
      "visibility": null,
      "width": null
     }
    },
    "eb5374177fe542309eb216569dcfca8b": {
     "model_module": "@jupyter-widgets/controls",
     "model_name": "ProgressStyleModel",
     "state": {
      "_model_module": "@jupyter-widgets/controls",
      "_model_module_version": "1.5.0",
      "_model_name": "ProgressStyleModel",
      "_view_count": null,
      "_view_module": "@jupyter-widgets/base",
      "_view_module_version": "1.2.0",
      "_view_name": "StyleView",
      "bar_color": null,
      "description_width": "initial"
     }
    },
    "ef074afb16a6459e8105dace4bfb3b22": {
     "model_module": "@jupyter-widgets/base",
     "model_name": "LayoutModel",
     "state": {
      "_model_module": "@jupyter-widgets/base",
      "_model_module_version": "1.2.0",
      "_model_name": "LayoutModel",
      "_view_count": null,
      "_view_module": "@jupyter-widgets/base",
      "_view_module_version": "1.2.0",
      "_view_name": "LayoutView",
      "align_content": null,
      "align_items": null,
      "align_self": null,
      "border": null,
      "bottom": null,
      "display": null,
      "flex": null,
      "flex_flow": null,
      "grid_area": null,
      "grid_auto_columns": null,
      "grid_auto_flow": null,
      "grid_auto_rows": null,
      "grid_column": null,
      "grid_gap": null,
      "grid_row": null,
      "grid_template_areas": null,
      "grid_template_columns": null,
      "grid_template_rows": null,
      "height": null,
      "justify_content": null,
      "justify_items": null,
      "left": null,
      "margin": null,
      "max_height": null,
      "max_width": null,
      "min_height": null,
      "min_width": null,
      "object_fit": null,
      "object_position": null,
      "order": null,
      "overflow": null,
      "overflow_x": null,
      "overflow_y": null,
      "padding": null,
      "right": null,
      "top": null,
      "visibility": null,
      "width": null
     }
    },
    "ef463456675a4a07b89657101a8becb2": {
     "model_module": "@jupyter-widgets/controls",
     "model_name": "HTMLModel",
     "state": {
      "_dom_classes": [],
      "_model_module": "@jupyter-widgets/controls",
      "_model_module_version": "1.5.0",
      "_model_name": "HTMLModel",
      "_view_count": null,
      "_view_module": "@jupyter-widgets/controls",
      "_view_module_version": "1.5.0",
      "_view_name": "HTMLView",
      "description": "",
      "description_tooltip": null,
      "layout": "IPY_MODEL_81dafadc528746d792e632c37bef3ee1",
      "placeholder": "​",
      "style": "IPY_MODEL_ce5199065cda4adfa3293e04078a7530",
      "value": " 1813/1813 [02:08&lt;00:00, 14.12batch/s, mean_loss=1.49, validation_perplexity=9.38, validation_token_accuracy=58.9]"
     }
    },
    "efd6c8cc70e040afad934b656f3f1a43": {
     "model_module": "@jupyter-widgets/base",
     "model_name": "LayoutModel",
     "state": {
      "_model_module": "@jupyter-widgets/base",
      "_model_module_version": "1.2.0",
      "_model_name": "LayoutModel",
      "_view_count": null,
      "_view_module": "@jupyter-widgets/base",
      "_view_module_version": "1.2.0",
      "_view_name": "LayoutView",
      "align_content": null,
      "align_items": null,
      "align_self": null,
      "border": null,
      "bottom": null,
      "display": null,
      "flex": null,
      "flex_flow": null,
      "grid_area": null,
      "grid_auto_columns": null,
      "grid_auto_flow": null,
      "grid_auto_rows": null,
      "grid_column": null,
      "grid_gap": null,
      "grid_row": null,
      "grid_template_areas": null,
      "grid_template_columns": null,
      "grid_template_rows": null,
      "height": null,
      "justify_content": null,
      "justify_items": null,
      "left": null,
      "margin": null,
      "max_height": null,
      "max_width": null,
      "min_height": null,
      "min_width": null,
      "object_fit": null,
      "object_position": null,
      "order": null,
      "overflow": null,
      "overflow_x": null,
      "overflow_y": null,
      "padding": null,
      "right": null,
      "top": null,
      "visibility": null,
      "width": null
     }
    },
    "f10d85fc84804176a0ddaac230f07657": {
     "model_module": "@jupyter-widgets/base",
     "model_name": "LayoutModel",
     "state": {
      "_model_module": "@jupyter-widgets/base",
      "_model_module_version": "1.2.0",
      "_model_name": "LayoutModel",
      "_view_count": null,
      "_view_module": "@jupyter-widgets/base",
      "_view_module_version": "1.2.0",
      "_view_name": "LayoutView",
      "align_content": null,
      "align_items": null,
      "align_self": null,
      "border": null,
      "bottom": null,
      "display": null,
      "flex": null,
      "flex_flow": null,
      "grid_area": null,
      "grid_auto_columns": null,
      "grid_auto_flow": null,
      "grid_auto_rows": null,
      "grid_column": null,
      "grid_gap": null,
      "grid_row": null,
      "grid_template_areas": null,
      "grid_template_columns": null,
      "grid_template_rows": null,
      "height": null,
      "justify_content": null,
      "justify_items": null,
      "left": null,
      "margin": null,
      "max_height": null,
      "max_width": null,
      "min_height": null,
      "min_width": null,
      "object_fit": null,
      "object_position": null,
      "order": null,
      "overflow": null,
      "overflow_x": null,
      "overflow_y": null,
      "padding": null,
      "right": null,
      "top": null,
      "visibility": null,
      "width": null
     }
    },
    "f19071333f604f5a9b01a9ae42ece870": {
     "model_module": "@jupyter-widgets/controls",
     "model_name": "HTMLModel",
     "state": {
      "_dom_classes": [],
      "_model_module": "@jupyter-widgets/controls",
      "_model_module_version": "1.5.0",
      "_model_name": "HTMLModel",
      "_view_count": null,
      "_view_module": "@jupyter-widgets/controls",
      "_view_module_version": "1.5.0",
      "_view_name": "HTMLView",
      "description": "",
      "description_tooltip": null,
      "layout": "IPY_MODEL_f10d85fc84804176a0ddaac230f07657",
      "placeholder": "​",
      "style": "IPY_MODEL_8e773d2199cb441cbc66b0ee709ce0f1",
      "value": " 1813/1813 [05:07&lt;00:00,  5.90batch/s, mean_loss=0.899, validation_perplexity=6.29, validation_token_accuracy=65]"
     }
    },
    "fd455e1e186b463bb066094674e324bd": {
     "model_module": "@jupyter-widgets/controls",
     "model_name": "ProgressStyleModel",
     "state": {
      "_model_module": "@jupyter-widgets/controls",
      "_model_module_version": "1.5.0",
      "_model_name": "ProgressStyleModel",
      "_view_count": null,
      "_view_module": "@jupyter-widgets/base",
      "_view_module_version": "1.2.0",
      "_view_name": "StyleView",
      "bar_color": null,
      "description_width": "initial"
     }
    }
   }
  }
 },
 "nbformat": 4,
 "nbformat_minor": 4
}
